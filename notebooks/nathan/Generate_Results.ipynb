{
 "cells": [
  {
   "cell_type": "code",
   "execution_count": 1,
   "metadata": {},
   "outputs": [],
   "source": [
    "import networkx as nx\n",
    "import numpy as np\n",
    "import pandas as pd"
   ]
  },
  {
   "cell_type": "code",
   "execution_count": 2,
   "metadata": {},
   "outputs": [],
   "source": [
    "import torch"
   ]
  },
  {
   "cell_type": "code",
   "execution_count": 3,
   "metadata": {},
   "outputs": [
    {
     "name": "stderr",
     "output_type": "stream",
     "text": [
      "comet_ml is installed but `COMET_API_KEY` is not set.\n"
     ]
    }
   ],
   "source": [
    "import os\n",
    "from sys import platform\n",
    "\n",
    "if platform == 'win32':\n",
    "    os.chdir('/'.join(os.getcwd().split('\\\\')[:-2]))\n",
    "else:\n",
    "    os.chdir('/'.join(os.getcwd().split('/')[:-2]))\n",
    "from src import *"
   ]
  },
  {
   "cell_type": "code",
   "execution_count": 4,
   "metadata": {},
   "outputs": [],
   "source": [
    "from ogb.nodeproppred import PygNodePropPredDataset"
   ]
  },
  {
   "cell_type": "code",
   "execution_count": 5,
   "metadata": {},
   "outputs": [],
   "source": [
    "try:\n",
    "    past_nc_res_df = pd.read_csv('./results/node_class.csv')\n",
    "except:\n",
    "    past_nc_res_df = pd.DataFrame(columns=['Acc','Std','Max','Runs','Embed','PCA','Reg','Dataset','Agg'])\n",
    "    \n",
    "try:\n",
    "    past_ep_res_df = pd.read_csv('./results/edge_pred.csv')\n",
    "except:\n",
    "    past_ep_res_df = pd.DataFrame(columns=['AUC','Std','Max','Runs','Embed','PCA','Reg','Dataset','Agg'])"
   ]
  },
  {
   "cell_type": "code",
   "execution_count": 6,
   "metadata": {},
   "outputs": [],
   "source": [
    "ep_results_dict = {\n",
    "    'AUC':[],\n",
    "    'Std':[],\n",
    "    'Max':[],\n",
    "    'Runs':[],\n",
    "    'Embed':[],\n",
    "    'PCA':[],\n",
    "    'Reg':[],\n",
    "    'Dataset':[],\n",
    "    'Agg':[]\n",
    "}"
   ]
  },
  {
   "cell_type": "code",
   "execution_count": 7,
   "metadata": {},
   "outputs": [],
   "source": [
    "nc_results_dict = {\n",
    "    'Acc':[],\n",
    "    'Std':[],\n",
    "    'Max':[],\n",
    "    'Runs':[],\n",
    "    'Embed':[],\n",
    "    'PCA':[],\n",
    "    'Reg':[],\n",
    "    'Dataset':[],\n",
    "    'Agg':[]\n",
    "}"
   ]
  },
  {
   "cell_type": "code",
   "execution_count": 8,
   "metadata": {},
   "outputs": [],
   "source": [
    "def run_edge(dataset, num_runs, features, pca, reg):\n",
    "    edge_results = run_edge_prediction(dataset, num_runs,features=features, pca=pca, reg=reg)\n",
    "    \n",
    "    df = pd.DataFrame(edge_results)\n",
    "    \n",
    "    display(df.mean())\n",
    "    display(df.std())\n",
    "    display(df.max())\n",
    "    \n",
    "    for agg in ['mean','gcn','eve','pool']:\n",
    "        try:\n",
    "            ep_results_dict['AUC'].append(df.mean()[agg])\n",
    "            ep_results_dict['Std'].append(df.std()[agg])\n",
    "            ep_results_dict['Max'].append(df.max()[agg])\n",
    "            ep_results_dict['Runs'].append(num_runs)\n",
    "            ep_results_dict['Embed'].append(features)\n",
    "            ep_results_dict['PCA'].append(pca)\n",
    "            ep_results_dict['Reg'].append(reg)\n",
    "            ep_results_dict['Dataset'].append(dataset)\n",
    "            ep_results_dict['Agg'].append(agg)\n",
    "        except:\n",
    "            pass"
   ]
  },
  {
   "cell_type": "code",
   "execution_count": 9,
   "metadata": {},
   "outputs": [],
   "source": [
    "def run_node(dataset, num_runs, features, pca, reg):\n",
    "    node_results = run_node_classification(dataset, num_runs,features=features, pca=pca, reg=reg)\n",
    "    \n",
    "    df = pd.DataFrame(node_results)\n",
    "    \n",
    "    display(df.mean())\n",
    "    display(df.std())\n",
    "    display(df.max())\n",
    "    \n",
    "    for agg in ['mean','gcn','eve','pool']:\n",
    "        try:\n",
    "            nc_results_dict['Acc'].append(df.mean()[agg])\n",
    "            nc_results_dict['Std'].append(df.std()[agg])\n",
    "            nc_results_dict['Max'].append(df.max()[agg])\n",
    "            nc_results_dict['Runs'].append(num_runs)\n",
    "            nc_results_dict['Embed'].append(features)\n",
    "            nc_results_dict['PCA'].append(pca)\n",
    "            nc_results_dict['Reg'].append(reg)\n",
    "            nc_results_dict['Dataset'].append(dataset)\n",
    "            nc_results_dict['Agg'].append(agg)\n",
    "        except:\n",
    "            pass"
   ]
  },
  {
   "cell_type": "raw",
   "metadata": {},
   "source": [
    "param_grid = {\n",
    "    'dataset':['Cora','PubMed'],\n",
    "    'reg':[0.01,0.1,1,10],\n",
    "    'features':['LM','default']\n",
    "}"
   ]
  },
  {
   "cell_type": "markdown",
   "metadata": {},
   "source": [
    "# Edge Prediction"
   ]
  },
  {
   "cell_type": "raw",
   "metadata": {},
   "source": [
    "PubMed\n",
    "Cora"
   ]
  },
  {
   "cell_type": "raw",
   "metadata": {},
   "source": [
    "feats = np.loadtxt(f'LM_embed_Cora.txt')"
   ]
  },
  {
   "cell_type": "raw",
   "metadata": {
    "scrolled": true
   },
   "source": [
    "for dataset in param_grid['dataset']:\n",
    "    for features in param_grid['features']:\n",
    "        for reg in param_grid['reg']:  \n",
    "            kwargs = {\n",
    "                'dataset':dataset,\n",
    "                'num_runs':20,\n",
    "                'features':features,\n",
    "                'pca':False,\n",
    "                'reg':reg\n",
    "            }\n",
    "        \n",
    "            run_edge(**kwargs)"
   ]
  },
  {
   "cell_type": "raw",
   "metadata": {},
   "source": [
    "row, col, edge_attr = data['adj_t'].t().coo()\n",
    "edge_index = torch.stack([row, col], dim=0)"
   ]
  },
  {
   "cell_type": "code",
   "execution_count": 10,
   "metadata": {},
   "outputs": [],
   "source": [
    "data,_ = get_raw_text_arxiv(use_text=False)"
   ]
  },
  {
   "cell_type": "code",
   "execution_count": 11,
   "metadata": {},
   "outputs": [
    {
     "data": {
      "text/plain": [
       "Data(num_nodes=169343, edge_index=[2, 1166243], x=[169343, 128], node_year=[169343, 1], y=[169343], train_mask=[169343], val_mask=[169343], test_mask=[169343])"
      ]
     },
     "execution_count": 11,
     "metadata": {},
     "output_type": "execute_result"
    }
   ],
   "source": [
    "data"
   ]
  },
  {
   "cell_type": "raw",
   "metadata": {},
   "source": [
    "kwargs = {\n",
    "    'dataset':'ogbn',\n",
    "    'num_runs':20,\n",
    "    'features':'default',\n",
    "    'pca':False,\n",
    "    'reg':0\n",
    "}\n",
    "\n",
    "run_edge(**kwargs)"
   ]
  },
  {
   "cell_type": "raw",
   "metadata": {},
   "source": [
    "kwargs = {\n",
    "    'dataset':'ogbn',\n",
    "    'num_runs':20,\n",
    "    'features':'LM',\n",
    "    'pca':True,\n",
    "    'reg':0\n",
    "}\n",
    "\n",
    "run_edge(**kwargs)"
   ]
  },
  {
   "cell_type": "raw",
   "metadata": {},
   "source": [
    "kwargs = {\n",
    "    'dataset':'Cora',\n",
    "    'num_runs':20,\n",
    "    'features':'TAPE',\n",
    "    'pca':True,\n",
    "    'reg':0\n",
    "}\n",
    "\n",
    "run_edge(**kwargs)"
   ]
  },
  {
   "cell_type": "markdown",
   "metadata": {},
   "source": [
    "# Node Classification"
   ]
  },
  {
   "cell_type": "raw",
   "metadata": {
    "scrolled": true
   },
   "source": [
    "for dataset in param_grid['dataset']:\n",
    "    for reg in param_grid['reg']:\n",
    "        for features in param_grid['features']:\n",
    "            kwargs = {\n",
    "                'dataset':dataset,\n",
    "                'num_runs':30,\n",
    "                'features':features,\n",
    "                'pca':False,\n",
    "                'reg':reg\n",
    "            }\n",
    "        \n",
    "        run_node(**kwargs)"
   ]
  },
  {
   "cell_type": "code",
   "execution_count": 12,
   "metadata": {},
   "outputs": [
    {
     "name": "stdout",
     "output_type": "stream",
     "text": [
      "Running on: cuda\n",
      "torch.Size([169343, 128])\n"
     ]
    },
    {
     "name": "stderr",
     "output_type": "stream",
     "text": [
      "100%|██████████| 3/3 [00:17<00:00,  5.84s/it]\n",
      "100%|██████████| 3/3 [00:04<00:00,  1.38s/it]\n",
      "100%|██████████| 3/3 [00:26<00:00,  8.75s/it]\n",
      "100%|██████████| 3/3 [00:09<00:00,  3.18s/it]\n"
     ]
    },
    {
     "data": {
      "text/plain": [
       "mean    0.502877\n",
       "gcn     0.511786\n",
       "eve     0.430412\n",
       "pool    0.488207\n",
       "dtype: float32"
      ]
     },
     "metadata": {},
     "output_type": "display_data"
    },
    {
     "data": {
      "text/plain": [
       "mean    0.006232\n",
       "gcn     0.004039\n",
       "eve     0.015020\n",
       "pool    0.005441\n",
       "dtype: float32"
      ]
     },
     "metadata": {},
     "output_type": "display_data"
    },
    {
     "data": {
      "text/plain": [
       "mean    0.507026\n",
       "gcn     0.516203\n",
       "eve     0.441804\n",
       "pool    0.494023\n",
       "dtype: float32"
      ]
     },
     "metadata": {},
     "output_type": "display_data"
    }
   ],
   "source": [
    "kwargs = {\n",
    "    'dataset':'ogbn',\n",
    "    'num_runs':3,\n",
    "    'features':'default',\n",
    "    'pca':False,\n",
    "    'reg':0\n",
    "}\n",
    "\n",
    "run_node(**kwargs)"
   ]
  },
  {
   "cell_type": "code",
   "execution_count": 13,
   "metadata": {},
   "outputs": [
    {
     "name": "stdout",
     "output_type": "stream",
     "text": [
      "Running on: cuda\n",
      "torch.Size([169343, 384])\n"
     ]
    },
    {
     "name": "stderr",
     "output_type": "stream",
     "text": [
      "100%|██████████| 3/3 [00:06<00:00,  2.13s/it]\n",
      "100%|██████████| 3/3 [00:05<00:00,  1.72s/it]\n",
      "100%|██████████| 3/3 [50:39<00:00, 1013.24s/it]\n",
      "100%|██████████| 3/3 [00:23<00:00,  7.78s/it]\n"
     ]
    },
    {
     "data": {
      "text/plain": [
       "mean    0.695177\n",
       "gcn     0.689937\n",
       "eve     0.653478\n",
       "pool    0.684046\n",
       "dtype: float32"
      ]
     },
     "metadata": {},
     "output_type": "display_data"
    },
    {
     "data": {
      "text/plain": [
       "mean    0.001035\n",
       "gcn     0.001039\n",
       "eve     0.001044\n",
       "pool    0.001508\n",
       "dtype: float32"
      ]
     },
     "metadata": {},
     "output_type": "display_data"
    },
    {
     "data": {
      "text/plain": [
       "mean    0.696356\n",
       "gcn     0.690986\n",
       "eve     0.654404\n",
       "pool    0.685472\n",
       "dtype: float32"
      ]
     },
     "metadata": {},
     "output_type": "display_data"
    }
   ],
   "source": [
    "kwargs = {\n",
    "    'dataset':'ogbn',\n",
    "    'num_runs':3,\n",
    "    'features':'LM',\n",
    "    'pca':True,\n",
    "    'reg':0\n",
    "}\n",
    "\n",
    "run_node(**kwargs)"
   ]
  },
  {
   "cell_type": "raw",
   "metadata": {},
   "source": [
    "kwargs = {\n",
    "    'dataset':'Cora',\n",
    "    'num_runs':30,\n",
    "    'features':'TAPE',\n",
    "    'pca':True,\n",
    "    'reg':0\n",
    "}\n",
    "\n",
    "run_node(**kwargs)"
   ]
  },
  {
   "cell_type": "code",
   "execution_count": null,
   "metadata": {},
   "outputs": [],
   "source": []
  },
  {
   "cell_type": "markdown",
   "metadata": {},
   "source": [
    "# Output"
   ]
  },
  {
   "cell_type": "code",
   "execution_count": 14,
   "metadata": {},
   "outputs": [],
   "source": [
    "node_results_df = pd.DataFrame(nc_results_dict)\n",
    "edge_results_df = pd.DataFrame(ep_results_dict)"
   ]
  },
  {
   "cell_type": "code",
   "execution_count": 15,
   "metadata": {},
   "outputs": [],
   "source": [
    "total_node_results = pd.concat([past_nc_res_df,node_results_df])\n",
    "total_edge_results = pd.concat([past_ep_res_df,edge_results_df])"
   ]
  },
  {
   "cell_type": "code",
   "execution_count": 16,
   "metadata": {},
   "outputs": [],
   "source": [
    "total_node_results.to_csv('./results/node_class.csv',index=False)\n",
    "total_edge_results.to_csv('./results/edge_pred.csv',index=False)"
   ]
  },
  {
   "cell_type": "code",
   "execution_count": null,
   "metadata": {},
   "outputs": [],
   "source": []
  }
 ],
 "metadata": {
  "kernelspec": {
   "display_name": "Python 3 (ipykernel)",
   "language": "python",
   "name": "python3"
  },
  "language_info": {
   "codemirror_mode": {
    "name": "ipython",
    "version": 3
   },
   "file_extension": ".py",
   "mimetype": "text/x-python",
   "name": "python",
   "nbconvert_exporter": "python",
   "pygments_lexer": "ipython3",
   "version": "3.10.10"
  }
 },
 "nbformat": 4,
 "nbformat_minor": 4
}
