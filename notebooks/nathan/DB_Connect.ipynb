{
 "cells": [
  {
   "cell_type": "code",
   "execution_count": 1,
   "id": "0dba125f-a259-4414-b727-d1385bc058c2",
   "metadata": {},
   "outputs": [],
   "source": [
    "import os\n",
    "import sys\n",
    "\n",
    "os.chdir('/'.join(os.getcwd().split('/')[:-2]))"
   ]
  },
  {
   "cell_type": "code",
   "execution_count": 2,
   "id": "51927036-7bba-4d5e-8ee9-1ca147df51f9",
   "metadata": {},
   "outputs": [],
   "source": [
    "from src import *"
   ]
  },
  {
   "cell_type": "code",
   "execution_count": 3,
   "id": "501fef6d-b8eb-467c-955c-857b7243c065",
   "metadata": {},
   "outputs": [],
   "source": [
    "cursor = connect_cora()"
   ]
  },
  {
   "cell_type": "code",
   "execution_count": 4,
   "id": "1442faef-4a99-485f-8e69-71d386e26788",
   "metadata": {},
   "outputs": [
    {
     "data": {
      "text/plain": [
       "[(35, 887),\n",
       " (35, 1033),\n",
       " (35, 1688),\n",
       " (35, 1956),\n",
       " (35, 8865),\n",
       " (35, 12576),\n",
       " (35, 15670),\n",
       " (35, 18582),\n",
       " (35, 27510),\n",
       " (35, 28290),\n",
       " (35, 28851),\n",
       " (35, 33904),\n",
       " (35, 33907),\n",
       " (35, 35061),\n",
       " (35, 38205),\n",
       " (35, 41714),\n",
       " (35, 44368),\n",
       " (35, 45599),\n",
       " (35, 46079),\n",
       " (35, 46431)]"
      ]
     },
     "execution_count": 4,
     "metadata": {},
     "output_type": "execute_result"
    }
   ],
   "source": [
    "command_str = \"\"\"\n",
    "        SELECT * FROM cites LIMIT 20\n",
    "    \"\"\".strip()\n",
    "\n",
    "cursor.execute(command_str)\n",
    "cursor.fetchall()"
   ]
  },
  {
   "cell_type": "code",
   "execution_count": 5,
   "id": "b4b386c2-3d2b-4dcd-b923-927611ef5bee",
   "metadata": {},
   "outputs": [],
   "source": [
    "close()"
   ]
  },
  {
   "cell_type": "code",
   "execution_count": 6,
   "id": "309f6cbc-32c9-48da-8ab3-b2b2abb3fa89",
   "metadata": {},
   "outputs": [],
   "source": [
    "cursor = connect_citeseer()"
   ]
  },
  {
   "cell_type": "code",
   "execution_count": 7,
   "id": "29909e03-cc7b-40f0-b49b-19fb82726533",
   "metadata": {},
   "outputs": [
    {
     "data": {
      "text/plain": [
       "[('100157', '100157'),\n",
       " ('100157', '364207'),\n",
       " ('100157', '38848'),\n",
       " ('100157', 'bradshaw97introduction'),\n",
       " ('100157', 'bylund99coordinating'),\n",
       " ('100157', 'dix01metaagent'),\n",
       " ('100157', 'gray99finding'),\n",
       " ('100157', 'labrou01standardizing'),\n",
       " ('100157', 'labrou99agent'),\n",
       " ('100157', 'nodine98overview'),\n",
       " ('100157', 'nodine99active'),\n",
       " ('100157', 'wagner97artificial'),\n",
       " ('100598', '455651'),\n",
       " ('100598', 'marquez00machine'),\n",
       " ('100598', 'punyakanok01use'),\n",
       " ('101570', 'krasnogor00memetic'),\n",
       " ('10227', '131669'),\n",
       " ('10227', 'sima00computational'),\n",
       " ('10227', 'sima01computational'),\n",
       " ('103027', '140169')]"
      ]
     },
     "execution_count": 7,
     "metadata": {},
     "output_type": "execute_result"
    }
   ],
   "source": [
    "command_str = \"\"\"\n",
    "        SELECT * FROM cites LIMIT 20\n",
    "    \"\"\".strip()\n",
    "\n",
    "cursor.execute(command_str)\n",
    "cursor.fetchall()"
   ]
  },
  {
   "cell_type": "code",
   "execution_count": 12,
   "id": "bc9ebc88-212e-4618-91d8-2de534cbc104",
   "metadata": {},
   "outputs": [],
   "source": [
    "cursor = connect_imdb()"
   ]
  },
  {
   "cell_type": "code",
   "execution_count": 13,
   "id": "def61206-18e8-4495-b8b0-1abcdef8d3d4",
   "metadata": {},
   "outputs": [
    {
     "data": {
      "text/plain": [
       "[(72305, \"Cowboy's Sacrifice, A\", 1911, None),\n",
       " (47459, 'Broken Condom', 2004, None),\n",
       " (232639, 'Nikki and Alexander', 1989, None),\n",
       " (369300, 'WWF Smackdown! Just Bring It', 2001, None),\n",
       " (311125, 'Spies', 1943, 7.3),\n",
       " (75566, 'Curse of the Swamp Creature', 1994, None),\n",
       " (201539, 'Making Animal Babies', 2000, None),\n",
       " (119858, 'Frente a frente', 1936, None),\n",
       " (213855, 'Miles Canyon Tramway', 1901, None),\n",
       " (340555, 'Trouble with Marnie, The', 2000, None),\n",
       " (231778, 'Night Angel', 1931, 6.4),\n",
       " (318516, 'Suivez-moi jeune homme', 1958, None),\n",
       " (49691, 'Buone notizie, Le', 1979, 6.6),\n",
       " (139820, 'Hasards ou concidences', 1998, 6.2),\n",
       " (76588, \"Daddy's Angel\", 1996, None),\n",
       " (167085, 'Jet Beacon Let-Down, The', 1957, None),\n",
       " (226351, 'Nachttrein naar Savannah Georgia, De', 1976, None),\n",
       " (355873, 'Vive le premier de mai', 1999, None),\n",
       " (206273, 'Marotia', 1977, None),\n",
       " (304547, 'Slatan Dudow', 1975, None)]"
      ]
     },
     "execution_count": 13,
     "metadata": {},
     "output_type": "execute_result"
    }
   ],
   "source": [
    "command_str = \"\"\"\n",
    "        SELECT * FROM movies ORDER BY RAND() LIMIT 20\n",
    "    \"\"\".strip()\n",
    "\n",
    "cursor.execute(command_str)\n",
    "cursor.fetchall()"
   ]
  },
  {
   "cell_type": "code",
   "execution_count": 14,
   "id": "0684f2c9-58f0-4a66-a69d-b29f1722f340",
   "metadata": {},
   "outputs": [],
   "source": [
    "close()"
   ]
  },
  {
   "cell_type": "code",
   "execution_count": null,
   "id": "65e345fe-6c0f-4c57-9fcf-418438275167",
   "metadata": {},
   "outputs": [],
   "source": []
  }
 ],
 "metadata": {
  "kernelspec": {
   "display_name": "Python 3 (ipykernel)",
   "language": "python",
   "name": "python3"
  },
  "language_info": {
   "codemirror_mode": {
    "name": "ipython",
    "version": 3
   },
   "file_extension": ".py",
   "mimetype": "text/x-python",
   "name": "python",
   "nbconvert_exporter": "python",
   "pygments_lexer": "ipython3",
   "version": "3.11.4"
  }
 },
 "nbformat": 4,
 "nbformat_minor": 5
}
