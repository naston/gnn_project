{
 "cells": [
  {
   "cell_type": "code",
   "execution_count": 1,
   "id": "0dba125f-a259-4414-b727-d1385bc058c2",
   "metadata": {},
   "outputs": [],
   "source": [
    "import os\n",
    "import sys\n",
    "\n",
    "os.chdir('/'.join(os.getcwd().split('/')[:-2]))"
   ]
  },
  {
   "cell_type": "code",
   "execution_count": 2,
   "id": "51927036-7bba-4d5e-8ee9-1ca147df51f9",
   "metadata": {},
   "outputs": [],
   "source": [
    "from src import *"
   ]
  },
  {
   "cell_type": "code",
   "execution_count": 10,
   "id": "501fef6d-b8eb-467c-955c-857b7243c065",
   "metadata": {},
   "outputs": [],
   "source": [
    "cursor = connect_cora()"
   ]
  },
  {
   "cell_type": "code",
   "execution_count": 13,
   "id": "1442faef-4a99-485f-8e69-71d386e26788",
   "metadata": {},
   "outputs": [
    {
     "data": {
      "text/plain": [
       "[(240791, 650834),\n",
       " (8224, 22431),\n",
       " (108974, 1125469),\n",
       " (633585, 40605),\n",
       " (34257, 1115456),\n",
       " (39890, 1123689),\n",
       " (32083, 200630),\n",
       " (49843, 49844),\n",
       " (644494, 1131314),\n",
       " (85352, 640617),\n",
       " (27631, 28254),\n",
       " (23738, 22563),\n",
       " (12350, 68495),\n",
       " (154982, 1130927),\n",
       " (3229, 948299),\n",
       " (32083, 31769),\n",
       " (2440, 49844),\n",
       " (3097, 3101),\n",
       " (1213, 409725),\n",
       " (684531, 684372)]"
      ]
     },
     "execution_count": 13,
     "metadata": {},
     "output_type": "execute_result"
    }
   ],
   "source": [
    "command_str = \"\"\"\n",
    "        SELECT * FROM cites LIMIT 20\n",
    "    \"\"\".strip()\n",
    "\n",
    "cursor.execute(command_str)\n",
    "cursor.fetchall()"
   ]
  },
  {
   "cell_type": "code",
   "execution_count": 5,
   "id": "b4b386c2-3d2b-4dcd-b923-927611ef5bee",
   "metadata": {},
   "outputs": [],
   "source": [
    "close()"
   ]
  },
  {
   "cell_type": "code",
   "execution_count": 6,
   "id": "309f6cbc-32c9-48da-8ab3-b2b2abb3fa89",
   "metadata": {},
   "outputs": [],
   "source": [
    "cursor = connect_citeseer()"
   ]
  },
  {
   "cell_type": "code",
   "execution_count": 7,
   "id": "29909e03-cc7b-40f0-b49b-19fb82726533",
   "metadata": {},
   "outputs": [
    {
     "data": {
      "text/plain": [
       "[('100157', '100157'),\n",
       " ('100157', '364207'),\n",
       " ('100157', '38848'),\n",
       " ('100157', 'bradshaw97introduction'),\n",
       " ('100157', 'bylund99coordinating'),\n",
       " ('100157', 'dix01metaagent'),\n",
       " ('100157', 'gray99finding'),\n",
       " ('100157', 'labrou01standardizing'),\n",
       " ('100157', 'labrou99agent'),\n",
       " ('100157', 'nodine98overview'),\n",
       " ('100157', 'nodine99active'),\n",
       " ('100157', 'wagner97artificial'),\n",
       " ('100598', '455651'),\n",
       " ('100598', 'marquez00machine'),\n",
       " ('100598', 'punyakanok01use'),\n",
       " ('101570', 'krasnogor00memetic'),\n",
       " ('10227', '131669'),\n",
       " ('10227', 'sima00computational'),\n",
       " ('10227', 'sima01computational'),\n",
       " ('103027', '140169')]"
      ]
     },
     "execution_count": 7,
     "metadata": {},
     "output_type": "execute_result"
    }
   ],
   "source": [
    "command_str = \"\"\"\n",
    "        SELECT * FROM cites LIMIT 20\n",
    "    \"\"\".strip()\n",
    "\n",
    "cursor.execute(command_str)\n",
    "cursor.fetchall()"
   ]
  },
  {
   "cell_type": "code",
   "execution_count": 8,
   "id": "0684f2c9-58f0-4a66-a69d-b29f1722f340",
   "metadata": {},
   "outputs": [],
   "source": [
    "close()"
   ]
  }
 ],
 "metadata": {
  "kernelspec": {
   "display_name": "Python 3 (ipykernel)",
   "language": "python",
   "name": "python3"
  },
  "language_info": {
   "codemirror_mode": {
    "name": "ipython",
    "version": 3
   },
   "file_extension": ".py",
   "mimetype": "text/x-python",
   "name": "python",
   "nbconvert_exporter": "python",
   "pygments_lexer": "ipython3",
   "version": "3.11.4"
  }
 },
 "nbformat": 4,
 "nbformat_minor": 5
}
