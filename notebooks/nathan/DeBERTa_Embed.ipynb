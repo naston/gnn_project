{
 "cells": [
  {
   "cell_type": "code",
   "execution_count": 1,
   "id": "14edd0a3",
   "metadata": {},
   "outputs": [],
   "source": [
    "import requests\n",
    "from retry import retry\n",
    "from tqdm import tqdm\n",
    "import numpy as np\n",
    "import torch"
   ]
  },
  {
   "cell_type": "code",
   "execution_count": 2,
   "id": "ee7d2a1b",
   "metadata": {},
   "outputs": [],
   "source": [
    "import os\n",
    "from sys import platform\n",
    "\n",
    "if platform == 'win32':\n",
    "    os.chdir('/'.join(os.getcwd().split('\\\\')[:-2]))\n",
    "else:\n",
    "    os.chdir('/'.join(os.getcwd().split('/')[:-2]))\n",
    "from src import *"
   ]
  },
  {
   "cell_type": "raw",
   "id": "e318cc11",
   "metadata": {},
   "source": [
    "temp = get_gpt_text_cora()"
   ]
  },
  {
   "cell_type": "raw",
   "id": "f97c6b2a",
   "metadata": {},
   "source": [
    "temp.sort()"
   ]
  },
  {
   "cell_type": "code",
   "execution_count": 10,
   "id": "c6f21558",
   "metadata": {},
   "outputs": [],
   "source": [
    "test,_ = get_raw_text_cora(use_text=False)"
   ]
  },
  {
   "cell_type": "code",
   "execution_count": 12,
   "id": "6fb7e18f",
   "metadata": {},
   "outputs": [
    {
     "data": {
      "text/plain": [
       "tensor([[0., 0., 0.,  ..., 0., 0., 0.],\n",
       "        [0., 0., 0.,  ..., 0., 0., 0.],\n",
       "        [0., 0., 0.,  ..., 0., 0., 0.],\n",
       "        ...,\n",
       "        [0., 0., 0.,  ..., 0., 0., 0.],\n",
       "        [0., 0., 0.,  ..., 0., 0., 0.],\n",
       "        [0., 0., 0.,  ..., 0., 0., 0.]])"
      ]
     },
     "execution_count": 12,
     "metadata": {},
     "output_type": "execute_result"
    }
   ],
   "source": [
    "test.x"
   ]
  },
  {
   "cell_type": "code",
   "execution_count": 3,
   "id": "8efe531e",
   "metadata": {},
   "outputs": [],
   "source": [
    "LM_emb_path = './prt_lm/cora/microsoft/deberta-base-gpt.emb'\n",
    "features = np.array(\n",
    "                np.memmap(LM_emb_path, mode='r',\n",
    "                          dtype=np.float16,\n",
    "                          shape=(2708, 768)))"
   ]
  },
  {
   "cell_type": "code",
   "execution_count": 4,
   "id": "0ab8ad94",
   "metadata": {},
   "outputs": [
    {
     "data": {
      "text/plain": [
       "(2708, 768)"
      ]
     },
     "execution_count": 4,
     "metadata": {},
     "output_type": "execute_result"
    }
   ],
   "source": [
    "features.shape"
   ]
  },
  {
   "cell_type": "code",
   "execution_count": 5,
   "id": "d87494f7",
   "metadata": {},
   "outputs": [],
   "source": [
    "#embed = np.array(output)\n",
    "np.savetxt('TAPE_embed_Cora_deb.txt',features)"
   ]
  },
  {
   "cell_type": "code",
   "execution_count": 27,
   "id": "bf57d767",
   "metadata": {},
   "outputs": [
    {
     "data": {
      "text/plain": [
       "(2708, 768)"
      ]
     },
     "execution_count": 27,
     "metadata": {},
     "output_type": "execute_result"
    }
   ],
   "source": [
    "features = np.loadtxt('LM_embed_Cora_deb.txt')\n",
    "features.shape"
   ]
  },
  {
   "cell_type": "code",
   "execution_count": 18,
   "id": "8303d5a2",
   "metadata": {},
   "outputs": [],
   "source": [
    "import pandas as pd"
   ]
  },
  {
   "cell_type": "code",
   "execution_count": 21,
   "id": "0f72965d",
   "metadata": {},
   "outputs": [],
   "source": [
    "import matplotlib.pyplot as plt"
   ]
  },
  {
   "cell_type": "code",
   "execution_count": 24,
   "id": "23850ded",
   "metadata": {},
   "outputs": [
    {
     "data": {
      "text/plain": [
       "0.0002822086699942494"
      ]
     },
     "execution_count": 24,
     "metadata": {},
     "output_type": "execute_result"
    }
   ],
   "source": [
    "np.mean(pd.DataFrame(em).corr())"
   ]
  },
  {
   "cell_type": "code",
   "execution_count": 7,
   "id": "a2e77dde",
   "metadata": {},
   "outputs": [],
   "source": [
    "LM_pred_path = './prt_lm/cora/microsoft/deberta-base-raw-text.pred'\n",
    "preds = np.array(\n",
    "                np.memmap(LM_pred_path, mode='r',\n",
    "                          dtype=np.float16,\n",
    "                          shape=(2708, 7)))"
   ]
  },
  {
   "cell_type": "code",
   "execution_count": 11,
   "id": "953f9ebf",
   "metadata": {},
   "outputs": [],
   "source": [
    "import torch\n",
    "import itertools\n",
    "from torch_geometric.datasets import Planetoid, Actor\n",
    "from torch_geometric.transforms import NormalizeFeatures\n",
    "from tqdm import tqdm"
   ]
  },
  {
   "cell_type": "code",
   "execution_count": 13,
   "id": "0638d2fa",
   "metadata": {},
   "outputs": [],
   "source": [
    "data = Planetoid(root='data/Planetoid', name='Cora', transform=NormalizeFeatures())[0]"
   ]
  },
  {
   "cell_type": "code",
   "execution_count": 16,
   "id": "a2742c7a",
   "metadata": {},
   "outputs": [
    {
     "data": {
      "text/plain": [
       "tensor([3, 4, 4,  ..., 3, 3, 3])"
      ]
     },
     "execution_count": 16,
     "metadata": {},
     "output_type": "execute_result"
    }
   ],
   "source": [
    "data['y']"
   ]
  },
  {
   "cell_type": "code",
   "execution_count": 23,
   "id": "8b8e8960",
   "metadata": {},
   "outputs": [],
   "source": [
    "np.savetxt('LM_pred_Cora.txt',preds)"
   ]
  },
  {
   "cell_type": "code",
   "execution_count": 29,
   "id": "79affd07",
   "metadata": {},
   "outputs": [],
   "source": [
    "test = np.concatenate([features,preds],axis=1)"
   ]
  },
  {
   "cell_type": "code",
   "execution_count": 30,
   "id": "43553561",
   "metadata": {},
   "outputs": [
    {
     "data": {
      "text/plain": [
       "(2708, 775)"
      ]
     },
     "execution_count": 30,
     "metadata": {},
     "output_type": "execute_result"
    }
   ],
   "source": [
    "test.shape"
   ]
  },
  {
   "cell_type": "code",
   "execution_count": 33,
   "id": "b859efbc",
   "metadata": {},
   "outputs": [],
   "source": [
    "full_pred = np.argmax(preds,axis=1)"
   ]
  },
  {
   "cell_type": "code",
   "execution_count": 34,
   "id": "f30111bd",
   "metadata": {},
   "outputs": [
    {
     "data": {
      "text/plain": [
       "array([2, 5, 4, ..., 1, 0, 2], dtype=int64)"
      ]
     },
     "execution_count": 34,
     "metadata": {},
     "output_type": "execute_result"
    }
   ],
   "source": [
    "full_pred"
   ]
  },
  {
   "cell_type": "code",
   "execution_count": 41,
   "id": "605d9087",
   "metadata": {},
   "outputs": [
    {
     "data": {
      "text/plain": [
       "396"
      ]
     },
     "execution_count": 41,
     "metadata": {},
     "output_type": "execute_result"
    }
   ],
   "source": [
    "np.where(full_pred==data['y'].numpy())[0].size"
   ]
  },
  {
   "cell_type": "code",
   "execution_count": null,
   "id": "06d2835c",
   "metadata": {},
   "outputs": [],
   "source": []
  }
 ],
 "metadata": {
  "kernelspec": {
   "display_name": "Python 3 (ipykernel)",
   "language": "python",
   "name": "python3"
  },
  "language_info": {
   "codemirror_mode": {
    "name": "ipython",
    "version": 3
   },
   "file_extension": ".py",
   "mimetype": "text/x-python",
   "name": "python",
   "nbconvert_exporter": "python",
   "pygments_lexer": "ipython3",
   "version": "3.10.10"
  }
 },
 "nbformat": 4,
 "nbformat_minor": 5
}
