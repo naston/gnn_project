{
 "cells": [
  {
   "cell_type": "code",
   "execution_count": 1,
   "metadata": {},
   "outputs": [],
   "source": [
    "import networkx as nx\n",
    "import numpy as np\n",
    "import pandas as pd"
   ]
  },
  {
   "cell_type": "code",
   "execution_count": 2,
   "metadata": {},
   "outputs": [],
   "source": [
    "import os\n",
    "\n",
    "os.chdir('/'.join(os.getcwd().split('/')[:-2]))\n",
    "from src import *"
   ]
  },
  {
   "cell_type": "markdown",
   "metadata": {},
   "source": [
    "# Edge Prediction"
   ]
  },
  {
   "cell_type": "code",
   "execution_count": 3,
   "metadata": {},
   "outputs": [
    {
     "name": "stderr",
     "output_type": "stream",
     "text": [
      "100%|██████████████████████████████████████████████████████████████| 3/3 [00:35<00:00, 11.86s/it]\n",
      "100%|██████████████████████████████████████████████████████████████| 3/3 [00:23<00:00,  7.91s/it]\n",
      "100%|█████████████████████████████████████████████████████████████| 3/3 [18:48<00:00, 376.27s/it]\n",
      "100%|█████████████████████████████████████████████████████████████| 3/3 [08:01<00:00, 160.43s/it]\n"
     ]
    }
   ],
   "source": [
    "cora_edge_results = run_edge_prediction('Cora',3)"
   ]
  },
  {
   "cell_type": "code",
   "execution_count": 5,
   "metadata": {},
   "outputs": [
    {
     "data": {
      "text/plain": [
       "mean    0.999965\n",
       "gcn     0.978418\n",
       "eve     0.906475\n",
       "pool    1.000000\n",
       "dtype: float64"
      ]
     },
     "metadata": {},
     "output_type": "display_data"
    },
    {
     "name": "stdout",
     "output_type": "stream",
     "text": [
      "\n"
     ]
    },
    {
     "data": {
      "text/plain": [
       "mean    2.072615e-05\n",
       "gcn     8.083825e-04\n",
       "eve     1.213775e-01\n",
       "pool    7.850462e-17\n",
       "dtype: float64"
      ]
     },
     "metadata": {},
     "output_type": "display_data"
    }
   ],
   "source": [
    "df = pd.DataFrame(cora_edge_results)\n",
    "display(df.mean())\n",
    "print()\n",
    "display(df.std())"
   ]
  },
  {
   "cell_type": "code",
   "execution_count": 7,
   "metadata": {},
   "outputs": [
    {
     "name": "stderr",
     "output_type": "stream",
     "text": [
      "100%|██████████████████████████████████████████████████████████████| 3/3 [01:21<00:00, 27.09s/it]\n",
      "100%|██████████████████████████████████████████████████████████████| 3/3 [00:45<00:00, 15.09s/it]\n",
      "100%|██████████████████████████████████████████████████████████| 3/3 [1:33:13<00:00, 1864.41s/it]\n",
      "100%|█████████████████████████████████████████████████████████████| 3/3 [49:56<00:00, 998.97s/it]\n"
     ]
    }
   ],
   "source": [
    "citeseer_edge_results = run_edge_prediction('CiteSeer',3)"
   ]
  },
  {
   "cell_type": "code",
   "execution_count": 8,
   "metadata": {},
   "outputs": [
    {
     "data": {
      "text/plain": [
       "mean    0.999995\n",
       "gcn     0.987096\n",
       "eve     0.948620\n",
       "pool    1.000000\n",
       "dtype: float64"
      ]
     },
     "metadata": {},
     "output_type": "display_data"
    },
    {
     "name": "stdout",
     "output_type": "stream",
     "text": [
      "\n"
     ]
    },
    {
     "data": {
      "text/plain": [
       "mean    2.476972e-06\n",
       "gcn     3.628003e-03\n",
       "eve     4.262859e-02\n",
       "pool    1.719798e-08\n",
       "dtype: float64"
      ]
     },
     "metadata": {},
     "output_type": "display_data"
    }
   ],
   "source": [
    "df = pd.DataFrame(citeseer_edge_results)\n",
    "display(df.mean())\n",
    "print()\n",
    "display(df.std())"
   ]
  },
  {
   "cell_type": "code",
   "execution_count": null,
   "metadata": {},
   "outputs": [],
   "source": [
    "pubmed_edge_results = run_edge_prediction('PubMed',3)"
   ]
  },
  {
   "cell_type": "markdown",
   "metadata": {},
   "source": [
    "# Node Classification"
   ]
  },
  {
   "cell_type": "code",
   "execution_count": 3,
   "metadata": {},
   "outputs": [
    {
     "name": "stderr",
     "output_type": "stream",
     "text": [
      "100%|██████████████████████████████████████████████████████████████| 3/3 [00:04<00:00,  1.55s/it]\n",
      "100%|██████████████████████████████████████████████████████████████| 3/3 [00:02<00:00,  1.16it/s]\n",
      "100%|██████████████████████████████████████████████████████████████| 3/3 [04:29<00:00, 89.67s/it]\n",
      "100%|██████████████████████████████████████████████████████████████| 3/3 [01:40<00:00, 33.56s/it]\n"
     ]
    }
   ],
   "source": [
    "cora_node_results = run_node_classification('Cora',3)"
   ]
  },
  {
   "cell_type": "code",
   "execution_count": 4,
   "metadata": {},
   "outputs": [
    {
     "data": {
      "text/plain": [
       "mean    0.723667\n",
       "gcn     0.790667\n",
       "eve     0.550667\n",
       "pool    0.558667\n",
       "dtype: float32"
      ]
     },
     "metadata": {},
     "output_type": "display_data"
    },
    {
     "name": "stdout",
     "output_type": "stream",
     "text": [
      "\n"
     ]
    },
    {
     "data": {
      "text/plain": [
       "mean    0.051868\n",
       "gcn     0.019858\n",
       "eve     0.204676\n",
       "pool    0.131838\n",
       "dtype: float32"
      ]
     },
     "metadata": {},
     "output_type": "display_data"
    }
   ],
   "source": [
    "df = pd.DataFrame(cora_node_results)\n",
    "display(df.mean())\n",
    "print()\n",
    "display(df.std())"
   ]
  },
  {
   "cell_type": "code",
   "execution_count": 5,
   "metadata": {},
   "outputs": [
    {
     "name": "stderr",
     "output_type": "stream",
     "text": [
      "100%|██████████████████████████████████████████████████████████████| 3/3 [00:10<00:00,  3.48s/it]\n",
      "100%|██████████████████████████████████████████████████████████████| 3/3 [00:05<00:00,  1.93s/it]\n",
      "100%|█████████████████████████████████████████████████████████████| 3/3 [20:06<00:00, 402.21s/it]\n",
      "100%|█████████████████████████████████████████████████████████████| 3/3 [10:53<00:00, 217.76s/it]\n"
     ]
    }
   ],
   "source": [
    "citeseer_node_results = run_node_classification('CiteSeer',3)"
   ]
  },
  {
   "cell_type": "code",
   "execution_count": 6,
   "metadata": {},
   "outputs": [
    {
     "data": {
      "text/plain": [
       "mean    0.576667\n",
       "gcn     0.662000\n",
       "eve     0.307333\n",
       "pool    0.351667\n",
       "dtype: float32"
      ]
     },
     "metadata": {},
     "output_type": "display_data"
    },
    {
     "name": "stdout",
     "output_type": "stream",
     "text": [
      "\n"
     ]
    },
    {
     "data": {
      "text/plain": [
       "mean    0.034385\n",
       "gcn     0.050715\n",
       "eve     0.132213\n",
       "pool    0.135338\n",
       "dtype: float32"
      ]
     },
     "metadata": {},
     "output_type": "display_data"
    }
   ],
   "source": [
    "df = pd.DataFrame(citeseer_node_results)\n",
    "display(df.mean())\n",
    "print()\n",
    "display(df.std())"
   ]
  },
  {
   "cell_type": "code",
   "execution_count": null,
   "metadata": {},
   "outputs": [],
   "source": [
    "pubmed_node_results = run_node_classification('PubMed',3)"
   ]
  },
  {
   "cell_type": "code",
   "execution_count": null,
   "metadata": {},
   "outputs": [],
   "source": []
  }
 ],
 "metadata": {
  "kernelspec": {
   "display_name": "Python 3 (ipykernel)",
   "language": "python",
   "name": "python3"
  },
  "language_info": {
   "codemirror_mode": {
    "name": "ipython",
    "version": 3
   },
   "file_extension": ".py",
   "mimetype": "text/x-python",
   "name": "python",
   "nbconvert_exporter": "python",
   "pygments_lexer": "ipython3",
   "version": "3.11.4"
  }
 },
 "nbformat": 4,
 "nbformat_minor": 4
}
