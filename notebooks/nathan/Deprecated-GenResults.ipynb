{
 "cells": [
  {
   "cell_type": "code",
   "execution_count": 1,
   "metadata": {},
   "outputs": [],
   "source": [
    "import networkx as nx\n",
    "import numpy as np\n",
    "import pandas as pd"
   ]
  },
  {
   "cell_type": "code",
   "execution_count": 2,
   "metadata": {},
   "outputs": [],
   "source": [
    "import os\n",
    "from sys import platform\n",
    "\n",
    "if platform == 'win32':\n",
    "    os.chdir('/'.join(os.getcwd().split('\\\\')[:-2]))\n",
    "else:\n",
    "    os.chdir('/'.join(os.getcwd().split('/')[:-2]))\n",
    "from src import *"
   ]
  },
  {
   "cell_type": "markdown",
   "metadata": {},
   "source": [
    "# Edge Prediction"
   ]
  },
  {
   "cell_type": "code",
   "execution_count": 3,
   "metadata": {},
   "outputs": [],
   "source": [
    "edge_pred_runs = 20"
   ]
  },
  {
   "cell_type": "code",
   "execution_count": 21,
   "metadata": {
    "scrolled": false
   },
   "outputs": [
    {
     "name": "stdout",
     "output_type": "stream",
     "text": [
      "Running on: cuda\n"
     ]
    },
    {
     "name": "stderr",
     "output_type": "stream",
     "text": [
      "100%|██████████| 20/20 [00:58<00:00,  2.92s/it]\n",
      "100%|██████████| 20/20 [00:55<00:00,  2.76s/it]\n",
      "100%|██████████| 20/20 [02:11<00:00,  6.56s/it]\n",
      "100%|██████████| 20/20 [01:21<00:00,  4.07s/it]\n"
     ]
    }
   ],
   "source": [
    "cora_edge_results = run_edge_prediction('PubMed',edge_pred_runs,features='TAPE',pca=True)"
   ]
  },
  {
   "cell_type": "code",
   "execution_count": 22,
   "metadata": {},
   "outputs": [
    {
     "data": {
      "text/plain": [
       "mean    0.999947\n",
       "gcn     0.980344\n",
       "eve     0.920507\n",
       "pool    1.000000\n",
       "dtype: float64"
      ]
     },
     "metadata": {},
     "output_type": "display_data"
    },
    {
     "data": {
      "text/plain": [
       "mean    3.046260e-05\n",
       "gcn     1.527541e-03\n",
       "eve     1.494466e-02\n",
       "pool    3.722621e-08\n",
       "dtype: float64"
      ]
     },
     "metadata": {},
     "output_type": "display_data"
    },
    {
     "data": {
      "text/plain": [
       "mean    0.999994\n",
       "gcn     0.982662\n",
       "eve     0.943552\n",
       "pool    1.000000\n",
       "dtype: float64"
      ]
     },
     "metadata": {},
     "output_type": "display_data"
    }
   ],
   "source": [
    "df = pd.DataFrame(cora_edge_results)\n",
    "display(df.mean())\n",
    "display(df.std())\n",
    "display(df.max())"
   ]
  },
  {
   "cell_type": "code",
   "execution_count": 4,
   "metadata": {
    "scrolled": false
   },
   "outputs": [
    {
     "name": "stdout",
     "output_type": "stream",
     "text": [
      "Running on: cuda\n"
     ]
    },
    {
     "name": "stderr",
     "output_type": "stream",
     "text": [
      "100%|██████████| 20/20 [01:02<00:00,  3.11s/it]\n",
      "100%|██████████| 20/20 [00:55<00:00,  2.79s/it]\n",
      "100%|██████████| 20/20 [02:18<00:00,  6.92s/it]\n",
      "100%|██████████| 20/20 [01:23<00:00,  4.19s/it]\n"
     ]
    }
   ],
   "source": [
    "cora_edge_results = run_edge_prediction('Cora',edge_pred_runs)"
   ]
  },
  {
   "cell_type": "code",
   "execution_count": 5,
   "metadata": {},
   "outputs": [
    {
     "data": {
      "text/plain": [
       "mean    0.999926\n",
       "gcn     0.979518\n",
       "eve     0.900674\n",
       "pool    1.000000\n",
       "dtype: float64"
      ]
     },
     "metadata": {},
     "output_type": "display_data"
    },
    {
     "data": {
      "text/plain": [
       "mean    2.809005e-05\n",
       "gcn     3.032885e-03\n",
       "eve     1.747284e-02\n",
       "pool    3.601359e-08\n",
       "dtype: float64"
      ]
     },
     "metadata": {},
     "output_type": "display_data"
    },
    {
     "data": {
      "text/plain": [
       "mean    0.999974\n",
       "gcn     0.984405\n",
       "eve     0.922452\n",
       "pool    1.000000\n",
       "dtype: float64"
      ]
     },
     "metadata": {},
     "output_type": "display_data"
    }
   ],
   "source": [
    "df = pd.DataFrame(cora_edge_results)\n",
    "display(df.mean())\n",
    "display(df.std())\n",
    "display(df.max())"
   ]
  },
  {
   "cell_type": "raw",
   "metadata": {},
   "source": [
    "max: 0.797299\n",
    "max: 0.922452\n",
    "max: 0.926092"
   ]
  },
  {
   "cell_type": "code",
   "execution_count": 9,
   "metadata": {
    "scrolled": false
   },
   "outputs": [
    {
     "name": "stdout",
     "output_type": "stream",
     "text": [
      "Running on: cuda\n"
     ]
    },
    {
     "name": "stderr",
     "output_type": "stream",
     "text": [
      "100%|██████████| 20/20 [01:00<00:00,  3.02s/it]\n",
      "100%|██████████| 20/20 [00:56<00:00,  2.83s/it]\n",
      "100%|██████████| 20/20 [02:18<00:00,  6.91s/it]\n",
      "100%|██████████| 20/20 [01:21<00:00,  4.08s/it]\n"
     ]
    }
   ],
   "source": [
    "cora_edge_results = run_edge_prediction('Cora',edge_pred_runs,reg=0.1)"
   ]
  },
  {
   "cell_type": "code",
   "execution_count": null,
   "metadata": {},
   "outputs": [],
   "source": [
    "df = pd.DataFrame(cora_edge_results)\n",
    "display(df.mean())\n",
    "display(df.std())\n",
    "display(df.max())"
   ]
  },
  {
   "cell_type": "code",
   "execution_count": 10,
   "metadata": {},
   "outputs": [
    {
     "data": {
      "text/plain": [
       "mean    0.999941\n",
       "gcn     0.978010\n",
       "eve     0.895172\n",
       "pool    1.000000\n",
       "dtype: float64"
      ]
     },
     "metadata": {},
     "output_type": "display_data"
    },
    {
     "data": {
      "text/plain": [
       "mean    3.361490e-05\n",
       "gcn     1.985484e-03\n",
       "eve     2.108133e-02\n",
       "pool    1.217519e-08\n",
       "dtype: float64"
      ]
     },
     "metadata": {},
     "output_type": "display_data"
    },
    {
     "data": {
      "text/plain": [
       "mean    0.999993\n",
       "gcn     0.981163\n",
       "eve     0.924803\n",
       "pool    1.000000\n",
       "dtype: float64"
      ]
     },
     "metadata": {},
     "output_type": "display_data"
    }
   ],
   "source": [
    "df = pd.DataFrame(cora_edge_results)\n",
    "display(df.mean())\n",
    "display(df.std())\n",
    "display(df.max())"
   ]
  },
  {
   "cell_type": "code",
   "execution_count": null,
   "metadata": {
    "scrolled": true
   },
   "outputs": [],
   "source": [
    "citeseer_edge_results = run_edge_prediction('CiteSeer',edge_pred_runs,reg=0.1)"
   ]
  },
  {
   "cell_type": "code",
   "execution_count": null,
   "metadata": {},
   "outputs": [],
   "source": [
    "df = pd.DataFrame(citeseer_edge_results)\n",
    "display(df.mean())\n",
    "display(df.std())\n",
    "display(df.max())"
   ]
  },
  {
   "cell_type": "code",
   "execution_count": 13,
   "metadata": {
    "scrolled": true
   },
   "outputs": [
    {
     "name": "stdout",
     "output_type": "stream",
     "text": [
      "Running on: cuda\n"
     ]
    },
    {
     "name": "stderr",
     "output_type": "stream",
     "text": [
      "100%|██████████| 20/20 [01:11<00:00,  3.55s/it]\n",
      "100%|██████████| 20/20 [01:07<00:00,  3.38s/it]\n",
      "100%|██████████| 20/20 [03:56<00:00, 11.83s/it]\n",
      "100%|██████████| 20/20 [01:50<00:00,  5.53s/it]\n"
     ]
    }
   ],
   "source": [
    "pubmed_edge_results = run_edge_prediction('PubMed',edge_pred_runs,reg=1)"
   ]
  },
  {
   "cell_type": "code",
   "execution_count": 14,
   "metadata": {},
   "outputs": [
    {
     "data": {
      "text/plain": [
       "mean    0.976542\n",
       "gcn     0.929147\n",
       "eve     0.921956\n",
       "pool    0.994239\n",
       "dtype: float64"
      ]
     },
     "metadata": {},
     "output_type": "display_data"
    },
    {
     "data": {
      "text/plain": [
       "mean    0.001063\n",
       "gcn     0.005695\n",
       "eve     0.015895\n",
       "pool    0.000894\n",
       "dtype: float64"
      ]
     },
     "metadata": {},
     "output_type": "display_data"
    },
    {
     "data": {
      "text/plain": [
       "mean    0.979252\n",
       "gcn     0.937278\n",
       "eve     0.940360\n",
       "pool    0.995480\n",
       "dtype: float64"
      ]
     },
     "metadata": {},
     "output_type": "display_data"
    }
   ],
   "source": [
    "df = pd.DataFrame(pubmed_edge_results)\n",
    "display(df.mean())\n",
    "display(df.std())\n",
    "display(df.max())"
   ]
  },
  {
   "cell_type": "code",
   "execution_count": 17,
   "metadata": {},
   "outputs": [
    {
     "data": {
      "text/plain": [
       "mean    0.975712\n",
       "gcn     0.930553\n",
       "eve     0.748711\n",
       "pool    0.993852\n",
       "dtype: float64"
      ]
     },
     "metadata": {},
     "output_type": "display_data"
    },
    {
     "data": {
      "text/plain": [
       "mean    0.001088\n",
       "gcn     0.005827\n",
       "eve     0.121425\n",
       "pool    0.000947\n",
       "dtype: float64"
      ]
     },
     "metadata": {},
     "output_type": "display_data"
    },
    {
     "data": {
      "text/plain": [
       "mean    0.977530\n",
       "gcn     0.938663\n",
       "eve     0.933515\n",
       "pool    0.995068\n",
       "dtype: float64"
      ]
     },
     "metadata": {},
     "output_type": "display_data"
    }
   ],
   "source": [
    "df = pd.DataFrame(pubmed_edge_results)\n",
    "display(df.mean())\n",
    "display(df.std())\n",
    "display(df.max())"
   ]
  },
  {
   "cell_type": "markdown",
   "metadata": {},
   "source": [
    "# Node Classification"
   ]
  },
  {
   "cell_type": "code",
   "execution_count": 3,
   "metadata": {},
   "outputs": [],
   "source": [
    "node_class_runs = 30"
   ]
  },
  {
   "cell_type": "code",
   "execution_count": 4,
   "metadata": {},
   "outputs": [
    {
     "name": "stdout",
     "output_type": "stream",
     "text": [
      "Running on: cuda\n"
     ]
    },
    {
     "name": "stderr",
     "output_type": "stream",
     "text": [
      "100%|██████████| 30/30 [00:16<00:00,  1.82it/s]\n",
      "100%|██████████| 30/30 [00:14<00:00,  2.06it/s]\n",
      "100%|██████████| 30/30 [00:44<00:00,  1.47s/it]\n",
      "100%|██████████| 30/30 [00:26<00:00,  1.14it/s]\n"
     ]
    }
   ],
   "source": [
    "cora_node_results = run_node_classification('Cora',node_class_runs)"
   ]
  },
  {
   "cell_type": "code",
   "execution_count": 5,
   "metadata": {},
   "outputs": [
    {
     "data": {
      "text/plain": [
       "mean    0.738867\n",
       "gcn     0.788033\n",
       "eve     0.644000\n",
       "pool    0.557133\n",
       "dtype: float32"
      ]
     },
     "metadata": {},
     "output_type": "display_data"
    },
    {
     "data": {
      "text/plain": [
       "mean    0.037927\n",
       "gcn     0.020299\n",
       "eve     0.078427\n",
       "pool    0.096938\n",
       "dtype: float32"
      ]
     },
     "metadata": {},
     "output_type": "display_data"
    },
    {
     "data": {
      "text/plain": [
       "mean    0.782\n",
       "gcn     0.813\n",
       "eve     0.745\n",
       "pool    0.712\n",
       "dtype: float32"
      ]
     },
     "metadata": {},
     "output_type": "display_data"
    }
   ],
   "source": [
    "df = pd.DataFrame(cora_node_results)\n",
    "display(df.mean())\n",
    "display(df.std())\n",
    "display(df.max())"
   ]
  },
  {
   "cell_type": "code",
   "execution_count": 11,
   "metadata": {},
   "outputs": [
    {
     "name": "stdout",
     "output_type": "stream",
     "text": [
      "Running on: cuda\n"
     ]
    },
    {
     "name": "stderr",
     "output_type": "stream",
     "text": [
      "100%|██████████| 15/15 [00:08<00:00,  1.86it/s]\n",
      "100%|██████████| 15/15 [00:07<00:00,  1.96it/s]\n",
      "100%|██████████| 15/15 [01:20<00:00,  5.37s/it]\n",
      "100%|██████████| 15/15 [00:54<00:00,  3.66s/it]\n"
     ]
    }
   ],
   "source": [
    "citeseer_node_results = run_node_classification('CiteSeer',node_class_runs)"
   ]
  },
  {
   "cell_type": "code",
   "execution_count": 12,
   "metadata": {},
   "outputs": [
    {
     "data": {
      "text/plain": [
       "mean    0.613333\n",
       "gcn     0.684667\n",
       "eve     0.206800\n",
       "pool    0.440000\n",
       "dtype: float32"
      ]
     },
     "metadata": {},
     "output_type": "display_data"
    },
    {
     "data": {
      "text/plain": [
       "mean    0.052645\n",
       "gcn     0.025390\n",
       "eve     0.023854\n",
       "pool    0.068480\n",
       "dtype: float32"
      ]
     },
     "metadata": {},
     "output_type": "display_data"
    },
    {
     "data": {
      "text/plain": [
       "mean    0.688\n",
       "gcn     0.721\n",
       "eve     0.231\n",
       "pool    0.536\n",
       "dtype: float32"
      ]
     },
     "metadata": {},
     "output_type": "display_data"
    }
   ],
   "source": [
    "df = pd.DataFrame(citeseer_node_results)\n",
    "display(df.mean())\n",
    "display(df.std())\n",
    "display(df.max())"
   ]
  },
  {
   "cell_type": "code",
   "execution_count": 6,
   "metadata": {
    "scrolled": true
   },
   "outputs": [
    {
     "name": "stdout",
     "output_type": "stream",
     "text": [
      "Running on: cuda\n"
     ]
    },
    {
     "name": "stderr",
     "output_type": "stream",
     "text": [
      "100%|██████████| 30/30 [00:14<00:00,  2.02it/s]\n",
      "100%|██████████| 30/30 [00:13<00:00,  2.18it/s]\n",
      "100%|██████████| 30/30 [01:14<00:00,  2.48s/it]\n",
      "100%|██████████| 30/30 [00:34<00:00,  1.14s/it]\n"
     ]
    }
   ],
   "source": [
    "pubmed_node_results = run_node_classification('PubMed',node_class_runs)"
   ]
  },
  {
   "cell_type": "code",
   "execution_count": 10,
   "metadata": {},
   "outputs": [
    {
     "data": {
      "text/plain": [
       "mean    0.382233\n",
       "gcn     0.411900\n",
       "eve     0.401100\n",
       "pool    0.406767\n",
       "dtype: float32"
      ]
     },
     "metadata": {},
     "output_type": "display_data"
    },
    {
     "data": {
      "text/plain": [
       "mean    0.034924\n",
       "gcn     0.023800\n",
       "eve     0.020264\n",
       "pool    0.022892\n",
       "dtype: float32"
      ]
     },
     "metadata": {},
     "output_type": "display_data"
    },
    {
     "data": {
      "text/plain": [
       "mean    0.432\n",
       "gcn     0.445\n",
       "eve     0.436\n",
       "pool    0.434\n",
       "dtype: float32"
      ]
     },
     "metadata": {},
     "output_type": "display_data"
    }
   ],
   "source": [
    "df = pd.DataFrame(pubmed_node_results)\n",
    "display(df.mean())\n",
    "display(df.std())\n",
    "display(df.max())"
   ]
  },
  {
   "cell_type": "code",
   "execution_count": 8,
   "metadata": {},
   "outputs": [
    {
     "data": {
      "text/plain": [
       "mean    0.378967\n",
       "gcn     0.407867\n",
       "eve     0.422833\n",
       "pool    0.417600\n",
       "dtype: float32"
      ]
     },
     "metadata": {},
     "output_type": "display_data"
    },
    {
     "data": {
      "text/plain": [
       "mean    0.037837\n",
       "gcn     0.025215\n",
       "eve     0.014997\n",
       "pool    0.018129\n",
       "dtype: float32"
      ]
     },
     "metadata": {},
     "output_type": "display_data"
    },
    {
     "data": {
      "text/plain": [
       "mean    0.431\n",
       "gcn     0.446\n",
       "eve     0.454\n",
       "pool    0.464\n",
       "dtype: float32"
      ]
     },
     "metadata": {},
     "output_type": "display_data"
    }
   ],
   "source": [
    "df = pd.DataFrame(pubmed_node_results)\n",
    "display(df.mean())\n",
    "display(df.std())\n",
    "display(df.max())"
   ]
  },
  {
   "cell_type": "code",
   "execution_count": 6,
   "metadata": {},
   "outputs": [
    {
     "data": {
      "text/plain": [
       "mean    0.699233\n",
       "gcn     0.735033\n",
       "eve     0.658600\n",
       "pool    0.593833\n",
       "dtype: float32"
      ]
     },
     "metadata": {},
     "output_type": "display_data"
    },
    {
     "data": {
      "text/plain": [
       "mean    0.049985\n",
       "gcn     0.063341\n",
       "eve     0.055374\n",
       "pool    0.091789\n",
       "dtype: float32"
      ]
     },
     "metadata": {},
     "output_type": "display_data"
    },
    {
     "data": {
      "text/plain": [
       "mean    0.770\n",
       "gcn     0.776\n",
       "eve     0.743\n",
       "pool    0.739\n",
       "dtype: float32"
      ]
     },
     "metadata": {},
     "output_type": "display_data"
    }
   ],
   "source": [
    "df = pd.DataFrame(pubmed_node_results)\n",
    "display(df.mean())\n",
    "display(df.std())\n",
    "display(df.max())"
   ]
  },
  {
   "cell_type": "code",
   "execution_count": null,
   "metadata": {},
   "outputs": [],
   "source": []
  }
 ],
 "metadata": {
  "kernelspec": {
   "display_name": "Python 3 (ipykernel)",
   "language": "python",
   "name": "python3"
  },
  "language_info": {
   "codemirror_mode": {
    "name": "ipython",
    "version": 3
   },
   "file_extension": ".py",
   "mimetype": "text/x-python",
   "name": "python",
   "nbconvert_exporter": "python",
   "pygments_lexer": "ipython3",
   "version": "3.10.10"
  }
 },
 "nbformat": 4,
 "nbformat_minor": 4
}
