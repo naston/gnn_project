{
 "cells": [
  {
   "cell_type": "code",
   "execution_count": 1,
   "metadata": {},
   "outputs": [],
   "source": [
    "import networkx as nx\n",
    "import numpy as np\n",
    "import pandas as pd"
   ]
  },
  {
   "cell_type": "code",
   "execution_count": 2,
   "metadata": {},
   "outputs": [],
   "source": [
    "import os\n",
    "from sys import platform\n",
    "\n",
    "if platform == 'win32':\n",
    "    os.chdir('/'.join(os.getcwd().split('\\\\')[:-2]))\n",
    "else:\n",
    "    os.chdir('/'.join(os.getcwd().split('/')[:-2]))\n",
    "from src import *"
   ]
  },
  {
   "cell_type": "markdown",
   "metadata": {},
   "source": [
    "This notebook is used to generate results for joint training, link prediction and node classification at the same time."
   ]
  },
  {
   "cell_type": "code",
   "execution_count": 3,
   "metadata": {},
   "outputs": [],
   "source": [
    "try:\n",
    "    past_joint_res_df = pd.read_csv('./results/joint.csv')\n",
    "except:\n",
    "    past_joint_res_df = pd.DataFrame(columns=['Acc','Std_Acc','Max_Acc', 'AUC','Std_AUC','Max_AUC','Runs','Embed','PCA','Reg','Dataset','Agg'])"
   ]
  },
  {
   "cell_type": "code",
   "execution_count": 4,
   "metadata": {},
   "outputs": [],
   "source": [
    "joint_results_dict = {\n",
    "    'Acc':[],\n",
    "    'Std_Acc':[],\n",
    "    'Max_Acc':[],\n",
    "    'AUC':[],\n",
    "    'Std_AUC':[],\n",
    "    'Max_AUC':[],\n",
    "    'Runs':[],\n",
    "    'Embed':[],\n",
    "    'PCA':[],\n",
    "    'Reg':[],\n",
    "    'Dataset':[],\n",
    "    'Agg':[]\n",
    "}"
   ]
  },
  {
   "cell_type": "code",
   "execution_count": 5,
   "metadata": {},
   "outputs": [],
   "source": [
    "def run_joint_results(dataset, num_runs, features, pca, reg):\n",
    "    joint_results = run_joint_train(dataset, runs=num_runs, features=features)\n",
    "    \n",
    "    df = pd.DataFrame(joint_results)\n",
    "    \n",
    "    display(df.mean())\n",
    "    display(df.std())\n",
    "    display(df.max())\n",
    "    \n",
    "    for agg in ['mean','gcn','eve','pool']:\n",
    "        try:\n",
    "            joint_results_dict['Acc'].append(df.mean()[agg+'_node'])\n",
    "            joint_results_dict['Std_Acc'].append(df.std()[agg+'_node'])\n",
    "            joint_results_dict['Max_Acc'].append(df.max()[agg+'_node'])\n",
    "            joint_results_dict['AUC'].append(df.mean()[agg+'_edge'])\n",
    "            joint_results_dict['Std_AUC'].append(df.std()[agg+'_edge'])\n",
    "            joint_results_dict['Max_AUC'].append(df.max()[agg+'_edge'])\n",
    "            joint_results_dict['Runs'].append(num_runs)\n",
    "            joint_results_dict['Embed'].append(features)\n",
    "            joint_results_dict['PCA'].append(pca)\n",
    "            joint_results_dict['Reg'].append(reg)\n",
    "            joint_results_dict['Dataset'].append(dataset)\n",
    "            joint_results_dict['Agg'].append(agg)\n",
    "        except:\n",
    "            pass"
   ]
  },
  {
   "cell_type": "markdown",
   "metadata": {},
   "source": [
    "# Joint Training"
   ]
  },
  {
   "cell_type": "raw",
   "metadata": {},
   "source": [
    "PubMed\n",
    "Cora"
   ]
  },
  {
   "cell_type": "code",
   "execution_count": 6,
   "metadata": {},
   "outputs": [
    {
     "name": "stderr",
     "output_type": "stream",
     "text": [
      "100%|██████████| 20/20 [05:08<00:00, 15.42s/it]\n",
      "100%|██████████| 20/20 [02:11<00:00,  6.57s/it]\n",
      "100%|██████████| 20/20 [02:02<00:00,  6.13s/it]\n",
      "100%|██████████| 20/20 [02:42<00:00,  8.12s/it]\n"
     ]
    },
    {
     "data": {
      "text/plain": [
       "eve_node     0.770802\n",
       "mean_node    0.826962\n",
       "gcn_node     0.879425\n",
       "pool_node    0.813829\n",
       "eve_edge     0.672250\n",
       "mean_edge    0.660250\n",
       "gcn_edge     0.708950\n",
       "pool_edge    0.532400\n",
       "dtype: float64"
      ]
     },
     "metadata": {},
     "output_type": "display_data"
    },
    {
     "data": {
      "text/plain": [
       "eve_node     0.035385\n",
       "mean_node    0.005949\n",
       "gcn_node     0.010526\n",
       "pool_node    0.015457\n",
       "eve_edge     0.100083\n",
       "mean_edge    0.028067\n",
       "gcn_edge     0.019731\n",
       "pool_edge    0.073340\n",
       "dtype: float64"
      ]
     },
     "metadata": {},
     "output_type": "display_data"
    },
    {
     "data": {
      "text/plain": [
       "eve_node     0.817488\n",
       "mean_node    0.836428\n",
       "gcn_node     0.897909\n",
       "pool_node    0.838031\n",
       "eve_edge     0.736000\n",
       "mean_edge    0.702000\n",
       "gcn_edge     0.750000\n",
       "pool_edge    0.592000\n",
       "dtype: float64"
      ]
     },
     "metadata": {},
     "output_type": "display_data"
    }
   ],
   "source": [
    "kwargs = {\n",
    "    'dataset':'Cora',\n",
    "    'num_runs':20,\n",
    "    'features':'default',\n",
    "    'pca':False,\n",
    "    'reg':0\n",
    "}\n",
    "\n",
    "run_joint_results(**kwargs)"
   ]
  },
  {
   "cell_type": "code",
   "execution_count": 7,
   "metadata": {},
   "outputs": [
    {
     "name": "stderr",
     "output_type": "stream",
     "text": [
      "100%|██████████| 20/20 [03:20<00:00, 10.01s/it]\n",
      "100%|██████████| 20/20 [02:12<00:00,  6.62s/it]\n",
      "100%|██████████| 20/20 [02:03<00:00,  6.19s/it]\n",
      "100%|██████████| 20/20 [02:11<00:00,  6.57s/it]\n"
     ]
    },
    {
     "data": {
      "text/plain": [
       "eve_node     0.823528\n",
       "mean_node    0.863130\n",
       "gcn_node     0.917306\n",
       "pool_node    0.897042\n",
       "eve_edge     0.836531\n",
       "mean_edge    0.838007\n",
       "gcn_edge     0.835517\n",
       "pool_edge    0.838376\n",
       "dtype: float64"
      ]
     },
     "metadata": {},
     "output_type": "display_data"
    },
    {
     "data": {
      "text/plain": [
       "eve_node     0.033222\n",
       "mean_node    0.005883\n",
       "gcn_node     0.004379\n",
       "pool_node    0.005959\n",
       "eve_edge     0.110018\n",
       "mean_edge    0.008457\n",
       "gcn_edge     0.008680\n",
       "pool_edge    0.014296\n",
       "dtype: float64"
      ]
     },
     "metadata": {},
     "output_type": "display_data"
    },
    {
     "data": {
      "text/plain": [
       "eve_node     0.865396\n",
       "mean_node    0.874847\n",
       "gcn_node     0.925246\n",
       "pool_node    0.906623\n",
       "eve_edge     0.876384\n",
       "mean_edge    0.852399\n",
       "gcn_edge     0.852399\n",
       "pool_edge    0.857934\n",
       "dtype: float64"
      ]
     },
     "metadata": {},
     "output_type": "display_data"
    }
   ],
   "source": [
    "kwargs = {\n",
    "    'dataset':'Cora',\n",
    "    'num_runs':20,\n",
    "    'features':'LM',\n",
    "    'pca':False,\n",
    "    'reg':0\n",
    "}\n",
    "\n",
    "run_joint_results(**kwargs)"
   ]
  },
  {
   "cell_type": "code",
   "execution_count": 8,
   "metadata": {},
   "outputs": [
    {
     "name": "stderr",
     "output_type": "stream",
     "text": [
      "100%|██████████| 20/20 [03:18<00:00,  9.93s/it]\n",
      "100%|██████████| 20/20 [02:11<00:00,  6.57s/it]\n",
      "100%|██████████| 20/20 [02:03<00:00,  6.20s/it]\n",
      "100%|██████████| 20/20 [02:11<00:00,  6.57s/it]\n"
     ]
    },
    {
     "data": {
      "text/plain": [
       "eve_node     0.804528\n",
       "mean_node    0.889314\n",
       "gcn_node     0.931831\n",
       "pool_node    0.909038\n",
       "eve_edge     0.807657\n",
       "mean_edge    0.832841\n",
       "gcn_edge     0.832565\n",
       "pool_edge    0.840590\n",
       "dtype: float64"
      ]
     },
     "metadata": {},
     "output_type": "display_data"
    },
    {
     "data": {
      "text/plain": [
       "eve_node     0.042008\n",
       "mean_node    0.006930\n",
       "gcn_node     0.003864\n",
       "pool_node    0.005118\n",
       "eve_edge     0.148435\n",
       "mean_edge    0.008987\n",
       "gcn_edge     0.006581\n",
       "pool_edge    0.011269\n",
       "dtype: float64"
      ]
     },
     "metadata": {},
     "output_type": "display_data"
    },
    {
     "data": {
      "text/plain": [
       "eve_node     0.849327\n",
       "mean_node    0.902145\n",
       "gcn_node     0.936577\n",
       "pool_node    0.916841\n",
       "eve_edge     0.878229\n",
       "mean_edge    0.852399\n",
       "gcn_edge     0.845018\n",
       "pool_edge    0.857934\n",
       "dtype: float64"
      ]
     },
     "metadata": {},
     "output_type": "display_data"
    }
   ],
   "source": [
    "kwargs = {\n",
    "    'dataset':'Cora',\n",
    "    'num_runs':20,\n",
    "    'features':'TAPE',\n",
    "    'pca':False,\n",
    "    'reg':0\n",
    "}\n",
    "\n",
    "run_joint_results(**kwargs)"
   ]
  },
  {
   "cell_type": "code",
   "execution_count": 9,
   "metadata": {},
   "outputs": [
    {
     "name": "stderr",
     "output_type": "stream",
     "text": [
      "100%|██████████| 20/20 [09:08<00:00, 27.40s/it]\n",
      "100%|██████████| 20/20 [02:24<00:00,  7.22s/it]\n",
      "100%|██████████| 20/20 [02:15<00:00,  6.78s/it]\n",
      "100%|██████████| 20/20 [03:43<00:00, 11.18s/it]\n"
     ]
    },
    {
     "data": {
      "text/plain": [
       "eve_node     0.754367\n",
       "mean_node    0.895241\n",
       "gcn_node     0.891861\n",
       "pool_node    0.887581\n",
       "eve_edge     0.734650\n",
       "mean_edge    0.773850\n",
       "gcn_edge     0.762400\n",
       "pool_edge    0.721500\n",
       "dtype: float64"
      ]
     },
     "metadata": {},
     "output_type": "display_data"
    },
    {
     "data": {
      "text/plain": [
       "eve_node     0.040888\n",
       "mean_node    0.004079\n",
       "gcn_node     0.000383\n",
       "pool_node    0.004487\n",
       "eve_edge     0.017936\n",
       "mean_edge    0.004184\n",
       "gcn_edge     0.008293\n",
       "pool_edge    0.027737\n",
       "dtype: float64"
      ]
     },
     "metadata": {},
     "output_type": "display_data"
    },
    {
     "data": {
      "text/plain": [
       "eve_node     0.807851\n",
       "mean_node    0.904059\n",
       "gcn_node     0.892213\n",
       "pool_node    0.895519\n",
       "eve_edge     0.757000\n",
       "mean_edge    0.781000\n",
       "gcn_edge     0.773000\n",
       "pool_edge    0.747000\n",
       "dtype: float64"
      ]
     },
     "metadata": {},
     "output_type": "display_data"
    }
   ],
   "source": [
    "kwargs = {\n",
    "    'dataset':'PubMed',\n",
    "    'num_runs':20,\n",
    "    'features':'default',\n",
    "    'pca':False,\n",
    "    'reg':0\n",
    "}\n",
    "\n",
    "run_joint_results(**kwargs)"
   ]
  },
  {
   "cell_type": "code",
   "execution_count": 10,
   "metadata": {},
   "outputs": [
    {
     "name": "stderr",
     "output_type": "stream",
     "text": [
      "100%|██████████| 20/20 [07:15<00:00, 21.79s/it]\n",
      "100%|██████████| 20/20 [02:29<00:00,  7.48s/it]\n",
      "100%|██████████| 20/20 [02:19<00:00,  6.99s/it]\n",
      "100%|██████████| 20/20 [03:03<00:00,  9.18s/it]\n"
     ]
    },
    {
     "data": {
      "text/plain": [
       "eve_node     0.695515\n",
       "mean_node    0.925888\n",
       "gcn_node     0.946255\n",
       "pool_node    0.934146\n",
       "eve_edge     0.740264\n",
       "mean_edge    0.858557\n",
       "gcn_edge     0.851800\n",
       "pool_edge    0.859648\n",
       "dtype: float64"
      ]
     },
     "metadata": {},
     "output_type": "display_data"
    },
    {
     "data": {
      "text/plain": [
       "eve_node     0.126049\n",
       "mean_node    0.005984\n",
       "gcn_node     0.000873\n",
       "pool_node    0.006534\n",
       "eve_edge     0.186277\n",
       "mean_edge    0.013752\n",
       "gcn_edge     0.006429\n",
       "pool_edge    0.018710\n",
       "dtype: float64"
      ]
     },
     "metadata": {},
     "output_type": "display_data"
    },
    {
     "data": {
      "text/plain": [
       "eve_node     0.803138\n",
       "mean_node    0.932018\n",
       "gcn_node     0.947720\n",
       "pool_node    0.944316\n",
       "eve_edge     0.886663\n",
       "mean_edge    0.876268\n",
       "gcn_edge     0.859026\n",
       "pool_edge    0.880071\n",
       "dtype: float64"
      ]
     },
     "metadata": {},
     "output_type": "display_data"
    }
   ],
   "source": [
    "kwargs = {\n",
    "    'dataset':'PubMed',\n",
    "    'num_runs':20,\n",
    "    'features':'LM',\n",
    "    'pca':False,\n",
    "    'reg':0\n",
    "}\n",
    "\n",
    "run_joint_results(**kwargs)"
   ]
  },
  {
   "cell_type": "code",
   "execution_count": 11,
   "metadata": {},
   "outputs": [
    {
     "name": "stderr",
     "output_type": "stream",
     "text": [
      "100%|██████████| 20/20 [07:13<00:00, 21.70s/it]\n",
      "100%|██████████| 20/20 [02:29<00:00,  7.47s/it]\n",
      "100%|██████████| 20/20 [02:20<00:00,  7.04s/it]\n",
      "100%|██████████| 20/20 [03:03<00:00,  9.16s/it]\n"
     ]
    },
    {
     "data": {
      "text/plain": [
       "eve_node     0.681274\n",
       "mean_node    0.887014\n",
       "gcn_node     0.919757\n",
       "pool_node    0.887718\n",
       "eve_edge     0.747528\n",
       "mean_edge    0.913666\n",
       "gcn_edge     0.881072\n",
       "pool_edge    0.926838\n",
       "dtype: float64"
      ]
     },
     "metadata": {},
     "output_type": "display_data"
    },
    {
     "data": {
      "text/plain": [
       "eve_node     0.100340\n",
       "mean_node    0.020275\n",
       "gcn_node     0.000962\n",
       "pool_node    0.020960\n",
       "eve_edge     0.219458\n",
       "mean_edge    0.016586\n",
       "gcn_edge     0.002995\n",
       "pool_edge    0.007291\n",
       "dtype: float64"
      ]
     },
     "metadata": {},
     "output_type": "display_data"
    },
    {
     "data": {
      "text/plain": [
       "eve_node     0.819543\n",
       "mean_node    0.900181\n",
       "gcn_node     0.921815\n",
       "pool_node    0.905668\n",
       "eve_edge     0.937627\n",
       "mean_edge    0.934077\n",
       "gcn_edge     0.884635\n",
       "pool_edge    0.935598\n",
       "dtype: float64"
      ]
     },
     "metadata": {},
     "output_type": "display_data"
    }
   ],
   "source": [
    "kwargs = {\n",
    "    'dataset':'PubMed',\n",
    "    'num_runs':20,\n",
    "    'features':'TAPE',\n",
    "    'pca':False,\n",
    "    'reg':0\n",
    "}\n",
    "\n",
    "run_joint_results(**kwargs)"
   ]
  },
  {
   "cell_type": "markdown",
   "metadata": {},
   "source": [
    "# Output"
   ]
  },
  {
   "cell_type": "code",
   "execution_count": 12,
   "metadata": {},
   "outputs": [],
   "source": [
    "joint_results_df = pd.DataFrame(joint_results_dict)"
   ]
  },
  {
   "cell_type": "code",
   "execution_count": 13,
   "metadata": {},
   "outputs": [],
   "source": [
    "total_joint_results = pd.concat([past_joint_res_df,joint_results_df])"
   ]
  },
  {
   "cell_type": "code",
   "execution_count": 14,
   "metadata": {},
   "outputs": [],
   "source": [
    "total_joint_results.to_csv('./results/joint.csv',index=False)"
   ]
  },
  {
   "cell_type": "code",
   "execution_count": null,
   "metadata": {},
   "outputs": [],
   "source": []
  }
 ],
 "metadata": {
  "kernelspec": {
   "display_name": "Python 3 (ipykernel)",
   "language": "python",
   "name": "python3"
  },
  "language_info": {
   "codemirror_mode": {
    "name": "ipython",
    "version": 3
   },
   "file_extension": ".py",
   "mimetype": "text/x-python",
   "name": "python",
   "nbconvert_exporter": "python",
   "pygments_lexer": "ipython3",
   "version": "3.10.10"
  }
 },
 "nbformat": 4,
 "nbformat_minor": 4
}
