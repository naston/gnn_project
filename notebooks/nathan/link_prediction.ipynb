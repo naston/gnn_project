{
 "cells": [
  {
   "cell_type": "code",
   "execution_count": 1,
   "metadata": {},
   "outputs": [],
   "source": [
    "import networkx as nx\n",
    "import numpy as np\n",
    "import torch\n",
    "import torch.nn.functional as F\n",
    "from torch_geometric.datasets import Planetoid, Actor\n",
    "from torch_geometric.transforms import NormalizeFeatures\n",
    "from copy import deepcopy\n",
    "import itertools"
   ]
  },
  {
   "cell_type": "code",
   "execution_count": 2,
   "metadata": {},
   "outputs": [],
   "source": [
    "import time"
   ]
  },
  {
   "cell_type": "code",
   "execution_count": 3,
   "metadata": {},
   "outputs": [],
   "source": [
    "import os\n",
    "\n",
    "os.chdir('/'.join(os.getcwd().split('\\\\')[:-2]))\n",
    "from src import *"
   ]
  },
  {
   "cell_type": "code",
   "execution_count": 4,
   "metadata": {},
   "outputs": [],
   "source": [
    "device = torch.device('cuda' if torch.cuda.is_available() else 'cpu')"
   ]
  },
  {
   "cell_type": "markdown",
   "metadata": {},
   "source": [
    "# CORA"
   ]
  },
  {
   "cell_type": "code",
   "execution_count": 5,
   "metadata": {},
   "outputs": [],
   "source": [
    "# Cora model:\n",
    "cora = Planetoid(root='data/Planetoid', name='Cora', transform=NormalizeFeatures())\n",
    "train_g, train_pos_g, train_neg_g, test_pos_g, test_neg_g = create_train_test_split_edge(cora[0])"
   ]
  },
  {
   "cell_type": "code",
   "execution_count": 48,
   "metadata": {},
   "outputs": [],
   "source": [
    "base_feats = PCA().fit_transform(cora[0]['x'])"
   ]
  },
  {
   "cell_type": "code",
   "execution_count": 55,
   "metadata": {},
   "outputs": [],
   "source": [
    "cora[0]['x']=base_feats"
   ]
  },
  {
   "cell_type": "code",
   "execution_count": 54,
   "metadata": {},
   "outputs": [
    {
     "data": {
      "text/plain": [
       "array([[-3.30007013e-02,  1.40530440e-01,  5.01242076e-02, ...,\n",
       "         1.84129453e-11, -1.55406273e-17, -7.22497238e-19],\n",
       "       [-2.01500186e-02,  9.41849221e-03,  2.60799871e-02, ...,\n",
       "        -7.18469841e-11,  5.11323442e-18,  2.01636660e-18],\n",
       "       [ 2.13939390e-02,  1.15853124e-02,  2.23354489e-02, ...,\n",
       "         1.87943904e-10, -6.73917689e-18, -2.80373269e-18],\n",
       "       ...,\n",
       "       [ 3.76131337e-02, -1.09910298e-02, -1.63430166e-02, ...,\n",
       "        -7.95456720e-12, -3.89573685e-18, -1.41446616e-18],\n",
       "       [-2.99786951e-02,  8.15911609e-02,  2.03490585e-02, ...,\n",
       "        -4.54178735e-10, -2.72170916e-18, -1.61674590e-18],\n",
       "       [-1.92818406e-02,  8.49017311e-02,  1.98150821e-02, ...,\n",
       "        -4.35229919e-10,  1.82315384e-17,  3.84571214e-18]])"
      ]
     },
     "execution_count": 54,
     "metadata": {},
     "output_type": "execute_result"
    }
   ],
   "source": [
    "base_feats"
   ]
  },
  {
   "cell_type": "code",
   "execution_count": 59,
   "metadata": {},
   "outputs": [],
   "source": [
    "test = cora[0]"
   ]
  },
  {
   "cell_type": "code",
   "execution_count": 63,
   "metadata": {},
   "outputs": [],
   "source": [
    "test['x']=torch.tensor(base_feats)"
   ]
  },
  {
   "cell_type": "code",
   "execution_count": 64,
   "metadata": {},
   "outputs": [
    {
     "data": {
      "text/plain": [
       "tensor([[-3.3001e-02,  1.4053e-01,  5.0124e-02,  ...,  1.8413e-11,\n",
       "         -1.5541e-17, -7.2250e-19],\n",
       "        [-2.0150e-02,  9.4185e-03,  2.6080e-02,  ..., -7.1847e-11,\n",
       "          5.1132e-18,  2.0164e-18],\n",
       "        [ 2.1394e-02,  1.1585e-02,  2.2335e-02,  ...,  1.8794e-10,\n",
       "         -6.7392e-18, -2.8037e-18],\n",
       "        ...,\n",
       "        [ 3.7613e-02, -1.0991e-02, -1.6343e-02,  ..., -7.9546e-12,\n",
       "         -3.8957e-18, -1.4145e-18],\n",
       "        [-2.9979e-02,  8.1591e-02,  2.0349e-02,  ..., -4.5418e-10,\n",
       "         -2.7217e-18, -1.6167e-18],\n",
       "        [-1.9282e-02,  8.4902e-02,  1.9815e-02,  ..., -4.3523e-10,\n",
       "          1.8232e-17,  3.8457e-18]], dtype=torch.float64)"
      ]
     },
     "execution_count": 64,
     "metadata": {},
     "output_type": "execute_result"
    }
   ],
   "source": [
    "test['x']"
   ]
  },
  {
   "cell_type": "code",
   "execution_count": 65,
   "metadata": {},
   "outputs": [],
   "source": [
    "train_g, train_pos_g, train_neg_g, test_pos_g, test_neg_g = create_train_test_split_edge(test)"
   ]
  },
  {
   "cell_type": "code",
   "execution_count": 70,
   "metadata": {},
   "outputs": [],
   "source": [
    "train_g=train_g.to(device)\n",
    "train_pos_g=train_pos_g.to(device)\n",
    "train_neg_g=train_neg_g.to(device)\n",
    "test_pos_g=test_pos_g.to(device)\n",
    "test_neg_g=test_neg_g.to(device)"
   ]
  },
  {
   "cell_type": "code",
   "execution_count": 66,
   "metadata": {},
   "outputs": [
    {
     "data": {
      "text/plain": [
       "tensor([[0., 0., 0.,  ..., 0., 0., 0.],\n",
       "        [0., 0., 0.,  ..., 0., 0., 0.],\n",
       "        [0., 0., 0.,  ..., 0., 0., 0.],\n",
       "        ...,\n",
       "        [0., 0., 0.,  ..., 0., 0., 0.],\n",
       "        [0., 0., 0.,  ..., 0., 0., 0.],\n",
       "        [0., 0., 0.,  ..., 0., 0., 0.]])"
      ]
     },
     "execution_count": 66,
     "metadata": {},
     "output_type": "execute_result"
    }
   ],
   "source": [
    "cora.x"
   ]
  },
  {
   "cell_type": "raw",
   "metadata": {},
   "source": [
    "# CiteSeer model:\n",
    "citeseer = Planetoid(root='data/Planetoid', name='CiteSeer', transform=NormalizeFeatures())\n",
    "train_g, train_pos_g, train_neg_g, test_pos_g, test_neg_g = create_train_test_split_edge(citeseer[0])"
   ]
  },
  {
   "cell_type": "raw",
   "metadata": {},
   "source": [
    "train_g"
   ]
  },
  {
   "cell_type": "raw",
   "metadata": {},
   "source": [
    "# PubMed model:\n",
    "pubmed = Planetoid(root='data/Planetoid', name='PubMed', transform=NormalizeFeatures())\n",
    "train_g, train_pos_g, train_neg_g, test_pos_g, test_neg_g = create_train_test_split_edge(pubmed[0])"
   ]
  },
  {
   "cell_type": "markdown",
   "metadata": {},
   "source": [
    "## GraphSAGE"
   ]
  },
  {
   "cell_type": "markdown",
   "metadata": {},
   "source": [
    "### Mean Agg"
   ]
  },
  {
   "cell_type": "code",
   "execution_count": 6,
   "metadata": {},
   "outputs": [],
   "source": [
    "model = GraphSAGE(train_g.ndata[\"x\"].shape[1], 32)\n",
    "model=model.to(device)\n",
    "pred = DotPredictor()\n",
    "optimizer = torch.optim.Adam(\n",
    "    itertools.chain(model.parameters(), pred.parameters()), lr=0.01\n",
    ")"
   ]
  },
  {
   "cell_type": "code",
   "execution_count": 8,
   "metadata": {
    "scrolled": true
   },
   "outputs": [
    {
     "name": "stdout",
     "output_type": "stream",
     "text": [
      "In epoch 5, loss: 0.6827263236045837\n",
      "In epoch 10, loss: 0.6037890315055847\n",
      "In epoch 15, loss: 0.520629346370697\n",
      "In epoch 20, loss: 0.4626871347427368\n",
      "In epoch 25, loss: 0.43558749556541443\n",
      "In epoch 30, loss: 0.40310579538345337\n",
      "In epoch 35, loss: 0.370798796415329\n",
      "In epoch 40, loss: 0.3388617932796478\n",
      "In epoch 45, loss: 0.30553463101387024\n",
      "In epoch 50, loss: 0.27012431621551514\n",
      "In epoch 55, loss: 0.2348836362361908\n",
      "In epoch 60, loss: 0.19986510276794434\n",
      "In epoch 65, loss: 0.1660657823085785\n",
      "In epoch 70, loss: 0.1340884566307068\n",
      "In epoch 75, loss: 0.1046941876411438\n",
      "In epoch 80, loss: 0.07834262400865555\n",
      "In epoch 85, loss: 0.05598825588822365\n",
      "In epoch 90, loss: 0.038045693188905716\n",
      "In epoch 95, loss: 0.024717846885323524\n",
      "In epoch 100, loss: 0.015646131709218025\n",
      "AUC 0.8390476404393433\n",
      "In epoch 105, loss: 0.009871537797152996\n",
      "In epoch 110, loss: 0.006335587240755558\n",
      "In epoch 115, loss: 0.004174071364104748\n",
      "In epoch 120, loss: 0.0028533022850751877\n",
      "In epoch 125, loss: 0.0020458803046494722\n",
      "In epoch 130, loss: 0.0015469430945813656\n",
      "In epoch 135, loss: 0.001226720865815878\n",
      "In epoch 140, loss: 0.0010104820830747485\n",
      "In epoch 145, loss: 0.0008573801605962217\n",
      "In epoch 150, loss: 0.000744238612242043\n",
      "In epoch 155, loss: 0.0006574626313522458\n",
      "In epoch 160, loss: 0.0005888155428692698\n",
      "In epoch 165, loss: 0.0005330091807991266\n",
      "In epoch 170, loss: 0.0004866057715844363\n",
      "In epoch 175, loss: 0.00044735457049682736\n",
      "In epoch 180, loss: 0.0004135680792387575\n",
      "In epoch 185, loss: 0.0003840779245365411\n",
      "In epoch 190, loss: 0.000358082092134282\n",
      "In epoch 195, loss: 0.00033497094409540296\n",
      "In epoch 200, loss: 0.0003142721834592521\n",
      "AUC 0.8422452325868692\n",
      "In epoch 205, loss: 0.0002956393000204116\n",
      "In epoch 210, loss: 0.0002787768025882542\n",
      "In epoch 215, loss: 0.00026343876379542053\n",
      "In epoch 220, loss: 0.0002494175569154322\n",
      "In epoch 225, loss: 0.00023656438861507922\n",
      "In epoch 230, loss: 0.00022475229343399405\n",
      "In epoch 235, loss: 0.00021386280423030257\n",
      "In epoch 240, loss: 0.00020378718909341842\n",
      "In epoch 245, loss: 0.00019445402722340077\n",
      "In epoch 250, loss: 0.00018577092851046473\n",
      "In epoch 255, loss: 0.00017768549150787294\n",
      "In epoch 260, loss: 0.00017014997138176113\n",
      "In epoch 265, loss: 0.00016310426872223616\n",
      "In epoch 270, loss: 0.00015651684952899814\n",
      "In epoch 275, loss: 0.00015033551608212292\n",
      "In epoch 280, loss: 0.00014453462790697813\n",
      "In epoch 285, loss: 0.00013906977255828679\n",
      "In epoch 290, loss: 0.0001339161826763302\n",
      "In epoch 295, loss: 0.00012905742914881557\n",
      "In epoch 300, loss: 0.0001244686427526176\n",
      "AUC 0.8429298533276431\n",
      "In epoch 305, loss: 0.0001201338236569427\n",
      "In epoch 310, loss: 0.00011602784070419148\n",
      "In epoch 315, loss: 0.00011213473044335842\n",
      "In epoch 320, loss: 0.00010844271309906617\n",
      "In epoch 325, loss: 0.00010492677392903715\n",
      "In epoch 330, loss: 0.00010157946962863207\n",
      "In epoch 335, loss: 9.839358972385526e-05\n",
      "In epoch 340, loss: 9.535971912555397e-05\n",
      "In epoch 345, loss: 9.246998524758965e-05\n",
      "In epoch 350, loss: 8.97132049431093e-05\n",
      "In epoch 355, loss: 8.708092354936525e-05\n",
      "In epoch 360, loss: 8.456455543637276e-05\n",
      "In epoch 365, loss: 8.215837442548946e-05\n",
      "In epoch 370, loss: 7.985479169292375e-05\n",
      "In epoch 375, loss: 7.765210466459394e-05\n",
      "In epoch 380, loss: 7.554217881988734e-05\n",
      "In epoch 385, loss: 7.351696694968268e-05\n",
      "In epoch 390, loss: 7.157572690630332e-05\n",
      "In epoch 395, loss: 6.971025140956044e-05\n",
      "In epoch 400, loss: 6.79198928992264e-05\n",
      "AUC 0.8431149345252802\n",
      "In epoch 405, loss: 6.619944178964943e-05\n",
      "In epoch 410, loss: 6.454518006648868e-05\n",
      "In epoch 415, loss: 6.295384810073301e-05\n",
      "In epoch 420, loss: 6.142004713183269e-05\n",
      "In epoch 425, loss: 5.9940688515780494e-05\n",
      "In epoch 430, loss: 5.851528840139508e-05\n",
      "In epoch 435, loss: 5.714052531402558e-05\n",
      "In epoch 440, loss: 5.5813914514146745e-05\n",
      "In epoch 445, loss: 5.453251287690364e-05\n",
      "In epoch 450, loss: 5.329533087206073e-05\n",
      "In epoch 455, loss: 5.2099803724559024e-05\n",
      "In epoch 460, loss: 5.0944207032443956e-05\n",
      "In epoch 465, loss: 4.982893369742669e-05\n",
      "In epoch 470, loss: 4.8750291171018034e-05\n",
      "In epoch 475, loss: 4.770871964865364e-05\n",
      "In epoch 480, loss: 4.669994814321399e-05\n",
      "In epoch 485, loss: 4.5723747462034225e-05\n",
      "In epoch 490, loss: 4.477809488889761e-05\n",
      "In epoch 495, loss: 4.386306318338029e-05\n",
      "In epoch 500, loss: 4.297591294744052e-05\n",
      "AUC 0.8432851912580581\n",
      "In epoch 505, loss: 4.2115763790206984e-05\n",
      "In epoch 510, loss: 4.128275759285316e-05\n",
      "In epoch 515, loss: 4.047226320835762e-05\n",
      "In epoch 520, loss: 3.968628516304307e-05\n",
      "In epoch 525, loss: 3.8923149986658245e-05\n",
      "In epoch 530, loss: 3.8182155549293384e-05\n",
      "In epoch 535, loss: 3.7462872569449246e-05\n",
      "In epoch 540, loss: 3.676472624647431e-05\n",
      "In epoch 545, loss: 3.6086443287786096e-05\n",
      "In epoch 550, loss: 3.542701597325504e-05\n",
      "In epoch 555, loss: 3.478634971543215e-05\n",
      "In epoch 560, loss: 3.416258914512582e-05\n",
      "In epoch 565, loss: 3.3557022106833756e-05\n",
      "In epoch 570, loss: 3.296761497040279e-05\n",
      "In epoch 575, loss: 3.2392723369412124e-05\n",
      "In epoch 580, loss: 3.1832132663112134e-05\n",
      "In epoch 585, loss: 3.1286737794289365e-05\n",
      "In epoch 590, loss: 3.075421045650728e-05\n",
      "In epoch 595, loss: 3.0235985832405277e-05\n",
      "In epoch 600, loss: 2.9730939786531962e-05\n",
      "AUC 0.8434087284652187\n",
      "In epoch 605, loss: 2.9238142815302126e-05\n",
      "In epoch 610, loss: 2.8757343898178078e-05\n",
      "In epoch 615, loss: 2.8288483008509502e-05\n",
      "In epoch 620, loss: 2.783128547889646e-05\n",
      "In epoch 625, loss: 2.738550574576948e-05\n",
      "In epoch 630, loss: 2.694995782803744e-05\n",
      "In epoch 635, loss: 2.6525009161559865e-05\n",
      "In epoch 640, loss: 2.6108074962394312e-05\n",
      "In epoch 645, loss: 2.5699337129481137e-05\n",
      "In epoch 650, loss: 2.530132951505948e-05\n",
      "In epoch 655, loss: 2.491211489541456e-05\n",
      "In epoch 660, loss: 2.4532628231099807e-05\n",
      "In epoch 665, loss: 2.4162016416084953e-05\n",
      "In epoch 670, loss: 2.3800781491445377e-05\n",
      "In epoch 675, loss: 2.3447504645446315e-05\n",
      "In epoch 680, loss: 2.310228046553675e-05\n",
      "In epoch 685, loss: 2.276472696394194e-05\n",
      "In epoch 690, loss: 2.243465860374272e-05\n",
      "In epoch 695, loss: 2.2111913494882174e-05\n",
      "In epoch 700, loss: 2.1796357032144442e-05\n",
      "AUC 0.8434249006087016\n",
      "In epoch 705, loss: 2.1486855985131115e-05\n",
      "In epoch 710, loss: 2.1184554498177022e-05\n",
      "In epoch 715, loss: 2.0887800928903744e-05\n",
      "In epoch 720, loss: 2.0597481125150807e-05\n",
      "In epoch 725, loss: 2.0313356799306348e-05\n",
      "In epoch 730, loss: 2.0035042325616814e-05\n",
      "In epoch 735, loss: 1.9762466763495468e-05\n",
      "In epoch 740, loss: 1.949601573869586e-05\n",
      "In epoch 745, loss: 1.923423224070575e-05\n",
      "In epoch 750, loss: 1.8977749277837574e-05\n",
      "In epoch 755, loss: 1.872678694780916e-05\n",
      "In epoch 760, loss: 1.84804703167174e-05\n",
      "In epoch 765, loss: 1.82386975211557e-05\n",
      "In epoch 770, loss: 1.800212703528814e-05\n",
      "In epoch 775, loss: 1.7769636542652734e-05\n",
      "In epoch 780, loss: 1.7541817214805633e-05\n",
      "In epoch 785, loss: 1.7318514437647536e-05\n",
      "In epoch 790, loss: 1.7099482647608966e-05\n",
      "In epoch 795, loss: 1.6884368960745633e-05\n",
      "In epoch 800, loss: 1.66731533681741e-05\n",
      "AUC 0.8434240021562859\n",
      "In epoch 805, loss: 1.6466334272990935e-05\n",
      "In epoch 810, loss: 1.6263014913420193e-05\n",
      "In epoch 815, loss: 1.6063519069575705e-05\n",
      "In epoch 820, loss: 1.586765210959129e-05\n",
      "In epoch 825, loss: 1.5675170288886875e-05\n",
      "In epoch 830, loss: 1.548657746752724e-05\n",
      "In epoch 835, loss: 1.5300940503948368e-05\n",
      "In epoch 840, loss: 1.5118263036129065e-05\n",
      "In epoch 845, loss: 1.4939650100131985e-05\n",
      "In epoch 850, loss: 1.4763702893105801e-05\n",
      "In epoch 855, loss: 1.4590890714316629e-05\n",
      "In epoch 860, loss: 1.4420864317798987e-05\n",
      "In epoch 865, loss: 1.425369282515021e-05\n",
      "In epoch 870, loss: 1.4089594515098725e-05\n",
      "In epoch 875, loss: 1.3927917279943358e-05\n",
      "In epoch 880, loss: 1.3769451470579952e-05\n",
      "In epoch 885, loss: 1.3613443115900736e-05\n",
      "In epoch 890, loss: 1.3459738511301111e-05\n",
      "In epoch 895, loss: 1.330877512373263e-05\n",
      "In epoch 900, loss: 1.316022371611325e-05\n",
      "AUC 0.8434922845398801\n",
      "In epoch 905, loss: 1.3014322576054838e-05\n",
      "In epoch 910, loss: 1.287084069190314e-05\n",
      "In epoch 915, loss: 1.272968074772507e-05\n",
      "In epoch 920, loss: 1.2590271580847912e-05\n",
      "In epoch 925, loss: 1.245347721123835e-05\n",
      "In epoch 930, loss: 1.2318721019255463e-05\n",
      "In epoch 935, loss: 1.218616762344027e-05\n",
      "In epoch 940, loss: 1.2055839761160314e-05\n",
      "In epoch 945, loss: 1.1927168088732287e-05\n",
      "In epoch 950, loss: 1.1800885658885818e-05\n",
      "In epoch 955, loss: 1.1676361282297876e-05\n",
      "In epoch 960, loss: 1.1553924196050502e-05\n",
      "In epoch 965, loss: 1.1432956853241194e-05\n",
      "In epoch 970, loss: 1.1314614312141202e-05\n"
     ]
    },
    {
     "name": "stdout",
     "output_type": "stream",
     "text": [
      "In epoch 975, loss: 1.1197528692719061e-05\n",
      "In epoch 980, loss: 1.1082400305895135e-05\n",
      "In epoch 985, loss: 1.0968301467073616e-05\n",
      "In epoch 990, loss: 1.0856972949113697e-05\n",
      "In epoch 995, loss: 1.0746447514975443e-05\n",
      "In epoch 1000, loss: 1.0638144885888323e-05\n",
      "AUC 0.8435794344242042\n"
     ]
    }
   ],
   "source": [
    "train_link_pred(1000, model, pred, optimizer, train_g, train_pos_g, train_neg_g, test_pos_g, test_neg_g)"
   ]
  },
  {
   "cell_type": "code",
   "execution_count": null,
   "metadata": {},
   "outputs": [],
   "source": []
  },
  {
   "cell_type": "markdown",
   "metadata": {},
   "source": [
    "### Pool Agg"
   ]
  },
  {
   "cell_type": "code",
   "execution_count": 8,
   "metadata": {},
   "outputs": [],
   "source": [
    "model = GraphSAGE(train_g.ndata[\"x\"].shape[1], 32, agg='pool')\n",
    "pred = DotPredictor()\n",
    "optimizer = torch.optim.Adam(\n",
    "    itertools.chain(model.parameters(), pred.parameters()), lr=0.01\n",
    ")"
   ]
  },
  {
   "cell_type": "code",
   "execution_count": 9,
   "metadata": {},
   "outputs": [],
   "source": [
    "import time"
   ]
  },
  {
   "cell_type": "code",
   "execution_count": 10,
   "metadata": {
    "scrolled": true
   },
   "outputs": [
    {
     "name": "stdout",
     "output_type": "stream",
     "text": [
      "In epoch 5, loss: 1.0531113730394281e-05\n",
      "In epoch 10, loss: 1.0425682376080658e-05\n",
      "In epoch 15, loss: 1.0321818990632892e-05\n",
      "In epoch 20, loss: 1.0219674550171476e-05\n",
      "In epoch 25, loss: 1.0118860700458754e-05\n",
      "In epoch 30, loss: 1.0019294677476864e-05\n",
      "In epoch 35, loss: 9.921465789375361e-06\n",
      "In epoch 40, loss: 9.825149390962906e-06\n",
      "In epoch 45, loss: 9.729886187415104e-06\n",
      "In epoch 50, loss: 9.636203685658984e-06\n",
      "In epoch 55, loss: 9.543926353217103e-06\n",
      "In epoch 60, loss: 9.452308404434007e-06\n",
      "In epoch 65, loss: 9.363135177409276e-06\n",
      "In epoch 70, loss: 9.273812793253455e-06\n",
      "In epoch 75, loss: 9.186521310766693e-06\n",
      "In epoch 80, loss: 9.099997441808227e-06\n",
      "In epoch 85, loss: 9.014658644446172e-06\n",
      "In epoch 90, loss: 8.93096876097843e-06\n",
      "In epoch 95, loss: 8.847842764225788e-06\n",
      "In epoch 100, loss: 8.765883649175521e-06\n",
      "AUC 0.8435749421621257\n",
      "In epoch 105, loss: 8.685507054906338e-06\n",
      "In epoch 110, loss: 8.605461516708601e-06\n",
      "In epoch 115, loss: 8.526971214450896e-06\n",
      "In epoch 120, loss: 8.449612323602196e-06\n",
      "In epoch 125, loss: 8.3726145021501e-06\n",
      "In epoch 130, loss: 8.29723103379365e-06\n",
      "In epoch 135, loss: 8.222818905778695e-06\n",
      "In epoch 140, loss: 8.14914073998807e-06\n",
      "In epoch 145, loss: 8.076785888988525e-06\n",
      "In epoch 150, loss: 8.005014933587518e-06\n",
      "In epoch 155, loss: 7.934108907647897e-06\n",
      "In epoch 160, loss: 7.864250619604718e-06\n",
      "In epoch 165, loss: 7.795277269906364e-06\n",
      "In epoch 170, loss: 7.727068805252202e-06\n",
      "In epoch 175, loss: 7.659820767003112e-06\n",
      "In epoch 180, loss: 7.593149348394945e-06\n",
      "In epoch 185, loss: 7.528127753175795e-06\n",
      "In epoch 190, loss: 7.463017936970573e-06\n",
      "In epoch 195, loss: 7.399037713184953e-06\n",
      "In epoch 200, loss: 7.33567185307038e-06\n",
      "AUC 0.8436225601401585\n",
      "In epoch 205, loss: 7.273466962942621e-06\n",
      "In epoch 210, loss: 7.212053333205404e-06\n",
      "In epoch 215, loss: 7.151064437493915e-06\n",
      "In epoch 220, loss: 7.090716280799825e-06\n",
      "In epoch 225, loss: 7.031208951957524e-06\n",
      "In epoch 230, loss: 6.972623850742821e-06\n",
      "In epoch 235, loss: 6.914596269780304e-06\n",
      "In epoch 240, loss: 6.857064818177605e-06\n",
      "In epoch 245, loss: 6.800285518693272e-06\n",
      "In epoch 250, loss: 6.744202892150497e-06\n",
      "In epoch 255, loss: 6.688929261144949e-06\n",
      "In epoch 260, loss: 6.6340267039777245e-06\n",
      "In epoch 265, loss: 6.580045464943396e-06\n",
      "In epoch 270, loss: 6.5267040554317646e-06\n",
      "In epoch 275, loss: 6.473582288890611e-06\n",
      "In epoch 280, loss: 6.421526904887287e-06\n",
      "In epoch 285, loss: 6.369722996169003e-06\n",
      "In epoch 290, loss: 6.318570740404539e-06\n",
      "In epoch 295, loss: 6.268315701163374e-06\n",
      "In epoch 300, loss: 6.218455837370129e-06\n",
      "AUC 0.84363693537881\n",
      "In epoch 305, loss: 6.169148491608212e-06\n",
      "In epoch 310, loss: 6.1200162235763855e-06\n",
      "In epoch 315, loss: 6.072157702874392e-06\n",
      "In epoch 320, loss: 6.024687991157407e-06\n",
      "In epoch 325, loss: 5.9772305576188955e-06\n",
      "In epoch 330, loss: 5.9307330957381055e-06\n",
      "In epoch 335, loss: 5.884775418962818e-06\n",
      "In epoch 340, loss: 5.838936431246111e-06\n",
      "In epoch 345, loss: 5.794001481262967e-06\n",
      "In epoch 350, loss: 5.749862793891225e-06\n",
      "In epoch 355, loss: 5.7052975535043515e-06\n",
      "In epoch 360, loss: 5.661886007146677e-06\n",
      "In epoch 365, loss: 5.618569502985338e-06\n",
      "In epoch 370, loss: 5.575835984927835e-06\n",
      "In epoch 375, loss: 5.533635430765571e-06\n",
      "In epoch 380, loss: 5.492037871590583e-06\n",
      "In epoch 385, loss: 5.4509478104591835e-06\n",
      "In epoch 390, loss: 5.410158792074071e-06\n",
      "In epoch 395, loss: 5.369452082959469e-06\n",
      "In epoch 400, loss: 5.329741270543309e-06\n",
      "AUC 0.8436315446643158\n",
      "In epoch 405, loss: 5.289999990054639e-06\n",
      "In epoch 410, loss: 5.250943104329053e-06\n",
      "In epoch 415, loss: 5.212079940974945e-06\n",
      "In epoch 420, loss: 5.173712906980654e-06\n",
      "In epoch 425, loss: 5.135997071192833e-06\n",
      "In epoch 430, loss: 5.09801884618355e-06\n",
      "In epoch 435, loss: 5.061024694441585e-06\n",
      "In epoch 440, loss: 5.024263828090625e-06\n",
      "In epoch 445, loss: 4.9878849495144095e-06\n",
      "In epoch 450, loss: 4.951926712237764e-06\n",
      "In epoch 455, loss: 4.9161935748998076e-06\n",
      "In epoch 460, loss: 4.881126187683549e-06\n",
      "In epoch 465, loss: 4.846058345719939e-06\n",
      "In epoch 470, loss: 4.811410235561198e-06\n",
      "In epoch 475, loss: 4.777710728376405e-06\n",
      "In epoch 480, loss: 4.74344551548711e-06\n",
      "In epoch 485, loss: 4.709871063823812e-06\n",
      "In epoch 490, loss: 4.6765976549068e-06\n",
      "In epoch 495, loss: 4.643756710720481e-06\n",
      "In epoch 500, loss: 4.611342319549294e-06\n",
      "AUC 0.8436189663304957\n",
      "In epoch 505, loss: 4.579436335916398e-06\n",
      "In epoch 510, loss: 4.547360731521621e-06\n",
      "In epoch 515, loss: 4.515517503023148e-06\n",
      "In epoch 520, loss: 4.484157216211315e-06\n",
      "In epoch 525, loss: 4.453072961041471e-06\n",
      "In epoch 530, loss: 4.422352049004985e-06\n",
      "In epoch 535, loss: 4.392253231344512e-06\n",
      "In epoch 540, loss: 4.362140771263512e-06\n",
      "In epoch 545, loss: 4.332418029662222e-06\n",
      "In epoch 550, loss: 4.302989509596955e-06\n",
      "In epoch 555, loss: 4.273737431503832e-06\n",
      "In epoch 560, loss: 4.244767296768259e-06\n",
      "In epoch 565, loss: 4.215940862195566e-06\n",
      "In epoch 570, loss: 4.1877424337144475e-06\n",
      "In epoch 575, loss: 4.159405762038659e-06\n",
      "In epoch 580, loss: 4.131602509005461e-06\n",
      "In epoch 585, loss: 4.104150320927147e-06\n",
      "In epoch 590, loss: 4.076760433235904e-06\n",
      "In epoch 595, loss: 4.0498794078303035e-06\n",
      "In epoch 600, loss: 4.0226595956482925e-06\n",
      "AUC 0.8435794344242044\n",
      "In epoch 605, loss: 3.9959040805115364e-06\n",
      "In epoch 610, loss: 3.969875251641497e-06\n",
      "In epoch 615, loss: 3.943696810893016e-06\n",
      "In epoch 620, loss: 3.917637513950467e-06\n",
      "In epoch 625, loss: 3.892042514053173e-06\n",
      "In epoch 630, loss: 3.866735369228991e-06\n",
      "In epoch 635, loss: 3.841535544779617e-06\n",
      "In epoch 640, loss: 3.816423486568965e-06\n",
      "In epoch 645, loss: 3.7919198803137988e-06\n",
      "In epoch 650, loss: 3.76722778128169e-06\n",
      "In epoch 655, loss: 3.7430440897878725e-06\n",
      "In epoch 660, loss: 3.719042069860734e-06\n",
      "In epoch 665, loss: 3.6949400055164006e-06\n",
      "In epoch 670, loss: 3.6713895497086924e-06\n",
      "In epoch 675, loss: 3.64767015526013e-06\n",
      "In epoch 680, loss: 3.6243268368707504e-06\n",
      "In epoch 685, loss: 3.6011847441841383e-06\n",
      "In epoch 690, loss: 3.5784059946308844e-06\n",
      "In epoch 695, loss: 3.555551984391059e-06\n",
      "In epoch 700, loss: 3.5332566312717972e-06\n",
      "AUC 0.84359920037735\n",
      "In epoch 705, loss: 3.5110303997498704e-06\n",
      "In epoch 710, loss: 3.4893243991973577e-06\n",
      "In epoch 715, loss: 3.4674176276894286e-06\n",
      "In epoch 720, loss: 3.445517677391763e-06\n",
      "In epoch 725, loss: 3.423642283451045e-06\n",
      "In epoch 730, loss: 3.4025008517346578e-06\n",
      "In epoch 735, loss: 3.381572923899512e-06\n",
      "In epoch 740, loss: 3.360720029377262e-06\n",
      "In epoch 745, loss: 3.339742306707194e-06\n",
      "In epoch 750, loss: 3.3191274724231334e-06\n",
      "In epoch 755, loss: 3.2987393296934897e-06\n",
      "In epoch 760, loss: 3.2787650070531527e-06\n",
      "In epoch 765, loss: 3.258508286307915e-06\n",
      "In epoch 770, loss: 3.2385653412347892e-06\n",
      "In epoch 775, loss: 3.2189420835493365e-06\n",
      "In epoch 780, loss: 3.1991935429687146e-06\n",
      "In epoch 785, loss: 3.179940677000559e-06\n",
      "In epoch 790, loss: 3.1606120955984807e-06\n",
      "In epoch 795, loss: 3.1413467240781756e-06\n",
      "In epoch 800, loss: 3.122463795079966e-06\n",
      "AUC 0.84357404370971\n",
      "In epoch 805, loss: 3.103706376350601e-06\n",
      "In epoch 810, loss: 3.085350499532069e-06\n",
      "In epoch 815, loss: 3.0668754789076047e-06\n",
      "In epoch 820, loss: 3.048431608476676e-06\n",
      "In epoch 825, loss: 3.030238985957112e-06\n",
      "In epoch 830, loss: 3.012322167705861e-06\n",
      "In epoch 835, loss: 2.9945181267976295e-06\n",
      "In epoch 840, loss: 2.977034228024422e-06\n",
      "In epoch 845, loss: 2.9591801649075933e-06\n",
      "In epoch 850, loss: 2.941828142866143e-06\n",
      "In epoch 855, loss: 2.9245195491967024e-06\n",
      "In epoch 860, loss: 2.907361931647756e-06\n",
      "In epoch 865, loss: 2.890373707487015e-06\n",
      "In epoch 870, loss: 2.873586026908015e-06\n",
      "In epoch 875, loss: 2.85667283606017e-06\n",
      "In epoch 880, loss: 2.840393563019461e-06\n",
      "In epoch 885, loss: 2.8239510356797837e-06\n",
      "In epoch 890, loss: 2.8074146030121483e-06\n",
      "In epoch 895, loss: 2.7911851248063613e-06\n",
      "In epoch 900, loss: 2.775376060526469e-06\n",
      "AUC 0.8435857235911144\n",
      "In epoch 905, loss: 2.7591906928137178e-06\n",
      "In epoch 910, loss: 2.7431433409219608e-06\n",
      "In epoch 915, loss: 2.7275600587017834e-06\n",
      "In epoch 920, loss: 2.7120022423332557e-06\n",
      "In epoch 925, loss: 2.696738874874427e-06\n",
      "In epoch 930, loss: 2.6815198452823097e-06\n",
      "In epoch 935, loss: 2.665949295987957e-06\n",
      "In epoch 940, loss: 2.651049953783513e-06\n",
      "In epoch 945, loss: 2.6358870854892302e-06\n",
      "In epoch 950, loss: 2.6208936105831526e-06\n",
      "In epoch 955, loss: 2.6062516553793103e-06\n",
      "In epoch 960, loss: 2.5914901016221847e-06\n",
      "In epoch 965, loss: 2.5766598810150754e-06\n",
      "In epoch 970, loss: 2.562463123467751e-06\n",
      "In epoch 975, loss: 2.5481911052338546e-06\n"
     ]
    },
    {
     "name": "stdout",
     "output_type": "stream",
     "text": [
      "In epoch 980, loss: 2.5339757030451437e-06\n",
      "In epoch 985, loss: 2.5199672109010862e-06\n",
      "In epoch 990, loss: 2.505920974726905e-06\n",
      "In epoch 995, loss: 2.49191884904576e-06\n",
      "In epoch 1000, loss: 2.4782741547824116e-06\n",
      "AUC 0.8435524808517327\n",
      "\n",
      " 5.93447732925415\n"
     ]
    }
   ],
   "source": [
    "start=time.time()\n",
    "train_link_pred(1000, model, pred, optimizer, train_g, train_pos_g, train_neg_g, test_pos_g, test_neg_g)\n",
    "print('\\n'+'Time:',time.time()-start)"
   ]
  },
  {
   "cell_type": "markdown",
   "metadata": {
    "jp-MarkdownHeadingCollapsed": true
   },
   "source": [
    "### LSTM Agg"
   ]
  },
  {
   "cell_type": "code",
   "execution_count": 8,
   "metadata": {},
   "outputs": [],
   "source": [
    "model = GraphSAGE(train_g.ndata[\"x\"].shape[1], 32, agg='lstm')\n",
    "pred = DotPredictor()\n",
    "optimizer = torch.optim.Adam(\n",
    "    itertools.chain(model.parameters(), pred.parameters()), lr=0.01\n",
    ")"
   ]
  },
  {
   "cell_type": "code",
   "execution_count": 9,
   "metadata": {
    "scrolled": true
   },
   "outputs": [
    {
     "name": "stdout",
     "output_type": "stream",
     "text": [
      "In epoch 5, loss: 0.6888569593429565\n",
      "In epoch 10, loss: 0.6576717495918274\n",
      "In epoch 15, loss: 0.5815128087997437\n",
      "In epoch 20, loss: 0.5191725492477417\n",
      "In epoch 25, loss: 0.4712483882904053\n",
      "In epoch 30, loss: 0.4452245235443115\n",
      "In epoch 35, loss: 0.4097415506839752\n",
      "In epoch 40, loss: 0.3833618760108948\n",
      "In epoch 45, loss: 0.35520023107528687\n",
      "In epoch 50, loss: 0.32729968428611755\n",
      "In epoch 55, loss: 0.29808664321899414\n",
      "In epoch 60, loss: 0.2682197690010071\n",
      "In epoch 65, loss: 0.23794840276241302\n",
      "In epoch 70, loss: 0.2076166570186615\n",
      "In epoch 75, loss: 0.17821840941905975\n",
      "In epoch 80, loss: 0.1500256508588791\n",
      "In epoch 85, loss: 0.1233985647559166\n",
      "In epoch 90, loss: 0.09837648272514343\n",
      "In epoch 95, loss: 0.07606442272663116\n",
      "In epoch 100, loss: 0.056776903569698334\n",
      "AUC 0.8300667100918667\n",
      "In epoch 105, loss: 0.04092235863208771\n",
      "In epoch 110, loss: 0.028636062517762184\n",
      "In epoch 115, loss: 0.019585611298680305\n",
      "In epoch 120, loss: 0.013291393406689167\n",
      "In epoch 125, loss: 0.009067066013813019\n",
      "In epoch 130, loss: 0.006315000355243683\n",
      "In epoch 135, loss: 0.0045520225539803505\n",
      "In epoch 140, loss: 0.0034147908445447683\n",
      "In epoch 145, loss: 0.0026642221491783857\n",
      "In epoch 150, loss: 0.0021533190738409758\n",
      "In epoch 155, loss: 0.0017931879265233874\n",
      "In epoch 160, loss: 0.0015285364352166653\n",
      "In epoch 165, loss: 0.0013276970712468028\n",
      "In epoch 170, loss: 0.0011700608301907778\n",
      "In epoch 175, loss: 0.0010425690561532974\n",
      "In epoch 180, loss: 0.0009370645857416093\n",
      "In epoch 185, loss: 0.0008482445846311748\n",
      "In epoch 190, loss: 0.0007724138558842242\n",
      "In epoch 195, loss: 0.0007070923456922174\n",
      "In epoch 200, loss: 0.0006503943004645407\n",
      "AUC 0.8316686507490846\n",
      "In epoch 205, loss: 0.000600760686211288\n",
      "In epoch 210, loss: 0.0005570851499214768\n",
      "In epoch 215, loss: 0.0005184468463994563\n",
      "In epoch 220, loss: 0.0004841031040996313\n",
      "In epoch 225, loss: 0.00045339696225710213\n",
      "In epoch 230, loss: 0.00042580152512528\n",
      "In epoch 235, loss: 0.0004009163531009108\n",
      "In epoch 240, loss: 0.00037833122769370675\n",
      "In epoch 245, loss: 0.00035776503500528634\n",
      "In epoch 250, loss: 0.00033896914101205766\n",
      "In epoch 255, loss: 0.0003217291086912155\n",
      "In epoch 260, loss: 0.0003058813454117626\n",
      "In epoch 265, loss: 0.0002912607160396874\n",
      "In epoch 270, loss: 0.00027774606132879853\n",
      "In epoch 275, loss: 0.00026521761901676655\n",
      "In epoch 280, loss: 0.0002535800158511847\n",
      "In epoch 285, loss: 0.0002427410363452509\n",
      "In epoch 290, loss: 0.00023262864851858467\n",
      "In epoch 295, loss: 0.00022316985996440053\n",
      "In epoch 300, loss: 0.0002143067104043439\n",
      "AUC 0.8321457289818288\n",
      "In epoch 305, loss: 0.000205983393243514\n",
      "In epoch 310, loss: 0.0001981605018954724\n",
      "In epoch 315, loss: 0.000190800114069134\n",
      "In epoch 320, loss: 0.0001838624302763492\n",
      "In epoch 325, loss: 0.00017731521802488714\n",
      "In epoch 330, loss: 0.00017112534260377288\n",
      "In epoch 335, loss: 0.00016526701801922172\n",
      "In epoch 340, loss: 0.00015971502580214292\n",
      "In epoch 345, loss: 0.0001544522529002279\n",
      "In epoch 350, loss: 0.00014945799193810672\n",
      "In epoch 355, loss: 0.00014471237955149263\n",
      "In epoch 360, loss: 0.0001401979970978573\n",
      "In epoch 365, loss: 0.00013590189337264746\n",
      "In epoch 370, loss: 0.0001318084105150774\n",
      "In epoch 375, loss: 0.0001279021380469203\n",
      "In epoch 380, loss: 0.0001241742429556325\n",
      "In epoch 385, loss: 0.00012061309826094657\n",
      "In epoch 390, loss: 0.00011720851762220263\n",
      "In epoch 395, loss: 0.00011395005276426673\n",
      "In epoch 400, loss: 0.00011082996934419498\n",
      "AUC 0.8324790548280587\n",
      "In epoch 405, loss: 0.00010784083133330569\n",
      "In epoch 410, loss: 0.00010497411858523265\n",
      "In epoch 415, loss: 0.00010222335549769923\n",
      "In epoch 420, loss: 9.958182636182755e-05\n",
      "In epoch 425, loss: 9.704461990622804e-05\n",
      "In epoch 430, loss: 9.460655564907938e-05\n",
      "In epoch 435, loss: 9.226154361385852e-05\n",
      "In epoch 440, loss: 9.000531281344593e-05\n",
      "In epoch 445, loss: 8.78324790392071e-05\n",
      "In epoch 450, loss: 8.57408667798154e-05\n",
      "In epoch 455, loss: 8.372461888939142e-05\n",
      "In epoch 460, loss: 8.178053394658491e-05\n",
      "In epoch 465, loss: 7.990583981154487e-05\n",
      "In epoch 470, loss: 7.809553790139034e-05\n",
      "In epoch 475, loss: 7.634672510903329e-05\n",
      "In epoch 480, loss: 7.465713861165568e-05\n",
      "In epoch 485, loss: 7.302274752873927e-05\n",
      "In epoch 490, loss: 7.144307892303914e-05\n",
      "In epoch 495, loss: 6.99144511600025e-05\n",
      "In epoch 500, loss: 6.843471783213317e-05\n",
      "AUC 0.8327948608521821\n",
      "In epoch 505, loss: 6.7002561991103e-05\n",
      "In epoch 510, loss: 6.56142583466135e-05\n",
      "In epoch 515, loss: 6.426949403248727e-05\n",
      "In epoch 520, loss: 6.29666174063459e-05\n",
      "In epoch 525, loss: 6.170328560983762e-05\n",
      "In epoch 530, loss: 6.047756687621586e-05\n",
      "In epoch 535, loss: 5.928758764639497e-05\n",
      "In epoch 540, loss: 5.8132533013122156e-05\n",
      "In epoch 545, loss: 5.701142436009832e-05\n",
      "In epoch 550, loss: 5.59231084480416e-05\n",
      "In epoch 555, loss: 5.486577720148489e-05\n",
      "In epoch 560, loss: 5.383825191529468e-05\n",
      "In epoch 565, loss: 5.2839626732748e-05\n",
      "In epoch 570, loss: 5.186943963053636e-05\n",
      "In epoch 575, loss: 5.092587889521383e-05\n",
      "In epoch 580, loss: 5.00086389365606e-05\n",
      "In epoch 585, loss: 4.911584619549103e-05\n",
      "In epoch 590, loss: 4.8247238737531006e-05\n",
      "In epoch 595, loss: 4.7402056225109845e-05\n",
      "In epoch 600, loss: 4.657909812522121e-05\n",
      "AUC 0.8331744569978212\n",
      "In epoch 605, loss: 4.5777549530612305e-05\n",
      "In epoch 610, loss: 4.4996610085945576e-05\n",
      "In epoch 615, loss: 4.423546852194704e-05\n",
      "In epoch 620, loss: 4.3494303099578246e-05\n",
      "In epoch 625, loss: 4.277141852071509e-05\n",
      "In epoch 630, loss: 4.206675657769665e-05\n",
      "In epoch 635, loss: 4.137967334827408e-05\n",
      "In epoch 640, loss: 4.070952854817733e-05\n",
      "In epoch 645, loss: 4.005515074823052e-05\n",
      "In epoch 650, loss: 3.9417169318767264e-05\n",
      "In epoch 655, loss: 3.879471114487387e-05\n",
      "In epoch 660, loss: 3.818632467300631e-05\n",
      "In epoch 665, loss: 3.759246465051547e-05\n",
      "In epoch 670, loss: 3.701215609908104e-05\n",
      "In epoch 675, loss: 3.644546814030036e-05\n",
      "In epoch 680, loss: 3.589141124393791e-05\n",
      "In epoch 685, loss: 3.534990901243873e-05\n",
      "In epoch 690, loss: 3.4820695873349905e-05\n",
      "In epoch 695, loss: 3.4303258871659636e-05\n",
      "In epoch 700, loss: 3.379699046490714e-05\n",
      "AUC 0.8333415691471442\n",
      "In epoch 705, loss: 3.3301839721389115e-05\n",
      "In epoch 710, loss: 3.281714452896267e-05\n",
      "In epoch 715, loss: 3.2343348721042275e-05\n",
      "In epoch 720, loss: 3.187944457749836e-05\n",
      "In epoch 725, loss: 3.142524292343296e-05\n",
      "In epoch 730, loss: 3.098131128353998e-05\n",
      "In epoch 735, loss: 3.054657281609252e-05\n",
      "In epoch 740, loss: 3.0120578230707906e-05\n",
      "In epoch 745, loss: 2.970384775835555e-05\n",
      "In epoch 750, loss: 2.9295448257471435e-05\n",
      "In epoch 755, loss: 2.889591814891901e-05\n",
      "In epoch 760, loss: 2.8503793146228418e-05\n",
      "In epoch 765, loss: 2.811980630212929e-05\n",
      "In epoch 770, loss: 2.7743952159653418e-05\n",
      "In epoch 775, loss: 2.7375248464522883e-05\n",
      "In epoch 780, loss: 2.7013507860829122e-05\n",
      "In epoch 785, loss: 2.6659310606191866e-05\n",
      "In epoch 790, loss: 2.6312020054319873e-05\n",
      "In epoch 795, loss: 2.597119237179868e-05\n",
      "In epoch 800, loss: 2.563723683124408e-05\n",
      "AUC 0.833530244154444\n",
      "In epoch 805, loss: 2.530883466533851e-05\n",
      "In epoch 810, loss: 2.498680078133475e-05\n",
      "In epoch 815, loss: 2.4671238861628808e-05\n",
      "In epoch 820, loss: 2.4361093892366625e-05\n",
      "In epoch 825, loss: 2.40570825553732e-05\n",
      "In epoch 830, loss: 2.3758495444781147e-05\n",
      "In epoch 835, loss: 2.346544169995468e-05\n",
      "In epoch 840, loss: 2.3178132323664613e-05\n",
      "In epoch 845, loss: 2.2895526853972115e-05\n",
      "In epoch 850, loss: 2.2618070943281054e-05\n",
      "In epoch 855, loss: 2.234553721791599e-05\n",
      "In epoch 860, loss: 2.2077883841120638e-05\n",
      "In epoch 865, loss: 2.181509080401156e-05\n",
      "In epoch 870, loss: 2.1556792489718646e-05\n",
      "In epoch 875, loss: 2.130333086824976e-05\n",
      "In epoch 880, loss: 2.1054083845228888e-05\n",
      "In epoch 885, loss: 2.0809426132473163e-05\n",
      "In epoch 890, loss: 2.056853372778278e-05\n",
      "In epoch 895, loss: 2.033188138739206e-05\n",
      "In epoch 900, loss: 2.009943636949174e-05\n",
      "AUC 0.8337827092832595\n",
      "In epoch 905, loss: 1.986994539038278e-05\n",
      "In epoch 910, loss: 1.96449054783443e-05\n",
      "In epoch 915, loss: 1.9423567209742032e-05\n",
      "In epoch 920, loss: 1.920584873005282e-05\n",
      "In epoch 925, loss: 1.8991860997630283e-05\n",
      "In epoch 930, loss: 1.8781047401716933e-05\n",
      "In epoch 935, loss: 1.857400275184773e-05\n",
      "In epoch 940, loss: 1.837015588534996e-05\n",
      "In epoch 945, loss: 1.8169333998230286e-05\n",
      "In epoch 950, loss: 1.7972166460822336e-05\n",
      "In epoch 955, loss: 1.7777967514120974e-05\n",
      "In epoch 960, loss: 1.758686630637385e-05\n",
      "In epoch 965, loss: 1.739879371598363e-05\n",
      "In epoch 970, loss: 1.7213556930073537e-05\n",
      "In epoch 975, loss: 1.7031543393386528e-05\n",
      "In epoch 980, loss: 1.685169445408974e-05\n",
      "In epoch 985, loss: 1.667511969571933e-05\n",
      "In epoch 990, loss: 1.650137892283965e-05\n",
      "In epoch 995, loss: 1.633003557799384e-05\n",
      "In epoch 1000, loss: 1.616120971448254e-05\n",
      "AUC 0.833931852384268\n"
     ]
    }
   ],
   "source": [
    "train_link_pred(1000, model, pred, optimizer, train_g, train_pos_g, train_neg_g, test_pos_g, test_neg_g)"
   ]
  },
  {
   "cell_type": "markdown",
   "metadata": {
    "jp-MarkdownHeadingCollapsed": true
   },
   "source": [
    "### GCN Agg"
   ]
  },
  {
   "cell_type": "code",
   "execution_count": 14,
   "metadata": {},
   "outputs": [],
   "source": [
    "model = GraphSAGE(train_g.ndata[\"x\"].shape[1], 32, agg='gcn')\n",
    "model.to(device)\n",
    "pred = DotPredictor()\n",
    "optimizer = torch.optim.Adam(\n",
    "    itertools.chain(model.parameters(), pred.parameters()), lr=0.01\n",
    ")"
   ]
  },
  {
   "cell_type": "code",
   "execution_count": 15,
   "metadata": {
    "scrolled": true
   },
   "outputs": [
    {
     "name": "stdout",
     "output_type": "stream",
     "text": [
      "In epoch 5, loss: 0.6859399080276489\n",
      "In epoch 10, loss: 0.6432526111602783\n",
      "In epoch 15, loss: 0.5632478594779968\n",
      "In epoch 20, loss: 0.5388811826705933\n",
      "In epoch 25, loss: 0.5092340111732483\n",
      "In epoch 30, loss: 0.4958515465259552\n",
      "In epoch 35, loss: 0.47492873668670654\n",
      "In epoch 40, loss: 0.4644346237182617\n",
      "In epoch 45, loss: 0.45353296399116516\n",
      "In epoch 50, loss: 0.4405198395252228\n",
      "In epoch 55, loss: 0.42921268939971924\n",
      "In epoch 60, loss: 0.4169336259365082\n",
      "In epoch 65, loss: 0.4051946699619293\n",
      "In epoch 70, loss: 0.39413154125213623\n",
      "In epoch 75, loss: 0.3829694092273712\n",
      "In epoch 80, loss: 0.3713498115539551\n",
      "In epoch 85, loss: 0.3600638210773468\n",
      "In epoch 90, loss: 0.3493596613407135\n",
      "In epoch 95, loss: 0.33894455432891846\n",
      "In epoch 100, loss: 0.32870492339134216\n",
      "AUC 0.8737611464252824\n",
      "In epoch 105, loss: 0.31884509325027466\n",
      "In epoch 110, loss: 0.3093106746673584\n",
      "In epoch 115, loss: 0.30082541704177856\n",
      "In epoch 120, loss: 0.29147788882255554\n",
      "In epoch 125, loss: 0.2831856608390808\n",
      "In epoch 130, loss: 0.2744896113872528\n",
      "In epoch 135, loss: 0.2661914527416229\n",
      "In epoch 140, loss: 0.2581477761268616\n",
      "In epoch 145, loss: 0.2498132437467575\n",
      "In epoch 150, loss: 0.24191220104694366\n",
      "In epoch 155, loss: 0.23440811038017273\n",
      "In epoch 160, loss: 0.22647927701473236\n",
      "In epoch 165, loss: 0.21851272881031036\n",
      "In epoch 170, loss: 0.21062704920768738\n",
      "In epoch 175, loss: 0.20277705788612366\n",
      "In epoch 180, loss: 0.194936603307724\n",
      "In epoch 185, loss: 0.18700936436653137\n",
      "In epoch 190, loss: 0.1791829913854599\n",
      "In epoch 195, loss: 0.1716635823249817\n",
      "In epoch 200, loss: 0.16531212627887726\n",
      "AUC 0.8388931066238404\n",
      "In epoch 205, loss: 0.15738727152347565\n",
      "In epoch 210, loss: 0.14988695085048676\n",
      "In epoch 215, loss: 0.1434209942817688\n",
      "In epoch 220, loss: 0.1367705911397934\n",
      "In epoch 225, loss: 0.13010725378990173\n",
      "In epoch 230, loss: 0.12389467656612396\n",
      "In epoch 235, loss: 0.11771849542856216\n",
      "In epoch 240, loss: 0.11165272444486618\n",
      "In epoch 245, loss: 0.10595353692770004\n",
      "In epoch 250, loss: 0.10153470933437347\n",
      "In epoch 255, loss: 0.09536401182413101\n",
      "In epoch 260, loss: 0.08990513533353806\n",
      "In epoch 265, loss: 0.08470391482114792\n",
      "In epoch 270, loss: 0.07971756905317307\n",
      "In epoch 275, loss: 0.07495646923780441\n",
      "In epoch 280, loss: 0.07039684802293777\n",
      "In epoch 285, loss: 0.06600862741470337\n",
      "In epoch 290, loss: 0.0617932453751564\n",
      "In epoch 295, loss: 0.05774533748626709\n",
      "In epoch 300, loss: 0.0538753904402256\n",
      "AUC 0.8147606747377643\n",
      "In epoch 305, loss: 0.050181902945041656\n",
      "In epoch 310, loss: 0.04666423052549362\n",
      "In epoch 315, loss: 0.04331890866160393\n",
      "In epoch 320, loss: 0.040155746042728424\n",
      "In epoch 325, loss: 0.037176135927438736\n",
      "In epoch 330, loss: 0.03437085449695587\n",
      "In epoch 335, loss: 0.03173573315143585\n",
      "In epoch 340, loss: 0.029268117621541023\n",
      "In epoch 345, loss: 0.026962876319885254\n",
      "In epoch 350, loss: 0.024816328659653664\n",
      "In epoch 355, loss: 0.022823907434940338\n",
      "In epoch 360, loss: 0.02098032273352146\n",
      "In epoch 365, loss: 0.019280560314655304\n",
      "In epoch 370, loss: 0.017719386145472527\n",
      "In epoch 375, loss: 0.016290875151753426\n",
      "In epoch 380, loss: 0.014987185597419739\n",
      "In epoch 385, loss: 0.013800271786749363\n",
      "In epoch 390, loss: 0.012721599079668522\n",
      "In epoch 395, loss: 0.011742470785975456\n",
      "In epoch 400, loss: 0.010854525491595268\n",
      "AUC 0.8076494238673884\n",
      "In epoch 405, loss: 0.010049072094261646\n",
      "In epoch 410, loss: 0.009318026714026928\n",
      "In epoch 415, loss: 0.008653965778648853\n",
      "In epoch 420, loss: 0.008050113916397095\n",
      "In epoch 425, loss: 0.007500311825424433\n",
      "In epoch 430, loss: 0.006998984143137932\n",
      "In epoch 435, loss: 0.006541168782860041\n",
      "In epoch 440, loss: 0.006122535094618797\n",
      "In epoch 445, loss: 0.0057389684952795506\n",
      "In epoch 450, loss: 0.0053870039992034435\n",
      "In epoch 455, loss: 0.005063395947217941\n",
      "In epoch 460, loss: 0.004765346646308899\n",
      "In epoch 465, loss: 0.004490366671234369\n",
      "In epoch 470, loss: 0.004236290231347084\n",
      "In epoch 475, loss: 0.004001207649707794\n",
      "In epoch 480, loss: 0.003783537307754159\n",
      "In epoch 485, loss: 0.0035816447343677282\n",
      "In epoch 490, loss: 0.0033942514564841986\n",
      "In epoch 495, loss: 0.0032202163711190224\n",
      "In epoch 500, loss: 0.0030585634522140026\n",
      "AUC 0.8068489027649873\n",
      "In epoch 505, loss: 0.0029082633554935455\n",
      "In epoch 510, loss: 0.002768447622656822\n",
      "In epoch 515, loss: 0.00263825710862875\n",
      "In epoch 520, loss: 0.0025169390719383955\n",
      "In epoch 525, loss: 0.0024037493858486414\n",
      "In epoch 530, loss: 0.0022980293724685907\n",
      "In epoch 535, loss: 0.002199167385697365\n",
      "In epoch 540, loss: 0.0021066199988126755\n",
      "In epoch 545, loss: 0.00201986450701952\n",
      "In epoch 550, loss: 0.0019384336192160845\n",
      "In epoch 555, loss: 0.0018619061447679996\n",
      "In epoch 560, loss: 0.0017898866208270192\n",
      "In epoch 565, loss: 0.0017220317386090755\n",
      "In epoch 570, loss: 0.0016580339288339019\n",
      "In epoch 575, loss: 0.0015976093709468842\n",
      "In epoch 580, loss: 0.0015404827427119017\n",
      "In epoch 585, loss: 0.001486420165747404\n",
      "In epoch 590, loss: 0.00143520743586123\n",
      "In epoch 595, loss: 0.001386638032272458\n",
      "In epoch 600, loss: 0.0013405292993411422\n",
      "AUC 0.8075541879113228\n",
      "In epoch 605, loss: 0.0012967180227860808\n",
      "In epoch 610, loss: 0.0012550565879791975\n",
      "In epoch 615, loss: 0.0012154042487964034\n",
      "In epoch 620, loss: 0.0011776309693232179\n",
      "In epoch 625, loss: 0.0011416206834837794\n",
      "In epoch 630, loss: 0.0011072625638917089\n",
      "In epoch 635, loss: 0.0010744594037532806\n",
      "In epoch 640, loss: 0.0010431143455207348\n",
      "In epoch 645, loss: 0.0010131424060091376\n",
      "In epoch 650, loss: 0.000984460930339992\n",
      "In epoch 655, loss: 0.0009570001275278628\n",
      "In epoch 660, loss: 0.0009306930005550385\n",
      "In epoch 665, loss: 0.0009054680704139173\n",
      "In epoch 670, loss: 0.0008812699816189706\n",
      "In epoch 675, loss: 0.000858039129525423\n",
      "In epoch 680, loss: 0.0008357250480912626\n",
      "In epoch 685, loss: 0.0008142800652422011\n",
      "In epoch 690, loss: 0.0007936584879644215\n",
      "In epoch 695, loss: 0.0007738192798569798\n",
      "In epoch 700, loss: 0.0007547235582023859\n",
      "AUC 0.8079566945935626\n",
      "In epoch 705, loss: 0.0007363353506661952\n",
      "In epoch 710, loss: 0.0007186165312305093\n",
      "In epoch 715, loss: 0.0007015355513431132\n",
      "In epoch 720, loss: 0.0006850612116977572\n",
      "In epoch 725, loss: 0.0006691659218631685\n",
      "In epoch 730, loss: 0.0006538229063153267\n",
      "In epoch 735, loss: 0.0006390041089616716\n",
      "In epoch 740, loss: 0.0006246872362680733\n",
      "In epoch 745, loss: 0.0006108503439463675\n",
      "In epoch 750, loss: 0.0005974725354462862\n",
      "In epoch 755, loss: 0.000584531924687326\n",
      "In epoch 760, loss: 0.0005720091867260635\n",
      "In epoch 765, loss: 0.0005598872085101902\n",
      "In epoch 770, loss: 0.0005481481202878058\n",
      "In epoch 775, loss: 0.0005367769044823945\n",
      "In epoch 780, loss: 0.0005257560987956822\n",
      "In epoch 785, loss: 0.0005150737706571817\n",
      "In epoch 790, loss: 0.0005047140293754637\n",
      "In epoch 795, loss: 0.0004946656990796328\n",
      "In epoch 800, loss: 0.00048491574125364423\n",
      "AUC 0.8083304507984995\n",
      "In epoch 805, loss: 0.000475451786769554\n",
      "In epoch 810, loss: 0.0004662630963139236\n",
      "In epoch 815, loss: 0.0004573380865622312\n",
      "In epoch 820, loss: 0.0004486677935346961\n",
      "In epoch 825, loss: 0.0004402432241477072\n",
      "In epoch 830, loss: 0.00043205262045376003\n",
      "In epoch 835, loss: 0.0004240900743752718\n",
      "In epoch 840, loss: 0.00041634586523287\n",
      "In epoch 845, loss: 0.00040881172753870487\n",
      "In epoch 850, loss: 0.0004014813748653978\n",
      "In epoch 855, loss: 0.0003943463962059468\n",
      "In epoch 860, loss: 0.0003873996320180595\n",
      "In epoch 865, loss: 0.00038063517422415316\n",
      "In epoch 870, loss: 0.0003740459505934268\n",
      "In epoch 875, loss: 0.0003676259657368064\n",
      "In epoch 880, loss: 0.00036136966082267463\n",
      "In epoch 885, loss: 0.0003552713606040925\n",
      "In epoch 890, loss: 0.00034932646667584777\n",
      "In epoch 895, loss: 0.00034352889633737504\n",
      "In epoch 900, loss: 0.0003378743422217667\n",
      "AUC 0.8086610812874822\n",
      "In epoch 905, loss: 0.0003323575365357101\n",
      "In epoch 910, loss: 0.0003269751032348722\n",
      "In epoch 915, loss: 0.00032172194914892316\n",
      "In epoch 920, loss: 0.00031659367959946394\n",
      "In epoch 925, loss: 0.00031158720958046615\n",
      "In epoch 930, loss: 0.000306697707856074\n",
      "In epoch 935, loss: 0.00030192200210876763\n",
      "In epoch 940, loss: 0.00029725636704824865\n",
      "In epoch 945, loss: 0.0002926969318650663\n",
      "In epoch 950, loss: 0.0002882413100451231\n",
      "In epoch 955, loss: 0.00028388589271344244\n",
      "In epoch 960, loss: 0.00027962838066741824\n",
      "In epoch 965, loss: 0.0002754647866822779\n",
      "In epoch 970, loss: 0.0002713930734898895\n",
      "In epoch 975, loss: 0.0002674099523574114\n",
      "In epoch 980, loss: 0.000263513094978407\n",
      "In epoch 985, loss: 0.0002597009879536927\n"
     ]
    },
    {
     "name": "stdout",
     "output_type": "stream",
     "text": [
      "In epoch 990, loss: 0.00025596952764317393\n",
      "In epoch 995, loss: 0.0002523177827242762\n",
      "In epoch 1000, loss: 0.0002487432211637497\n",
      "AUC 0.8088659284382651\n",
      "\n",
      "Time: 5.561917543411255\n"
     ]
    }
   ],
   "source": [
    "start=time.time()\n",
    "train_link_pred(1000, model, pred, optimizer, train_g, train_pos_g, train_neg_g, test_pos_g, test_neg_g)\n",
    "print('\\n'+'Time:',time.time()-start)"
   ]
  },
  {
   "cell_type": "markdown",
   "metadata": {},
   "source": [
    "## GraphEVE"
   ]
  },
  {
   "cell_type": "code",
   "execution_count": 37,
   "metadata": {},
   "outputs": [],
   "source": [
    "feats = np.loadtxt(f'LM_embed_pubmed.txt')"
   ]
  },
  {
   "cell_type": "code",
   "execution_count": 38,
   "metadata": {},
   "outputs": [
    {
     "data": {
      "text/plain": [
       "(19717, 384)"
      ]
     },
     "execution_count": 38,
     "metadata": {},
     "output_type": "execute_result"
    }
   ],
   "source": [
    "feats.shape"
   ]
  },
  {
   "cell_type": "code",
   "execution_count": 18,
   "metadata": {},
   "outputs": [],
   "source": [
    "from sklearn.decomposition import PCA"
   ]
  },
  {
   "cell_type": "code",
   "execution_count": 27,
   "metadata": {},
   "outputs": [],
   "source": [
    "import pandas as pd"
   ]
  },
  {
   "cell_type": "code",
   "execution_count": 30,
   "metadata": {},
   "outputs": [],
   "source": [
    "import matplotlib.pyplot as plt"
   ]
  },
  {
   "cell_type": "code",
   "execution_count": 39,
   "metadata": {},
   "outputs": [],
   "source": [
    "test = PCA().fit(feats)"
   ]
  },
  {
   "cell_type": "code",
   "execution_count": 40,
   "metadata": {},
   "outputs": [],
   "source": [
    "out = PCA().fit_transform(feats)"
   ]
  },
  {
   "cell_type": "code",
   "execution_count": 41,
   "metadata": {},
   "outputs": [
    {
     "data": {
      "text/plain": [
       "(19717, 384)"
      ]
     },
     "execution_count": 41,
     "metadata": {},
     "output_type": "execute_result"
    }
   ],
   "source": [
    "out.shape"
   ]
  },
  {
   "cell_type": "code",
   "execution_count": 42,
   "metadata": {},
   "outputs": [],
   "source": [
    "pca_LM = pd.DataFrame(out)"
   ]
  },
  {
   "cell_type": "code",
   "execution_count": 43,
   "metadata": {},
   "outputs": [
    {
     "data": {
      "image/png": "[encoded data removed]",
      "text/plain": [
       "<Figure size 640x480 with 1 Axes>"
      ]
     },
     "metadata": {},
     "output_type": "display_data"
    }
   ],
   "source": [
    "plt.plot(test.explained_variance_ratio_)\n",
    "plt.show()"
   ]
  },
  {
   "cell_type": "code",
   "execution_count": 44,
   "metadata": {},
   "outputs": [
    {
     "data": {
      "image/png": "[encoded data removed]",
      "text/plain": [
       "<Figure size 640x480 with 1 Axes>"
      ]
     },
     "metadata": {},
     "output_type": "display_data"
    }
   ],
   "source": [
    "plt.hist(np.abs(pca_LM.corr()).to_numpy().flatten())\n",
    "plt.title('Correlation of LM Features w/ PCA')\n",
    "plt.ylabel('Number of Features')\n",
    "plt.xlabel('Absolute Correlation')\n",
    "plt.show()"
   ]
  },
  {
   "cell_type": "code",
   "execution_count": 68,
   "metadata": {},
   "outputs": [],
   "source": [
    "model = GraphEVE(train_g.ndata[\"x\"].shape[1], 32)\n",
    "model=model.to(device)\n",
    "pred = DotPredictor()\n",
    "optimizer = torch.optim.Adam(\n",
    "    itertools.chain(model.parameters(), pred.parameters()), lr=0.001\n",
    ")"
   ]
  },
  {
   "cell_type": "code",
   "execution_count": 71,
   "metadata": {
    "scrolled": true
   },
   "outputs": [
    {
     "name": "stdout",
     "output_type": "stream",
     "text": [
      "In epoch 5, loss: 8.023795127868652\n",
      "In epoch 10, loss: 8.008218765258789\n",
      "In epoch 15, loss: 7.987503528594971\n",
      "In epoch 20, loss: 7.959414482116699\n",
      "In epoch 25, loss: 7.937697410583496\n",
      "In epoch 30, loss: 7.936300277709961\n",
      "In epoch 35, loss: 7.950799942016602\n",
      "In epoch 40, loss: 7.971898555755615\n",
      "In epoch 45, loss: 8.00599193572998\n",
      "In epoch 50, loss: 8.0441255569458\n",
      "In epoch 55, loss: 8.040535926818848\n",
      "In epoch 60, loss: 8.0398588180542\n",
      "In epoch 65, loss: 8.0381498336792\n",
      "In epoch 70, loss: 8.027362823486328\n",
      "In epoch 75, loss: 8.024637222290039\n",
      "In epoch 80, loss: 8.01672077178955\n",
      "In epoch 85, loss: 8.01039981842041\n",
      "In epoch 90, loss: 8.006608009338379\n",
      "In epoch 95, loss: 8.015646934509277\n",
      "In epoch 100, loss: 8.010869979858398\n",
      "AUC 0.781275353204106\n",
      "In epoch 105, loss: 8.012894630432129\n",
      "In epoch 110, loss: 8.018940925598145\n",
      "In epoch 115, loss: 8.010862350463867\n",
      "In epoch 120, loss: 8.008439064025879\n",
      "In epoch 125, loss: 8.013249397277832\n",
      "In epoch 130, loss: 8.010697364807129\n",
      "In epoch 135, loss: 8.01053237915039\n",
      "In epoch 140, loss: 8.009316444396973\n",
      "In epoch 145, loss: 8.00999927520752\n",
      "In epoch 150, loss: 8.006890296936035\n",
      "In epoch 155, loss: 8.013047218322754\n",
      "In epoch 160, loss: 8.008323669433594\n",
      "In epoch 165, loss: 8.012834548950195\n",
      "In epoch 170, loss: 8.018120765686035\n",
      "In epoch 175, loss: 8.023605346679688\n",
      "In epoch 180, loss: 8.033864974975586\n",
      "In epoch 185, loss: 8.040783882141113\n",
      "In epoch 190, loss: 8.043927192687988\n",
      "In epoch 195, loss: 8.058612823486328\n",
      "In epoch 200, loss: 8.060098648071289\n",
      "AUC 0.7954385570854203\n",
      "In epoch 205, loss: 8.07006549835205\n",
      "In epoch 210, loss: 8.08145523071289\n",
      "In epoch 215, loss: 8.094386100769043\n",
      "In epoch 220, loss: 8.112789154052734\n",
      "In epoch 225, loss: 8.127245903015137\n",
      "In epoch 230, loss: 8.139869689941406\n",
      "In epoch 235, loss: 8.158099174499512\n",
      "In epoch 240, loss: 8.171738624572754\n",
      "In epoch 245, loss: 8.190000534057617\n",
      "In epoch 250, loss: 8.203980445861816\n",
      "In epoch 255, loss: 8.219169616699219\n",
      "In epoch 260, loss: 8.237970352172852\n",
      "In epoch 265, loss: 8.258830070495605\n",
      "In epoch 270, loss: 8.276862144470215\n",
      "In epoch 275, loss: 8.29764461517334\n",
      "In epoch 280, loss: 8.319833755493164\n",
      "In epoch 285, loss: 8.34206771850586\n",
      "In epoch 290, loss: 8.355670928955078\n",
      "In epoch 295, loss: 8.373004913330078\n",
      "In epoch 300, loss: 8.389739990234375\n",
      "AUC 0.8137184699355361\n",
      "In epoch 305, loss: 8.404084205627441\n",
      "In epoch 310, loss: 8.426188468933105\n",
      "In epoch 315, loss: 8.447761535644531\n",
      "In epoch 320, loss: 8.463567733764648\n",
      "In epoch 325, loss: 8.486651420593262\n",
      "In epoch 330, loss: 8.504709243774414\n",
      "In epoch 335, loss: 8.525635719299316\n",
      "In epoch 340, loss: 8.536601066589355\n",
      "In epoch 345, loss: 8.56053352355957\n",
      "In epoch 350, loss: 8.574873924255371\n",
      "In epoch 355, loss: 8.58993911743164\n",
      "In epoch 360, loss: 8.610000610351562\n",
      "In epoch 365, loss: 8.62871265411377\n",
      "In epoch 370, loss: 8.647307395935059\n",
      "In epoch 375, loss: 8.660759925842285\n",
      "In epoch 380, loss: 8.676188468933105\n",
      "In epoch 385, loss: 8.697656631469727\n",
      "In epoch 390, loss: 8.722453117370605\n",
      "In epoch 395, loss: 8.757623672485352\n",
      "In epoch 400, loss: 8.769285202026367\n",
      "AUC 0.794647918959592\n",
      "In epoch 405, loss: 8.78697395324707\n",
      "In epoch 410, loss: 8.804228782653809\n",
      "In epoch 415, loss: 8.825682640075684\n",
      "In epoch 420, loss: 8.838362693786621\n",
      "In epoch 425, loss: 8.855550765991211\n",
      "In epoch 430, loss: 8.871140480041504\n",
      "In epoch 435, loss: 8.89506721496582\n",
      "In epoch 440, loss: 8.918464660644531\n",
      "In epoch 445, loss: 8.940622329711914\n",
      "In epoch 450, loss: 8.960983276367188\n",
      "In epoch 455, loss: 8.982606887817383\n",
      "In epoch 460, loss: 8.998554229736328\n",
      "In epoch 465, loss: 9.02993392944336\n",
      "In epoch 470, loss: 9.04533576965332\n",
      "In epoch 475, loss: 9.064549446105957\n",
      "In epoch 480, loss: 9.083842277526855\n",
      "In epoch 485, loss: 9.105321884155273\n",
      "In epoch 490, loss: 9.127994537353516\n",
      "In epoch 495, loss: 9.149538040161133\n",
      "In epoch 500, loss: 9.1731538772583\n",
      "AUC 0.7924404213741829\n",
      "In epoch 505, loss: 9.195374488830566\n",
      "In epoch 510, loss: 9.213930130004883\n",
      "In epoch 515, loss: 9.229782104492188\n",
      "In epoch 520, loss: 9.24998664855957\n",
      "In epoch 525, loss: 9.272775650024414\n",
      "In epoch 530, loss: 9.288797378540039\n",
      "In epoch 535, loss: 9.310358047485352\n",
      "In epoch 540, loss: 9.332207679748535\n",
      "In epoch 545, loss: 9.35135269165039\n",
      "In epoch 550, loss: 9.36640739440918\n",
      "In epoch 555, loss: 9.38464641571045\n",
      "In epoch 560, loss: 9.398550033569336\n",
      "In epoch 565, loss: 9.422762870788574\n",
      "In epoch 570, loss: 9.440784454345703\n",
      "In epoch 575, loss: 9.468165397644043\n",
      "In epoch 580, loss: 9.486747741699219\n",
      "In epoch 585, loss: 9.508817672729492\n",
      "In epoch 590, loss: 9.528726577758789\n",
      "In epoch 595, loss: 9.544534683227539\n",
      "In epoch 600, loss: 9.56820011138916\n",
      "AUC 0.8050394195997395\n",
      "In epoch 605, loss: 9.585567474365234\n",
      "In epoch 610, loss: 9.606243133544922\n",
      "In epoch 615, loss: 9.616004943847656\n",
      "In epoch 620, loss: 9.638571739196777\n",
      "In epoch 625, loss: 9.65390396118164\n",
      "In epoch 630, loss: 9.67691707611084\n",
      "In epoch 635, loss: 9.699604988098145\n",
      "In epoch 640, loss: 9.720466613769531\n",
      "In epoch 645, loss: 9.743193626403809\n",
      "In epoch 650, loss: 9.756217956542969\n",
      "In epoch 655, loss: 9.775964736938477\n",
      "In epoch 660, loss: 9.790914535522461\n",
      "In epoch 665, loss: 9.815262794494629\n",
      "In epoch 670, loss: 9.825063705444336\n",
      "In epoch 675, loss: 9.846651077270508\n",
      "In epoch 680, loss: 9.868407249450684\n",
      "In epoch 685, loss: 9.883448600769043\n",
      "In epoch 690, loss: 9.899763107299805\n",
      "In epoch 695, loss: 9.917852401733398\n",
      "In epoch 700, loss: 9.922372817993164\n",
      "AUC 0.8071319152759371\n",
      "In epoch 705, loss: 9.947805404663086\n",
      "In epoch 710, loss: 9.959321975708008\n",
      "In epoch 715, loss: 9.981756210327148\n",
      "In epoch 720, loss: 10.007217407226562\n",
      "In epoch 725, loss: 10.030330657958984\n",
      "In epoch 730, loss: 10.043947219848633\n",
      "In epoch 735, loss: 10.04939079284668\n",
      "In epoch 740, loss: 10.070901870727539\n",
      "In epoch 745, loss: 10.084218978881836\n",
      "In epoch 750, loss: 10.104252815246582\n",
      "In epoch 755, loss: 10.117419242858887\n",
      "In epoch 760, loss: 10.120182991027832\n",
      "In epoch 765, loss: 10.139509201049805\n",
      "In epoch 770, loss: 10.165169715881348\n",
      "In epoch 775, loss: 10.179522514343262\n",
      "In epoch 780, loss: 10.195884704589844\n",
      "In epoch 785, loss: 10.205223083496094\n",
      "In epoch 790, loss: 10.227384567260742\n",
      "In epoch 795, loss: 10.240031242370605\n",
      "In epoch 800, loss: 10.255450248718262\n",
      "AUC 0.8049396913815953\n",
      "In epoch 805, loss: 10.272149085998535\n",
      "In epoch 810, loss: 10.28800106048584\n",
      "In epoch 815, loss: 10.305419921875\n",
      "In epoch 820, loss: 10.311697006225586\n",
      "In epoch 825, loss: 10.335023880004883\n",
      "In epoch 830, loss: 10.355310440063477\n",
      "In epoch 835, loss: 10.372479438781738\n",
      "In epoch 840, loss: 10.378737449645996\n",
      "In epoch 845, loss: 10.394974708557129\n",
      "In epoch 850, loss: 10.40190315246582\n",
      "In epoch 855, loss: 10.4132661819458\n",
      "In epoch 860, loss: 10.4256010055542\n",
      "In epoch 865, loss: 10.445685386657715\n",
      "In epoch 870, loss: 10.455785751342773\n",
      "In epoch 875, loss: 10.477765083312988\n",
      "In epoch 880, loss: 10.490857124328613\n",
      "In epoch 885, loss: 10.506945610046387\n",
      "In epoch 890, loss: 10.512432098388672\n",
      "In epoch 895, loss: 10.523595809936523\n",
      "In epoch 900, loss: 10.539603233337402\n",
      "AUC 0.8021401136542305\n",
      "In epoch 905, loss: 10.554027557373047\n",
      "In epoch 910, loss: 10.567934036254883\n",
      "In epoch 915, loss: 10.579185485839844\n",
      "In epoch 920, loss: 10.587006568908691\n",
      "In epoch 925, loss: 10.602684020996094\n",
      "In epoch 930, loss: 10.616042137145996\n",
      "In epoch 935, loss: 10.625496864318848\n",
      "In epoch 940, loss: 10.634257316589355\n",
      "In epoch 945, loss: 10.65237808227539\n",
      "In epoch 950, loss: 10.667858123779297\n",
      "In epoch 955, loss: 10.680022239685059\n",
      "In epoch 960, loss: 10.695779800415039\n",
      "In epoch 965, loss: 10.710884094238281\n",
      "In epoch 970, loss: 10.7178316116333\n",
      "In epoch 975, loss: 10.734970092773438\n",
      "In epoch 980, loss: 10.748698234558105\n",
      "In epoch 985, loss: 10.753219604492188\n",
      "In epoch 990, loss: 10.759283065795898\n",
      "In epoch 995, loss: 10.778900146484375\n",
      "In epoch 1000, loss: 10.78140926361084\n",
      "AUC 0.8135288964758203\n",
      "\n",
      "Time: 14.475170373916626\n"
     ]
    }
   ],
   "source": [
    "start=time.time()\n",
    "train_link_pred(1000, model, pred, optimizer, train_g, train_pos_g, train_neg_g, test_pos_g, test_neg_g,reg=5)\n",
    "#train_edge_pred(1000, model, pred, optimizer, train_g, train_pos_g, train_neg_g, test_pos_g, test_neg_g, reg=1)\n",
    "print('\\n'+'Time:',time.time()-start)"
   ]
  },
  {
   "cell_type": "raw",
   "metadata": {},
   "source": [
    "0.7903479256979853\n",
    "0.8154408032164596\n",
    "0.82"
   ]
  },
  {
   "cell_type": "raw",
   "metadata": {},
   "source": [
    "model = GraphIEVE(train_g.ndata[\"x\"].shape[1], 32)\n",
    "model=model.to(device)\n",
    "pred = DotPredictor()\n",
    "optimizer = torch.optim.Adam(\n",
    "    itertools.chain(model.parameters(), pred.parameters()), lr=0.001\n",
    ")"
   ]
  },
  {
   "cell_type": "raw",
   "metadata": {
    "scrolled": true
   },
   "source": [
    "start=time.time()\n",
    "train_link_pred(1000, model, pred, optimizer, train_g, train_pos_g, train_neg_g, test_pos_g, test_neg_g)\n",
    "print('\\n'+'Time:',time.time()-start)"
   ]
  },
  {
   "cell_type": "raw",
   "metadata": {},
   "source": [
    "0.7945634644325149,   756.3360359668732 (10 mins)\n",
    "0.8093645695289863,   761.2169303894043 (10 mins)"
   ]
  },
  {
   "cell_type": "markdown",
   "metadata": {},
   "source": [
    "# Actors"
   ]
  },
  {
   "cell_type": "code",
   "execution_count": null,
   "metadata": {},
   "outputs": [],
   "source": [
    "#Actor model\n",
    "actor = Actor(root='data/Actor', transform=NormalizeFeatures())\n",
    "train_g, train_pos_g, train_neg_g, test_pos_g, test_neg_g = create_train_test_split_edge(actor[0])"
   ]
  },
  {
   "cell_type": "markdown",
   "metadata": {},
   "source": [
    "## GraphSAGE "
   ]
  },
  {
   "cell_type": "markdown",
   "metadata": {},
   "source": [
    "### Mean Agg"
   ]
  },
  {
   "cell_type": "code",
   "execution_count": 10,
   "metadata": {},
   "outputs": [],
   "source": [
    "\n",
    "\n",
    "model = GraphSAGE(train_g.ndata[\"x\"].shape[1], 16, agg='mean')\n",
    "pred = DotPredictor()\n",
    "optimizer = torch.optim.Adam(\n",
    "    itertools.chain(model.parameters(), pred.parameters()), lr=0.01\n",
    ")"
   ]
  },
  {
   "cell_type": "code",
   "execution_count": 11,
   "metadata": {
    "scrolled": true
   },
   "outputs": [
    {
     "name": "stdout",
     "output_type": "stream",
     "text": [
      "In epoch 5, loss: 0.6794610023498535\n",
      "In epoch 10, loss: 0.6584976315498352\n",
      "In epoch 15, loss: 0.6445634961128235\n",
      "In epoch 20, loss: 0.6313113570213318\n",
      "In epoch 25, loss: 0.6205123662948608\n",
      "In epoch 30, loss: 0.6073060631752014\n",
      "In epoch 35, loss: 0.5939508080482483\n",
      "In epoch 40, loss: 0.5797938108444214\n",
      "In epoch 45, loss: 0.5657353401184082\n",
      "In epoch 50, loss: 0.5518573522567749\n",
      "In epoch 55, loss: 0.5376840829849243\n",
      "In epoch 60, loss: 0.5238639116287231\n",
      "In epoch 65, loss: 0.5103583931922913\n",
      "In epoch 70, loss: 0.4968482255935669\n",
      "In epoch 75, loss: 0.48375794291496277\n",
      "In epoch 80, loss: 0.4703128933906555\n",
      "In epoch 85, loss: 0.4572541117668152\n",
      "In epoch 90, loss: 0.444673091173172\n",
      "In epoch 95, loss: 0.4319523870944977\n",
      "In epoch 100, loss: 0.41902974247932434\n",
      "AUC 0.6911229523514377\n"
     ]
    }
   ],
   "source": [
    "train_link_pred(100, model, pred, optimizer, train_g, train_pos_g, train_neg_g, test_pos_g, test_neg_g)"
   ]
  },
  {
   "cell_type": "markdown",
   "metadata": {},
   "source": [
    "## GraphEVE"
   ]
  },
  {
   "cell_type": "markdown",
   "metadata": {},
   "source": [
    "## GraphEVE"
   ]
  },
  {
   "cell_type": "code",
   "execution_count": 14,
   "metadata": {},
   "outputs": [],
   "source": [
    "model = GraphEVE(train_g.ndata[\"x\"].shape[1], 32)\n",
    "pred = DotPredictor()\n",
    "optimizer = torch.optim.Adam(\n",
    "    itertools.chain(model.parameters(), pred.parameters()), lr=0.001\n",
    ")"
   ]
  },
  {
   "cell_type": "code",
   "execution_count": 15,
   "metadata": {
    "scrolled": true
   },
   "outputs": [
    {
     "name": "stdout",
     "output_type": "stream",
     "text": [
      "In epoch 5, loss: 2.2132632732391357\n",
      "In epoch 10, loss: 1.2318150997161865\n",
      "In epoch 15, loss: 0.9657252430915833\n",
      "In epoch 20, loss: 0.8029099106788635\n",
      "In epoch 25, loss: 0.7689588665962219\n",
      "In epoch 30, loss: 0.7458599805831909\n",
      "In epoch 35, loss: 0.727140486240387\n",
      "In epoch 40, loss: 0.7140553593635559\n",
      "In epoch 45, loss: 0.7047894597053528\n",
      "In epoch 50, loss: 0.6962063908576965\n",
      "In epoch 55, loss: 0.6883410215377808\n",
      "In epoch 60, loss: 0.6820026636123657\n",
      "In epoch 65, loss: 0.6768398880958557\n",
      "In epoch 70, loss: 0.6719354391098022\n",
      "In epoch 75, loss: 0.6674953103065491\n",
      "In epoch 80, loss: 0.6633650660514832\n",
      "In epoch 85, loss: 0.6592849493026733\n",
      "In epoch 90, loss: 0.655174195766449\n",
      "In epoch 95, loss: 0.6509707570075989\n",
      "In epoch 100, loss: 0.6466691493988037\n",
      "AUC 0.7213066043408167\n"
     ]
    }
   ],
   "source": [
    "train_link_pred(100, model, pred, optimizer, train_g, train_pos_g, train_neg_g, test_pos_g, test_neg_g)"
   ]
  },
  {
   "cell_type": "code",
   "execution_count": null,
   "metadata": {},
   "outputs": [],
   "source": []
  }
 ],
 "metadata": {
  "kernelspec": {
   "display_name": "Python 3 (ipykernel)",
   "language": "python",
   "name": "python3"
  },
  "language_info": {
   "codemirror_mode": {
    "name": "ipython",
    "version": 3
   },
   "file_extension": ".py",
   "mimetype": "text/x-python",
   "name": "python",
   "nbconvert_exporter": "python",
   "pygments_lexer": "ipython3",
   "version": "3.10.10"
  }
 },
 "nbformat": 4,
 "nbformat_minor": 4
}
