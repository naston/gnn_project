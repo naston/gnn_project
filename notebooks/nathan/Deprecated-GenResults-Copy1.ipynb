{
 "cells": [
  {
   "cell_type": "code",
   "execution_count": 1,
   "metadata": {},
   "outputs": [],
   "source": [
    "import networkx as nx\n",
    "import numpy as np\n",
    "import pandas as pd"
   ]
  },
  {
   "cell_type": "code",
   "execution_count": 2,
   "metadata": {},
   "outputs": [],
   "source": [
    "import os\n",
    "from sys import platform\n",
    "\n",
    "if platform == 'win32':\n",
    "    os.chdir('/'.join(os.getcwd().split('\\\\')[:-2]))\n",
    "else:\n",
    "    os.chdir('/'.join(os.getcwd().split('/')[:-2]))\n",
    "from src import *"
   ]
  },
  {
   "cell_type": "markdown",
   "metadata": {},
   "source": [
    "DEPRECATED, old method for generating results"
   ]
  },
  {
   "cell_type": "markdown",
   "metadata": {},
   "source": [
    "# Edge Prediction - TAPE"
   ]
  },
  {
   "cell_type": "code",
   "execution_count": 3,
   "metadata": {},
   "outputs": [],
   "source": [
    "edge_pred_runs = 20"
   ]
  },
  {
   "cell_type": "code",
   "execution_count": 4,
   "metadata": {
    "scrolled": true
   },
   "outputs": [
    {
     "name": "stdout",
     "output_type": "stream",
     "text": [
      "Running on: cuda\n",
      "[[-0.69824219 -0.07543945 -0.91259766 ...  0.34326172  0.67724609\n",
      "  -0.60791016]\n",
      " [ 0.65625     0.58544922 -0.47119141 ...  0.40136719  0.81347656\n",
      "   1.13085938]\n",
      " [ 0.74169922  0.46459961  0.51367188 ... -0.78662109  0.57470703\n",
      "   0.30322266]\n",
      " ...\n",
      " [ 1.46386719  0.77929688  1.671875   ... -0.15551758  0.61328125\n",
      "   0.79833984]\n",
      " [ 0.44262695  0.34790039 -0.05908203 ...  1.16699219  0.53222656\n",
      "   0.61132812]\n",
      " [-0.23486328  0.12469482 -1.38671875 ...  0.27758789  0.93261719\n",
      "   0.24475098]]\n"
     ]
    },
    {
     "name": "stderr",
     "output_type": "stream",
     "text": [
      "100%|██████████| 20/20 [00:59<00:00,  2.99s/it]\n",
      "100%|██████████| 20/20 [00:54<00:00,  2.72s/it]\n",
      "100%|██████████| 20/20 [01:26<00:00,  4.32s/it]\n",
      "100%|██████████| 20/20 [00:58<00:00,  2.90s/it]\n"
     ]
    }
   ],
   "source": [
    "cora_edge_results = run_edge_prediction('Cora',edge_pred_runs,features='LM')"
   ]
  },
  {
   "cell_type": "code",
   "execution_count": 5,
   "metadata": {},
   "outputs": [
    {
     "data": {
      "text/plain": [
       "mean    0.689925\n",
       "gcn     0.873787\n",
       "eve     0.716106\n",
       "pool    0.662325\n",
       "dtype: float64"
      ]
     },
     "metadata": {},
     "output_type": "display_data"
    },
    {
     "data": {
      "text/plain": [
       "mean    0.050319\n",
       "gcn     0.029298\n",
       "eve     0.079304\n",
       "pool    0.063125\n",
       "dtype: float64"
      ]
     },
     "metadata": {},
     "output_type": "display_data"
    },
    {
     "data": {
      "text/plain": [
       "mean    0.805760\n",
       "gcn     0.936449\n",
       "eve     0.819154\n",
       "pool    0.785300\n",
       "dtype: float64"
      ]
     },
     "metadata": {},
     "output_type": "display_data"
    }
   ],
   "source": [
    "df = pd.DataFrame(cora_edge_results)\n",
    "display(df.mean())\n",
    "display(df.std())\n",
    "display(df.max())"
   ]
  },
  {
   "cell_type": "code",
   "execution_count": 19,
   "metadata": {},
   "outputs": [
    {
     "data": {
      "text/plain": [
       "mean    0.999954\n",
       "gcn     0.978134\n",
       "eve     0.926533\n",
       "pool    1.000000\n",
       "dtype: float64"
      ]
     },
     "metadata": {},
     "output_type": "display_data"
    },
    {
     "data": {
      "text/plain": [
       "mean    1.833563e-05\n",
       "gcn     2.739144e-03\n",
       "eve     2.302647e-02\n",
       "pool    4.954232e-09\n",
       "dtype: float64"
      ]
     },
     "metadata": {},
     "output_type": "display_data"
    },
    {
     "data": {
      "text/plain": [
       "mean    0.999985\n",
       "gcn     0.981940\n",
       "eve     0.947172\n",
       "pool    1.000000\n",
       "dtype: float64"
      ]
     },
     "metadata": {},
     "output_type": "display_data"
    }
   ],
   "source": [
    "df = pd.DataFrame(cora_edge_results)\n",
    "display(df.mean())\n",
    "display(df.std())\n",
    "display(df.max())"
   ]
  },
  {
   "cell_type": "code",
   "execution_count": 6,
   "metadata": {},
   "outputs": [
    {
     "data": {
      "text/plain": [
       "mean    0.999959\n",
       "gcn     0.980049\n",
       "eve     0.923514\n",
       "pool    1.000000\n",
       "dtype: float64"
      ]
     },
     "metadata": {},
     "output_type": "display_data"
    },
    {
     "data": {
      "text/plain": [
       "mean    2.020681e-05\n",
       "gcn     1.735719e-03\n",
       "eve     1.859193e-02\n",
       "pool    2.569272e-08\n",
       "dtype: float64"
      ]
     },
     "metadata": {},
     "output_type": "display_data"
    },
    {
     "data": {
      "text/plain": [
       "mean    0.999992\n",
       "gcn     0.982174\n",
       "eve     0.949414\n",
       "pool    1.000000\n",
       "dtype: float64"
      ]
     },
     "metadata": {},
     "output_type": "display_data"
    }
   ],
   "source": [
    "df = pd.DataFrame(cora_edge_results)\n",
    "display(df.mean())\n",
    "display(df.std())\n",
    "display(df.max())"
   ]
  },
  {
   "cell_type": "code",
   "execution_count": 7,
   "metadata": {
    "scrolled": false
   },
   "outputs": [
    {
     "name": "stdout",
     "output_type": "stream",
     "text": [
      "Running on: cuda\n"
     ]
    },
    {
     "name": "stderr",
     "output_type": "stream",
     "text": [
      "100%|██████████| 20/20 [00:56<00:00,  2.83s/it]\n",
      "100%|██████████| 20/20 [00:54<00:00,  2.70s/it]\n",
      "100%|██████████| 20/20 [02:09<00:00,  6.49s/it]\n",
      "100%|██████████| 20/20 [01:20<00:00,  4.01s/it]\n"
     ]
    }
   ],
   "source": [
    "cora_edge_results = run_edge_prediction('Cora',edge_pred_runs,features='TAPE')"
   ]
  },
  {
   "cell_type": "code",
   "execution_count": 8,
   "metadata": {},
   "outputs": [
    {
     "data": {
      "text/plain": [
       "mean    0.999913\n",
       "gcn     0.977680\n",
       "eve     0.917371\n",
       "pool    1.000000\n",
       "dtype: float64"
      ]
     },
     "metadata": {},
     "output_type": "display_data"
    },
    {
     "data": {
      "text/plain": [
       "mean    4.293904e-05\n",
       "gcn     2.860719e-03\n",
       "eve     1.212139e-02\n",
       "pool    6.504121e-08\n",
       "dtype: float64"
      ]
     },
     "metadata": {},
     "output_type": "display_data"
    },
    {
     "data": {
      "text/plain": [
       "mean    0.999965\n",
       "gcn     0.981610\n",
       "eve     0.940666\n",
       "pool    1.000000\n",
       "dtype: float64"
      ]
     },
     "metadata": {},
     "output_type": "display_data"
    }
   ],
   "source": [
    "df = pd.DataFrame(cora_edge_results)\n",
    "display(df.mean())\n",
    "display(df.std())\n",
    "display(df.max())"
   ]
  },
  {
   "cell_type": "code",
   "execution_count": 6,
   "metadata": {},
   "outputs": [
    {
     "name": "stdout",
     "output_type": "stream",
     "text": [
      "Running on: cuda\n"
     ]
    },
    {
     "name": "stderr",
     "output_type": "stream",
     "text": [
      "100%|██████████| 20/20 [01:11<00:00,  3.56s/it]\n",
      "100%|██████████| 20/20 [01:07<00:00,  3.39s/it]\n",
      "100%|██████████| 20/20 [04:08<00:00, 12.41s/it]\n",
      "100%|██████████| 20/20 [01:50<00:00,  5.52s/it]\n"
     ]
    }
   ],
   "source": [
    "pubmed_edge_results = run_edge_prediction('PubMed',edge_pred_runs,features='TAPE')"
   ]
  },
  {
   "cell_type": "code",
   "execution_count": 7,
   "metadata": {},
   "outputs": [
    {
     "data": {
      "text/plain": [
       "mean    0.976794\n",
       "gcn     0.930155\n",
       "eve     0.762091\n",
       "pool    0.994321\n",
       "dtype: float64"
      ]
     },
     "metadata": {},
     "output_type": "display_data"
    },
    {
     "data": {
      "text/plain": [
       "mean    0.001130\n",
       "gcn     0.005689\n",
       "eve     0.085868\n",
       "pool    0.000905\n",
       "dtype: float64"
      ]
     },
     "metadata": {},
     "output_type": "display_data"
    },
    {
     "data": {
      "text/plain": [
       "mean    0.979003\n",
       "gcn     0.938597\n",
       "eve     0.924349\n",
       "pool    0.995539\n",
       "dtype: float64"
      ]
     },
     "metadata": {},
     "output_type": "display_data"
    }
   ],
   "source": [
    "df = pd.DataFrame(pubmed_edge_results)\n",
    "display(df.mean())\n",
    "display(df.std())\n",
    "display(df.max())"
   ]
  },
  {
   "cell_type": "markdown",
   "metadata": {},
   "source": [
    "# Node Classification - TAPE"
   ]
  },
  {
   "cell_type": "code",
   "execution_count": 6,
   "metadata": {},
   "outputs": [],
   "source": [
    "node_class_runs = 30"
   ]
  },
  {
   "cell_type": "code",
   "execution_count": 7,
   "metadata": {},
   "outputs": [
    {
     "name": "stdout",
     "output_type": "stream",
     "text": [
      "Running on: cuda\n",
      "[[-0.69824219 -0.07543945 -0.91259766 ...  0.34326172  0.67724609\n",
      "  -0.60791016]\n",
      " [ 0.65625     0.58544922 -0.47119141 ...  0.40136719  0.81347656\n",
      "   1.13085938]\n",
      " [ 0.74169922  0.46459961  0.51367188 ... -0.78662109  0.57470703\n",
      "   0.30322266]\n",
      " ...\n",
      " [ 1.46386719  0.77929688  1.671875   ... -0.15551758  0.61328125\n",
      "   0.79833984]\n",
      " [ 0.44262695  0.34790039 -0.05908203 ...  1.16699219  0.53222656\n",
      "   0.61132812]\n",
      " [-0.23486328  0.12469482 -1.38671875 ...  0.27758789  0.93261719\n",
      "   0.24475098]]\n"
     ]
    },
    {
     "name": "stderr",
     "output_type": "stream",
     "text": [
      "100%|██████████| 30/30 [00:15<00:00,  1.98it/s]\n",
      "100%|██████████| 30/30 [00:14<00:00,  2.06it/s]\n",
      "100%|██████████| 30/30 [00:26<00:00,  1.15it/s]\n",
      "100%|██████████| 30/30 [00:15<00:00,  1.93it/s]\n"
     ]
    }
   ],
   "source": [
    "cora_node_results = run_node_classification('Cora',node_class_runs,features='LM')"
   ]
  },
  {
   "cell_type": "code",
   "execution_count": 8,
   "metadata": {},
   "outputs": [
    {
     "data": {
      "text/plain": [
       "mean    0.210867\n",
       "gcn     0.241033\n",
       "eve     0.260900\n",
       "pool    0.226700\n",
       "dtype: float32"
      ]
     },
     "metadata": {},
     "output_type": "display_data"
    },
    {
     "data": {
      "text/plain": [
       "mean    0.081809\n",
       "gcn     0.075315\n",
       "eve     0.078021\n",
       "pool    0.095635\n",
       "dtype: float32"
      ]
     },
     "metadata": {},
     "output_type": "display_data"
    },
    {
     "data": {
      "text/plain": [
       "mean    0.319\n",
       "gcn     0.319\n",
       "eve     0.320\n",
       "pool    0.319\n",
       "dtype: float32"
      ]
     },
     "metadata": {},
     "output_type": "display_data"
    }
   ],
   "source": [
    "df = pd.DataFrame(cora_node_results)\n",
    "display(df.mean())\n",
    "display(df.std())\n",
    "display(df.max())"
   ]
  },
  {
   "cell_type": "code",
   "execution_count": 12,
   "metadata": {},
   "outputs": [
    {
     "name": "stdout",
     "output_type": "stream",
     "text": [
      "Running on: cuda\n"
     ]
    },
    {
     "name": "stderr",
     "output_type": "stream",
     "text": [
      "100%|██████████| 30/30 [00:15<00:00,  1.94it/s]\n",
      "100%|██████████| 30/30 [00:14<00:00,  2.01it/s]\n",
      "100%|██████████| 30/30 [00:43<00:00,  1.46s/it]\n",
      "100%|██████████| 30/30 [00:26<00:00,  1.12it/s]\n"
     ]
    }
   ],
   "source": [
    "cora_node_results = run_node_classification('Cora',node_class_runs,features='TAPE',reg=0.1,pca=True)"
   ]
  },
  {
   "cell_type": "code",
   "execution_count": 14,
   "metadata": {},
   "outputs": [
    {
     "name": "stdout",
     "output_type": "stream",
     "text": [
      "Running on: cuda\n"
     ]
    },
    {
     "name": "stderr",
     "output_type": "stream",
     "text": [
      "100%|██████████| 30/30 [00:15<00:00,  1.95it/s]\n",
      "100%|██████████| 30/30 [00:15<00:00,  2.00it/s]\n",
      "100%|██████████| 30/30 [00:43<00:00,  1.46s/it]\n",
      "100%|██████████| 30/30 [00:27<00:00,  1.10it/s]\n"
     ]
    }
   ],
   "source": [
    "cora_node_results = run_node_classification('Cora',node_class_runs,features='TAPE',pca=True)"
   ]
  },
  {
   "cell_type": "code",
   "execution_count": 4,
   "metadata": {},
   "outputs": [
    {
     "name": "stdout",
     "output_type": "stream",
     "text": [
      "Running on: cuda\n"
     ]
    },
    {
     "name": "stderr",
     "output_type": "stream",
     "text": [
      "100%|██████████| 30/30 [00:17<00:00,  1.74it/s]\n",
      "100%|██████████| 30/30 [00:14<00:00,  2.02it/s]\n",
      "100%|██████████| 30/30 [00:44<00:00,  1.49s/it]\n",
      "100%|██████████| 30/30 [00:26<00:00,  1.11it/s]\n"
     ]
    }
   ],
   "source": [
    "cora_node_results = run_node_classification('Cora',node_class_runs,features='TAPE')"
   ]
  },
  {
   "cell_type": "code",
   "execution_count": 15,
   "metadata": {},
   "outputs": [
    {
     "data": {
      "text/plain": [
       "mean    0.741900\n",
       "gcn     0.791600\n",
       "eve     0.606167\n",
       "pool    0.578833\n",
       "dtype: float32"
      ]
     },
     "metadata": {},
     "output_type": "display_data"
    },
    {
     "data": {
      "text/plain": [
       "mean    0.036211\n",
       "gcn     0.017226\n",
       "eve     0.078076\n",
       "pool    0.059993\n",
       "dtype: float32"
      ]
     },
     "metadata": {},
     "output_type": "display_data"
    },
    {
     "data": {
      "text/plain": [
       "mean    0.795\n",
       "gcn     0.816\n",
       "eve     0.729\n",
       "pool    0.672\n",
       "dtype: float32"
      ]
     },
     "metadata": {},
     "output_type": "display_data"
    }
   ],
   "source": [
    "df = pd.DataFrame(cora_node_results)\n",
    "display(df.mean())\n",
    "display(df.std())\n",
    "display(df.max())"
   ]
  },
  {
   "cell_type": "code",
   "execution_count": 20,
   "metadata": {},
   "outputs": [
    {
     "name": "stdout",
     "output_type": "stream",
     "text": [
      "Running on: cuda\n"
     ]
    },
    {
     "name": "stderr",
     "output_type": "stream",
     "text": [
      "100%|██████████| 30/30 [00:16<00:00,  1.87it/s]\n",
      "100%|██████████| 30/30 [00:14<00:00,  2.06it/s]\n",
      "100%|██████████| 30/30 [01:14<00:00,  2.49s/it]\n",
      "100%|██████████| 30/30 [00:34<00:00,  1.15s/it]\n"
     ]
    }
   ],
   "source": [
    "pubmed_node_results = run_node_classification('PubMed',node_class_runs,features='TAPE',reg=1)"
   ]
  },
  {
   "cell_type": "code",
   "execution_count": 21,
   "metadata": {},
   "outputs": [
    {
     "data": {
      "text/plain": [
       "mean    0.705167\n",
       "gcn     0.755767\n",
       "eve     0.645767\n",
       "pool    0.595067\n",
       "dtype: float32"
      ]
     },
     "metadata": {},
     "output_type": "display_data"
    },
    {
     "data": {
      "text/plain": [
       "mean    0.050926\n",
       "gcn     0.024969\n",
       "eve     0.081046\n",
       "pool    0.102612\n",
       "dtype: float32"
      ]
     },
     "metadata": {},
     "output_type": "display_data"
    },
    {
     "data": {
      "text/plain": [
       "mean    0.775\n",
       "gcn     0.782\n",
       "eve     0.739\n",
       "pool    0.758\n",
       "dtype: float32"
      ]
     },
     "metadata": {},
     "output_type": "display_data"
    }
   ],
   "source": [
    "df = pd.DataFrame(pubmed_node_results)\n",
    "display(df.mean())\n",
    "display(df.std())\n",
    "display(df.max())"
   ]
  },
  {
   "cell_type": "markdown",
   "metadata": {},
   "source": [
    "# Edge Prediction - LM"
   ]
  },
  {
   "cell_type": "code",
   "execution_count": 3,
   "metadata": {},
   "outputs": [],
   "source": [
    "edge_pred_runs = 20"
   ]
  },
  {
   "cell_type": "code",
   "execution_count": 4,
   "metadata": {
    "scrolled": false
   },
   "outputs": [
    {
     "name": "stdout",
     "output_type": "stream",
     "text": [
      "Running on: cuda\n"
     ]
    },
    {
     "name": "stderr",
     "output_type": "stream",
     "text": [
      "100%|██████████| 20/20 [01:11<00:00,  3.58s/it]\n",
      "100%|██████████| 20/20 [00:55<00:00,  2.75s/it]\n",
      "100%|██████████| 20/20 [02:20<00:00,  7.04s/it]\n",
      "100%|██████████| 20/20 [01:20<00:00,  4.05s/it]\n"
     ]
    }
   ],
   "source": [
    "cora_edge_results = run_edge_prediction('Cora',edge_pred_runs,features='LM')"
   ]
  },
  {
   "cell_type": "code",
   "execution_count": 5,
   "metadata": {},
   "outputs": [
    {
     "data": {
      "text/plain": [
       "mean    0.999929\n",
       "gcn     0.977056\n",
       "eve     0.644902\n",
       "pool    1.000000\n",
       "dtype: float64"
      ]
     },
     "metadata": {},
     "output_type": "display_data"
    },
    {
     "data": {
      "text/plain": [
       "mean    3.022073e-05\n",
       "gcn     2.839206e-03\n",
       "eve     9.327981e-02\n",
       "pool    2.229405e-08\n",
       "dtype: float64"
      ]
     },
     "metadata": {},
     "output_type": "display_data"
    },
    {
     "data": {
      "text/plain": [
       "mean    0.999979\n",
       "gcn     0.982046\n",
       "eve     0.808875\n",
       "pool    1.000000\n",
       "dtype: float64"
      ]
     },
     "metadata": {},
     "output_type": "display_data"
    }
   ],
   "source": [
    "df = pd.DataFrame(cora_edge_results)\n",
    "display(df.mean())\n",
    "display(df.std())\n",
    "display(df.max())"
   ]
  },
  {
   "cell_type": "code",
   "execution_count": 6,
   "metadata": {},
   "outputs": [
    {
     "name": "stdout",
     "output_type": "stream",
     "text": [
      "Running on: cuda\n"
     ]
    },
    {
     "name": "stderr",
     "output_type": "stream",
     "text": [
      "100%|██████████| 20/20 [01:09<00:00,  3.45s/it]\n",
      "100%|██████████| 20/20 [01:05<00:00,  3.25s/it]\n",
      "100%|██████████| 20/20 [04:07<00:00, 12.36s/it]\n",
      "100%|██████████| 20/20 [01:50<00:00,  5.54s/it]\n"
     ]
    }
   ],
   "source": [
    "pubmed_edge_results = run_edge_prediction('PubMed',edge_pred_runs,features='LM')"
   ]
  },
  {
   "cell_type": "code",
   "execution_count": 7,
   "metadata": {},
   "outputs": [
    {
     "data": {
      "text/plain": [
       "mean    0.976146\n",
       "gcn     0.929405\n",
       "eve     0.745129\n",
       "pool    0.993647\n",
       "dtype: float64"
      ]
     },
     "metadata": {},
     "output_type": "display_data"
    },
    {
     "data": {
      "text/plain": [
       "mean    0.001118\n",
       "gcn     0.005348\n",
       "eve     0.092460\n",
       "pool    0.000951\n",
       "dtype: float64"
      ]
     },
     "metadata": {},
     "output_type": "display_data"
    },
    {
     "data": {
      "text/plain": [
       "mean    0.977408\n",
       "gcn     0.936314\n",
       "eve     0.895928\n",
       "pool    0.994911\n",
       "dtype: float64"
      ]
     },
     "metadata": {},
     "output_type": "display_data"
    }
   ],
   "source": [
    "df = pd.DataFrame(pubmed_edge_results)\n",
    "display(df.mean())\n",
    "display(df.std())\n",
    "display(df.max())"
   ]
  },
  {
   "cell_type": "markdown",
   "metadata": {},
   "source": [
    "# Node Classification - LM"
   ]
  },
  {
   "cell_type": "code",
   "execution_count": 9,
   "metadata": {},
   "outputs": [],
   "source": [
    "node_class_runs = 30"
   ]
  },
  {
   "cell_type": "code",
   "execution_count": 10,
   "metadata": {},
   "outputs": [
    {
     "name": "stdout",
     "output_type": "stream",
     "text": [
      "Running on: cuda\n"
     ]
    },
    {
     "name": "stderr",
     "output_type": "stream",
     "text": [
      "100%|██████████| 30/30 [00:18<00:00,  1.64it/s]\n",
      "100%|██████████| 30/30 [00:17<00:00,  1.71it/s]\n",
      "100%|██████████| 30/30 [01:01<00:00,  2.04s/it]\n",
      "100%|██████████| 30/30 [00:36<00:00,  1.22s/it]\n"
     ]
    }
   ],
   "source": [
    "cora_node_results = run_node_classification('Cora',node_class_runs,features='LM')"
   ]
  },
  {
   "cell_type": "code",
   "execution_count": 11,
   "metadata": {},
   "outputs": [
    {
     "data": {
      "text/plain": [
       "mean    0.7314\n",
       "gcn     0.7941\n",
       "eve     0.3037\n",
       "pool    0.5663\n",
       "dtype: float32"
      ]
     },
     "metadata": {},
     "output_type": "display_data"
    },
    {
     "data": {
      "text/plain": [
       "mean    0.034688\n",
       "gcn     0.019864\n",
       "eve     0.155777\n",
       "pool    0.105239\n",
       "dtype: float32"
      ]
     },
     "metadata": {},
     "output_type": "display_data"
    },
    {
     "data": {
      "text/plain": [
       "mean    0.773\n",
       "gcn     0.824\n",
       "eve     0.651\n",
       "pool    0.735\n",
       "dtype: float32"
      ]
     },
     "metadata": {},
     "output_type": "display_data"
    }
   ],
   "source": [
    "df = pd.DataFrame(cora_node_results)\n",
    "display(df.mean())\n",
    "display(df.std())\n",
    "display(df.max())"
   ]
  },
  {
   "cell_type": "code",
   "execution_count": 12,
   "metadata": {},
   "outputs": [
    {
     "name": "stdout",
     "output_type": "stream",
     "text": [
      "Running on: cuda\n"
     ]
    },
    {
     "name": "stderr",
     "output_type": "stream",
     "text": [
      "100%|██████████| 30/30 [00:20<00:00,  1.48it/s]\n",
      "100%|██████████| 30/30 [00:56<00:00,  1.90s/it]\n",
      "100%|██████████| 30/30 [03:23<00:00,  6.77s/it]\n",
      "100%|██████████| 30/30 [01:36<00:00,  3.23s/it]\n"
     ]
    }
   ],
   "source": [
    "pubmed_node_results = run_node_classification('PubMed',node_class_runs,features='LM')"
   ]
  },
  {
   "cell_type": "code",
   "execution_count": 13,
   "metadata": {},
   "outputs": [
    {
     "data": {
      "text/plain": [
       "mean    0.720900\n",
       "gcn     0.741067\n",
       "eve     0.443333\n",
       "pool    0.633733\n",
       "dtype: float32"
      ]
     },
     "metadata": {},
     "output_type": "display_data"
    },
    {
     "data": {
      "text/plain": [
       "mean    0.041525\n",
       "gcn     0.044257\n",
       "eve     0.073072\n",
       "pool    0.079714\n",
       "dtype: float32"
      ]
     },
     "metadata": {},
     "output_type": "display_data"
    },
    {
     "data": {
      "text/plain": [
       "mean    0.777\n",
       "gcn     0.772\n",
       "eve     0.686\n",
       "pool    0.745\n",
       "dtype: float32"
      ]
     },
     "metadata": {},
     "output_type": "display_data"
    }
   ],
   "source": [
    "df = pd.DataFrame(pubmed_node_results)\n",
    "display(df.mean())\n",
    "display(df.std())\n",
    "display(df.max())"
   ]
  },
  {
   "cell_type": "code",
   "execution_count": null,
   "metadata": {},
   "outputs": [],
   "source": []
  }
 ],
 "metadata": {
  "kernelspec": {
   "display_name": "Python 3 (ipykernel)",
   "language": "python",
   "name": "python3"
  },
  "language_info": {
   "codemirror_mode": {
    "name": "ipython",
    "version": 3
   },
   "file_extension": ".py",
   "mimetype": "text/x-python",
   "name": "python",
   "nbconvert_exporter": "python",
   "pygments_lexer": "ipython3",
   "version": "3.10.10"
  }
 },
 "nbformat": 4,
 "nbformat_minor": 4
}
