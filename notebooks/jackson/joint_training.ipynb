{
 "cells": [
  {
   "cell_type": "code",
   "execution_count": 1,
   "metadata": {},
   "outputs": [],
   "source": [
    "import sys\n",
    "sys.path.insert(0, '../../')"
   ]
  },
  {
   "cell_type": "code",
   "execution_count": 2,
   "metadata": {},
   "outputs": [
    {
     "name": "stderr",
     "output_type": "stream",
     "text": [
      "d:\\ProgramData\\Anaconda3\\envs\\rwn\\lib\\site-packages\\tqdm\\auto.py:21: TqdmWarning: IProgress not found. Please update jupyter and ipywidgets. See https://ipywidgets.readthedocs.io/en/stable/user_install.html\n",
      "  from .autonotebook import tqdm as notebook_tqdm\n"
     ]
    }
   ],
   "source": [
    "import src.results as results\n",
    "import pandas as pd"
   ]
  },
  {
   "cell_type": "code",
   "execution_count": 3,
   "metadata": {},
   "outputs": [
    {
     "name": "stderr",
     "output_type": "stream",
     "text": [
      "100%|██████████| 3/3 [07:48<00:00, 156.11s/it]\n",
      "100%|██████████| 3/3 [04:14<00:00, 85.00s/it]\n"
     ]
    }
   ],
   "source": [
    "res = results.run_joint_train('Cora', 3)"
   ]
  },
  {
   "cell_type": "code",
   "execution_count": 4,
   "metadata": {},
   "outputs": [
    {
     "name": "stdout",
     "output_type": "stream",
     "text": [
      "Classification Acc\n"
     ]
    },
    {
     "data": {
      "text/plain": [
       "mean    0.858734\n",
       "gcn     0.826124\n",
       "dtype: float64"
      ]
     },
     "metadata": {},
     "output_type": "display_data"
    },
    {
     "name": "stdout",
     "output_type": "stream",
     "text": [
      "\n"
     ]
    },
    {
     "data": {
      "text/plain": [
       "mean    0.003376\n",
       "gcn     0.028962\n",
       "dtype: float64"
      ]
     },
     "metadata": {},
     "output_type": "display_data"
    },
    {
     "name": "stdout",
     "output_type": "stream",
     "text": [
      "====================================================================================================\n",
      "Link Pred AUC\n"
     ]
    },
    {
     "data": {
      "text/plain": [
       "mean    0.995238\n",
       "gcn     0.990476\n",
       "dtype: float64"
      ]
     },
     "metadata": {},
     "output_type": "display_data"
    },
    {
     "name": "stdout",
     "output_type": "stream",
     "text": [
      "\n"
     ]
    },
    {
     "data": {
      "text/plain": [
       "mean    0.008248\n",
       "gcn     0.016496\n",
       "dtype: float64"
      ]
     },
     "metadata": {},
     "output_type": "display_data"
    }
   ],
   "source": [
    "new_res = {'classification':{}, 'link_pred':{}}\n",
    "\n",
    "for agg, runs in res.items():\n",
    "    new_res[agg] = {}\n",
    "    classification = []\n",
    "    link_pred = []\n",
    "    for r in runs:\n",
    "        classification.append(r[0][1])\n",
    "        link_pred.append(float(r[0][2].numpy()))\n",
    "    new_res['classification'][agg] = classification\n",
    "    new_res['link_pred'][agg] = link_pred\n",
    "\n",
    "\n",
    "print('Classification Acc')\n",
    "df = pd.DataFrame(new_res['classification'])\n",
    "display(df.mean())\n",
    "print()\n",
    "display(df.std())\n",
    "\n",
    "print('='*100)\n",
    "\n",
    "print('Link Pred AUC')\n",
    "df = pd.DataFrame(new_res['link_pred'])\n",
    "display(df.mean())\n",
    "print()\n",
    "display(df.std())"
   ]
  },
  {
   "cell_type": "code",
   "execution_count": null,
   "metadata": {},
   "outputs": [],
   "source": []
  }
 ],
 "metadata": {
  "kernelspec": {
   "display_name": "rwn",
   "language": "python",
   "name": "python3"
  },
  "language_info": {
   "codemirror_mode": {
    "name": "ipython",
    "version": 3
   },
   "file_extension": ".py",
   "mimetype": "text/x-python",
   "name": "python",
   "nbconvert_exporter": "python",
   "pygments_lexer": "ipython3",
   "version": "3.10.13"
  }
 },
 "nbformat": 4,
 "nbformat_minor": 2
}
