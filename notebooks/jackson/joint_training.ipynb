{
 "cells": [
  {
   "cell_type": "code",
   "execution_count": 2,
   "metadata": {},
   "outputs": [],
   "source": [
    "%load_ext autoreload\n",
    "%autoreload 2"
   ]
  },
  {
   "cell_type": "code",
   "execution_count": 3,
   "metadata": {},
   "outputs": [
    {
     "name": "stderr",
     "output_type": "stream",
     "text": [
      "d:\\ProgramData\\Anaconda3\\envs\\rwn\\lib\\site-packages\\tqdm\\auto.py:21: TqdmWarning: IProgress not found. Please update jupyter and ipywidgets. See https://ipywidgets.readthedocs.io/en/stable/user_install.html\n",
      "  from .autonotebook import tqdm as notebook_tqdm\n"
     ]
    }
   ],
   "source": [
    "import sys\n",
    "sys.path.insert(0, '../../')\n",
    "import src.results as results\n",
    "import pandas as pd\n",
    "from math import sqrt"
   ]
  },
  {
   "cell_type": "code",
   "execution_count": 4,
   "metadata": {},
   "outputs": [],
   "source": [
    "def agg_res(res, name=None):\n",
    "    new_res = {'classification':{}, 'link_pred':{}}\n",
    "\n",
    "    for agg, runs in res.items():\n",
    "        new_res[agg] = {}\n",
    "        classification = []\n",
    "        link_pred = []\n",
    "        for r in runs:\n",
    "            classification.append(r[0][2])\n",
    "            link_pred.append(float(r[0][1].cpu().numpy()))\n",
    "        new_res['classification'][agg] = classification\n",
    "        new_res['link_pred'][agg] = link_pred\n",
    "\n",
    "    if name is not None:\n",
    "        print('=' * 50, f' {name.upper()} ', '='*50)\n",
    "    print('Classification Acc')\n",
    "    df = pd.DataFrame(new_res['classification'])\n",
    "    display(df.mean())\n",
    "    print()\n",
    "    display(df.std())\n",
    "\n",
    "    print('-'*100)\n",
    "\n",
    "    print('Link Pred AUC')\n",
    "    df = pd.DataFrame(new_res['link_pred'])\n",
    "    display(df.mean())\n",
    "    print()\n",
    "    display(df.std())\n",
    "    print()\n",
    "    print()\n",
    "\n",
    "    return new_res\n"
   ]
  },
  {
   "cell_type": "code",
   "execution_count": 5,
   "metadata": {},
   "outputs": [],
   "source": [
    "funcs = [\n",
    "    lambda x, y: 0.5,  # 0 \n",
    "    lambda x, y: 0.9,  # 1\n",
    "    lambda x, y: 0.1,  # 2\n",
    "    lambda x, y: 0.25,  # 3\n",
    "    lambda x, y: 0.75,  # 4\n",
    "    lambda x, y: x / y,  # 5\n",
    "\n",
    "    # These next three have no rationale but fuck it who cares\n",
    "    lambda x, y: (x / y) ** 2,\n",
    "    lambda x, y: sqrt(x / y),\n",
    "    lambda x, y: y / x\n",
    "    ]"
   ]
  },
  {
   "cell_type": "code",
   "execution_count": 5,
   "metadata": {},
   "outputs": [
    {
     "name": "stderr",
     "output_type": "stream",
     "text": [
      "100%|██████████| 3/3 [01:57<00:00, 39.24s/it]\n",
      "100%|██████████| 3/3 [00:49<00:00, 16.65s/it]\n",
      "100%|██████████| 3/3 [00:45<00:00, 15.11s/it]\n",
      "100%|██████████| 3/3 [01:01<00:00, 20.66s/it]"
     ]
    },
    {
     "name": "stdout",
     "output_type": "stream",
     "text": [
      "==================================================  LAMBDA #0  ==================================================\n",
      "Classification Acc\n"
     ]
    },
    {
     "name": "stderr",
     "output_type": "stream",
     "text": [
      "\n"
     ]
    },
    {
     "data": {
      "text/plain": [
       "eve     0.693270\n",
       "mean    0.824131\n",
       "gcn     0.889204\n",
       "pool    0.815684\n",
       "dtype: float64"
      ]
     },
     "metadata": {},
     "output_type": "display_data"
    },
    {
     "name": "stdout",
     "output_type": "stream",
     "text": [
      "\n"
     ]
    },
    {
     "data": {
      "text/plain": [
       "eve     0.192849\n",
       "mean    0.002011\n",
       "gcn     0.016488\n",
       "pool    0.007536\n",
       "dtype: float64"
      ]
     },
     "metadata": {},
     "output_type": "display_data"
    },
    {
     "name": "stdout",
     "output_type": "stream",
     "text": [
      "----------------------------------------------------------------------------------------------------\n",
      "Link Pred AUC\n"
     ]
    },
    {
     "data": {
      "text/plain": [
       "eve     0.541000\n",
       "mean    0.687000\n",
       "gcn     0.745667\n",
       "pool    0.546000\n",
       "dtype: float64"
      ]
     },
     "metadata": {},
     "output_type": "display_data"
    },
    {
     "name": "stdout",
     "output_type": "stream",
     "text": [
      "\n"
     ]
    },
    {
     "data": {
      "text/plain": [
       "eve     0.201167\n",
       "mean    0.018248\n",
       "gcn     0.014503\n",
       "pool    0.042790\n",
       "dtype: float64"
      ]
     },
     "metadata": {},
     "output_type": "display_data"
    },
    {
     "name": "stdout",
     "output_type": "stream",
     "text": [
      "\n",
      "\n"
     ]
    },
    {
     "name": "stderr",
     "output_type": "stream",
     "text": [
      "100%|██████████| 3/3 [01:48<00:00, 36.24s/it]\n",
      "100%|██████████| 3/3 [00:46<00:00, 15.43s/it]\n",
      "100%|██████████| 3/3 [00:43<00:00, 14.46s/it]\n",
      "100%|██████████| 3/3 [00:57<00:00, 19.31s/it]"
     ]
    },
    {
     "name": "stdout",
     "output_type": "stream",
     "text": [
      "==================================================  LAMBDA #1  ==================================================\n",
      "Classification Acc\n"
     ]
    },
    {
     "name": "stderr",
     "output_type": "stream",
     "text": [
      "\n"
     ]
    },
    {
     "data": {
      "text/plain": [
       "eve     0.581513\n",
       "mean    0.839083\n",
       "gcn     0.878868\n",
       "pool    0.814413\n",
       "dtype: float64"
      ]
     },
     "metadata": {},
     "output_type": "display_data"
    },
    {
     "name": "stdout",
     "output_type": "stream",
     "text": [
      "\n"
     ]
    },
    {
     "data": {
      "text/plain": [
       "eve     0.156024\n",
       "mean    0.010378\n",
       "gcn     0.011416\n",
       "pool    0.004945\n",
       "dtype: float64"
      ]
     },
     "metadata": {},
     "output_type": "display_data"
    },
    {
     "name": "stdout",
     "output_type": "stream",
     "text": [
      "----------------------------------------------------------------------------------------------------\n",
      "Link Pred AUC\n"
     ]
    },
    {
     "data": {
      "text/plain": [
       "eve     0.235667\n",
       "mean    0.688000\n",
       "gcn     0.744667\n",
       "pool    0.582667\n",
       "dtype: float64"
      ]
     },
     "metadata": {},
     "output_type": "display_data"
    },
    {
     "name": "stdout",
     "output_type": "stream",
     "text": [
      "\n"
     ]
    },
    {
     "data": {
      "text/plain": [
       "eve     0.241918\n",
       "mean    0.022605\n",
       "gcn     0.010017\n",
       "pool    0.023438\n",
       "dtype: float64"
      ]
     },
     "metadata": {},
     "output_type": "display_data"
    },
    {
     "name": "stdout",
     "output_type": "stream",
     "text": [
      "\n",
      "\n"
     ]
    },
    {
     "name": "stderr",
     "output_type": "stream",
     "text": [
      "100%|██████████| 3/3 [01:49<00:00, 36.41s/it]\n",
      "100%|██████████| 3/3 [00:47<00:00, 15.91s/it]\n",
      "100%|██████████| 3/3 [00:44<00:00, 14.71s/it]\n",
      "100%|██████████| 3/3 [00:57<00:00, 19.22s/it]"
     ]
    },
    {
     "name": "stdout",
     "output_type": "stream",
     "text": [
      "==================================================  LAMBDA #2  ==================================================\n",
      "Classification Acc\n"
     ]
    },
    {
     "name": "stderr",
     "output_type": "stream",
     "text": [
      "\n"
     ]
    },
    {
     "data": {
      "text/plain": [
       "eve     0.543675\n",
       "mean    0.807874\n",
       "gcn     0.848827\n",
       "pool    0.817937\n",
       "dtype: float64"
      ]
     },
     "metadata": {},
     "output_type": "display_data"
    },
    {
     "name": "stdout",
     "output_type": "stream",
     "text": [
      "\n"
     ]
    },
    {
     "data": {
      "text/plain": [
       "eve     0.156214\n",
       "mean    0.008260\n",
       "gcn     0.008893\n",
       "pool    0.003621\n",
       "dtype: float64"
      ]
     },
     "metadata": {},
     "output_type": "display_data"
    },
    {
     "name": "stdout",
     "output_type": "stream",
     "text": [
      "----------------------------------------------------------------------------------------------------\n",
      "Link Pred AUC\n"
     ]
    },
    {
     "data": {
      "text/plain": [
       "eve     0.347333\n",
       "mean    0.689333\n",
       "gcn     0.703333\n",
       "pool    0.516333\n",
       "dtype: float64"
      ]
     },
     "metadata": {},
     "output_type": "display_data"
    },
    {
     "name": "stdout",
     "output_type": "stream",
     "text": [
      "\n"
     ]
    },
    {
     "data": {
      "text/plain": [
       "eve     0.062931\n",
       "mean    0.002517\n",
       "gcn     0.019296\n",
       "pool    0.041621\n",
       "dtype: float64"
      ]
     },
     "metadata": {},
     "output_type": "display_data"
    },
    {
     "name": "stdout",
     "output_type": "stream",
     "text": [
      "\n",
      "\n"
     ]
    },
    {
     "name": "stderr",
     "output_type": "stream",
     "text": [
      "100%|██████████| 3/3 [01:46<00:00, 35.45s/it]\n",
      "100%|██████████| 3/3 [00:46<00:00, 15.37s/it]\n",
      "100%|██████████| 3/3 [00:42<00:00, 14.11s/it]\n",
      "100%|██████████| 3/3 [00:56<00:00, 18.85s/it]"
     ]
    },
    {
     "name": "stdout",
     "output_type": "stream",
     "text": [
      "==================================================  LAMBDA #3  ==================================================\n",
      "Classification Acc\n"
     ]
    },
    {
     "name": "stderr",
     "output_type": "stream",
     "text": [
      "\n"
     ]
    },
    {
     "data": {
      "text/plain": [
       "eve     0.538901\n",
       "mean    0.825410\n",
       "gcn     0.875650\n",
       "pool    0.801704\n",
       "dtype: float64"
      ]
     },
     "metadata": {},
     "output_type": "display_data"
    },
    {
     "name": "stdout",
     "output_type": "stream",
     "text": [
      "\n"
     ]
    },
    {
     "data": {
      "text/plain": [
       "eve     0.186266\n",
       "mean    0.006484\n",
       "gcn     0.009937\n",
       "pool    0.008632\n",
       "dtype: float64"
      ]
     },
     "metadata": {},
     "output_type": "display_data"
    },
    {
     "name": "stdout",
     "output_type": "stream",
     "text": [
      "----------------------------------------------------------------------------------------------------\n",
      "Link Pred AUC\n"
     ]
    },
    {
     "data": {
      "text/plain": [
       "eve     0.280000\n",
       "mean    0.654000\n",
       "gcn     0.710333\n",
       "pool    0.508000\n",
       "dtype: float64"
      ]
     },
     "metadata": {},
     "output_type": "display_data"
    },
    {
     "name": "stdout",
     "output_type": "stream",
     "text": [
      "\n"
     ]
    },
    {
     "data": {
      "text/plain": [
       "eve     0.126028\n",
       "mean    0.060696\n",
       "gcn     0.022502\n",
       "pool    0.008660\n",
       "dtype: float64"
      ]
     },
     "metadata": {},
     "output_type": "display_data"
    },
    {
     "name": "stdout",
     "output_type": "stream",
     "text": [
      "\n",
      "\n"
     ]
    },
    {
     "name": "stderr",
     "output_type": "stream",
     "text": [
      "100%|██████████| 3/3 [01:44<00:00, 34.91s/it]\n",
      "100%|██████████| 3/3 [00:45<00:00, 15.23s/it]\n",
      "100%|██████████| 3/3 [00:42<00:00, 14.28s/it]\n",
      "100%|██████████| 3/3 [00:56<00:00, 18.93s/it]"
     ]
    },
    {
     "name": "stdout",
     "output_type": "stream",
     "text": [
      "==================================================  LAMBDA #4  ==================================================\n",
      "Classification Acc\n"
     ]
    },
    {
     "name": "stderr",
     "output_type": "stream",
     "text": [
      "\n"
     ]
    },
    {
     "data": {
      "text/plain": [
       "eve     0.653280\n",
       "mean    0.826052\n",
       "gcn     0.878767\n",
       "pool    0.814096\n",
       "dtype: float64"
      ]
     },
     "metadata": {},
     "output_type": "display_data"
    },
    {
     "name": "stdout",
     "output_type": "stream",
     "text": [
      "\n"
     ]
    },
    {
     "data": {
      "text/plain": [
       "eve     0.174410\n",
       "mean    0.009351\n",
       "gcn     0.005152\n",
       "pool    0.015775\n",
       "dtype: float64"
      ]
     },
     "metadata": {},
     "output_type": "display_data"
    },
    {
     "name": "stdout",
     "output_type": "stream",
     "text": [
      "----------------------------------------------------------------------------------------------------\n",
      "Link Pred AUC\n"
     ]
    },
    {
     "data": {
      "text/plain": [
       "eve     0.374000\n",
       "mean    0.685667\n",
       "gcn     0.742333\n",
       "pool    0.551667\n",
       "dtype: float64"
      ]
     },
     "metadata": {},
     "output_type": "display_data"
    },
    {
     "name": "stdout",
     "output_type": "stream",
     "text": [
      "\n"
     ]
    },
    {
     "data": {
      "text/plain": [
       "eve     0.255971\n",
       "mean    0.054602\n",
       "gcn     0.012423\n",
       "pool    0.019140\n",
       "dtype: float64"
      ]
     },
     "metadata": {},
     "output_type": "display_data"
    },
    {
     "name": "stdout",
     "output_type": "stream",
     "text": [
      "\n",
      "\n"
     ]
    },
    {
     "name": "stderr",
     "output_type": "stream",
     "text": [
      "100%|██████████| 3/3 [01:44<00:00, 34.92s/it]\n",
      "100%|██████████| 3/3 [00:45<00:00, 15.19s/it]\n",
      "100%|██████████| 3/3 [00:42<00:00, 14.15s/it]\n",
      "100%|██████████| 3/3 [00:56<00:00, 18.88s/it]"
     ]
    },
    {
     "name": "stdout",
     "output_type": "stream",
     "text": [
      "==================================================  LAMBDA #5  ==================================================\n",
      "Classification Acc\n"
     ]
    },
    {
     "name": "stderr",
     "output_type": "stream",
     "text": [
      "\n"
     ]
    },
    {
     "data": {
      "text/plain": [
       "eve     0.622631\n",
       "mean    0.815912\n",
       "gcn     0.867191\n",
       "pool    0.748634\n",
       "dtype: float64"
      ]
     },
     "metadata": {},
     "output_type": "display_data"
    },
    {
     "name": "stdout",
     "output_type": "stream",
     "text": [
      "\n"
     ]
    },
    {
     "data": {
      "text/plain": [
       "eve     0.214712\n",
       "mean    0.003868\n",
       "gcn     0.008732\n",
       "pool    0.105190\n",
       "dtype: float64"
      ]
     },
     "metadata": {},
     "output_type": "display_data"
    },
    {
     "name": "stdout",
     "output_type": "stream",
     "text": [
      "----------------------------------------------------------------------------------------------------\n",
      "Link Pred AUC\n"
     ]
    },
    {
     "data": {
      "text/plain": [
       "eve     0.374333\n",
       "mean    0.656333\n",
       "gcn     0.704000\n",
       "pool    0.494333\n",
       "dtype: float64"
      ]
     },
     "metadata": {},
     "output_type": "display_data"
    },
    {
     "name": "stdout",
     "output_type": "stream",
     "text": [
      "\n"
     ]
    },
    {
     "data": {
      "text/plain": [
       "eve     0.280949\n",
       "mean    0.006658\n",
       "gcn     0.014731\n",
       "pool    0.100858\n",
       "dtype: float64"
      ]
     },
     "metadata": {},
     "output_type": "display_data"
    },
    {
     "name": "stdout",
     "output_type": "stream",
     "text": [
      "\n",
      "\n"
     ]
    },
    {
     "name": "stderr",
     "output_type": "stream",
     "text": [
      "100%|██████████| 3/3 [01:44<00:00, 34.89s/it]\n",
      "100%|██████████| 3/3 [00:45<00:00, 15.28s/it]\n",
      "100%|██████████| 3/3 [00:42<00:00, 14.20s/it]\n",
      "100%|██████████| 3/3 [00:56<00:00, 18.80s/it]"
     ]
    },
    {
     "name": "stdout",
     "output_type": "stream",
     "text": [
      "==================================================  LAMBDA #6  ==================================================\n",
      "Classification Acc\n"
     ]
    },
    {
     "name": "stderr",
     "output_type": "stream",
     "text": [
      "\n"
     ]
    },
    {
     "data": {
      "text/plain": [
       "eve     0.499801\n",
       "mean    0.815820\n",
       "gcn     0.842414\n",
       "pool    0.814319\n",
       "dtype: float64"
      ]
     },
     "metadata": {},
     "output_type": "display_data"
    },
    {
     "name": "stdout",
     "output_type": "stream",
     "text": [
      "\n"
     ]
    },
    {
     "data": {
      "text/plain": [
       "eve     0.068093\n",
       "mean    0.007933\n",
       "gcn     0.004439\n",
       "pool    0.011929\n",
       "dtype: float64"
      ]
     },
     "metadata": {},
     "output_type": "display_data"
    },
    {
     "name": "stdout",
     "output_type": "stream",
     "text": [
      "----------------------------------------------------------------------------------------------------\n",
      "Link Pred AUC\n"
     ]
    },
    {
     "data": {
      "text/plain": [
       "eve     0.127667\n",
       "mean    0.645000\n",
       "gcn     0.695333\n",
       "pool    0.515333\n",
       "dtype: float64"
      ]
     },
     "metadata": {},
     "output_type": "display_data"
    },
    {
     "name": "stdout",
     "output_type": "stream",
     "text": [
      "\n"
     ]
    },
    {
     "data": {
      "text/plain": [
       "eve     0.030022\n",
       "mean    0.023516\n",
       "gcn     0.015275\n",
       "pool    0.009074\n",
       "dtype: float64"
      ]
     },
     "metadata": {},
     "output_type": "display_data"
    },
    {
     "name": "stdout",
     "output_type": "stream",
     "text": [
      "\n",
      "\n"
     ]
    },
    {
     "name": "stderr",
     "output_type": "stream",
     "text": [
      "100%|██████████| 3/3 [01:44<00:00, 34.93s/it]\n",
      "100%|██████████| 3/3 [00:45<00:00, 15.16s/it]\n",
      "100%|██████████| 3/3 [00:42<00:00, 14.32s/it]\n",
      "100%|██████████| 3/3 [00:56<00:00, 18.82s/it]"
     ]
    },
    {
     "name": "stdout",
     "output_type": "stream",
     "text": [
      "==================================================  LAMBDA #7  ==================================================\n",
      "Classification Acc\n"
     ]
    },
    {
     "name": "stderr",
     "output_type": "stream",
     "text": [
      "\n"
     ]
    },
    {
     "data": {
      "text/plain": [
       "eve     0.489508\n",
       "mean    0.818079\n",
       "gcn     0.874165\n",
       "pool    0.805804\n",
       "dtype: float64"
      ]
     },
     "metadata": {},
     "output_type": "display_data"
    },
    {
     "name": "stdout",
     "output_type": "stream",
     "text": [
      "\n"
     ]
    },
    {
     "data": {
      "text/plain": [
       "eve     0.154519\n",
       "mean    0.004556\n",
       "gcn     0.003628\n",
       "pool    0.006098\n",
       "dtype: float64"
      ]
     },
     "metadata": {},
     "output_type": "display_data"
    },
    {
     "name": "stdout",
     "output_type": "stream",
     "text": [
      "----------------------------------------------------------------------------------------------------\n",
      "Link Pred AUC\n"
     ]
    },
    {
     "data": {
      "text/plain": [
       "eve     0.139000\n",
       "mean    0.687333\n",
       "gcn     0.737333\n",
       "pool    0.527333\n",
       "dtype: float64"
      ]
     },
     "metadata": {},
     "output_type": "display_data"
    },
    {
     "name": "stdout",
     "output_type": "stream",
     "text": [
      "\n"
     ]
    },
    {
     "data": {
      "text/plain": [
       "eve     0.072629\n",
       "mean    0.032130\n",
       "gcn     0.023692\n",
       "pool    0.056977\n",
       "dtype: float64"
      ]
     },
     "metadata": {},
     "output_type": "display_data"
    },
    {
     "name": "stdout",
     "output_type": "stream",
     "text": [
      "\n",
      "\n"
     ]
    },
    {
     "name": "stderr",
     "output_type": "stream",
     "text": [
      "100%|██████████| 3/3 [01:43<00:00, 34.65s/it]\n",
      "100%|██████████| 3/3 [00:45<00:00, 15.29s/it]\n",
      "100%|██████████| 3/3 [00:42<00:00, 14.17s/it]\n",
      "100%|██████████| 3/3 [00:57<00:00, 19.22s/it]"
     ]
    },
    {
     "name": "stdout",
     "output_type": "stream",
     "text": [
      "==================================================  LAMBDA #8  ==================================================\n",
      "Classification Acc\n"
     ]
    },
    {
     "name": "stderr",
     "output_type": "stream",
     "text": [
      "\n"
     ]
    },
    {
     "data": {
      "text/plain": [
       "eve     0.480556\n",
       "mean    0.458999\n",
       "gcn     0.481751\n",
       "pool    0.538447\n",
       "dtype: float64"
      ]
     },
     "metadata": {},
     "output_type": "display_data"
    },
    {
     "name": "stdout",
     "output_type": "stream",
     "text": [
      "\n"
     ]
    },
    {
     "data": {
      "text/plain": [
       "eve     0.061350\n",
       "mean    0.002349\n",
       "gcn     0.002858\n",
       "pool    0.001548\n",
       "dtype: float64"
      ]
     },
     "metadata": {},
     "output_type": "display_data"
    },
    {
     "name": "stdout",
     "output_type": "stream",
     "text": [
      "----------------------------------------------------------------------------------------------------\n",
      "Link Pred AUC\n"
     ]
    },
    {
     "data": {
      "text/plain": [
       "eve     0.110333\n",
       "mean    0.098333\n",
       "gcn     0.105333\n",
       "pool    0.077000\n",
       "dtype: float64"
      ]
     },
     "metadata": {},
     "output_type": "display_data"
    },
    {
     "name": "stdout",
     "output_type": "stream",
     "text": [
      "\n"
     ]
    },
    {
     "data": {
      "text/plain": [
       "eve     0.033486\n",
       "mean    0.026858\n",
       "gcn     0.042548\n",
       "pool    0.022517\n",
       "dtype: float64"
      ]
     },
     "metadata": {},
     "output_type": "display_data"
    },
    {
     "name": "stdout",
     "output_type": "stream",
     "text": [
      "\n",
      "\n"
     ]
    }
   ],
   "source": [
    "res = []\n",
    "for i, l in enumerate(funcs):\n",
    "    x = results.run_joint_train('Cora', 3, epochs=1000, lamb=l)\n",
    "    res.append(agg_res(x, name=f'Lambda #{i}'))"
   ]
  },
  {
   "cell_type": "code",
   "execution_count": 6,
   "metadata": {},
   "outputs": [
    {
     "name": "stderr",
     "output_type": "stream",
     "text": [
      "100%|██████████| 3/3 [03:09<00:00, 63.10s/it]\n",
      "100%|██████████| 3/3 [00:49<00:00, 16.48s/it]\n",
      "100%|██████████| 3/3 [00:46<00:00, 15.51s/it]\n",
      "100%|██████████| 3/3 [01:16<00:00, 25.54s/it]"
     ]
    },
    {
     "name": "stdout",
     "output_type": "stream",
     "text": [
      "==================================================  LAMBDA #0  ==================================================\n",
      "Classification Acc\n"
     ]
    },
    {
     "name": "stderr",
     "output_type": "stream",
     "text": [
      "\n"
     ]
    },
    {
     "data": {
      "text/plain": [
       "eve     0.566332\n",
       "mean    0.896620\n",
       "gcn     0.892837\n",
       "pool    0.886450\n",
       "dtype: float64"
      ]
     },
     "metadata": {},
     "output_type": "display_data"
    },
    {
     "name": "stdout",
     "output_type": "stream",
     "text": [
      "\n"
     ]
    },
    {
     "data": {
      "text/plain": [
       "eve     0.180895\n",
       "mean    0.003692\n",
       "gcn     0.000860\n",
       "pool    0.009755\n",
       "dtype: float64"
      ]
     },
     "metadata": {},
     "output_type": "display_data"
    },
    {
     "name": "stdout",
     "output_type": "stream",
     "text": [
      "----------------------------------------------------------------------------------------------------\n",
      "Link Pred AUC\n"
     ]
    },
    {
     "data": {
      "text/plain": [
       "eve     0.440333\n",
       "mean    0.782000\n",
       "gcn     0.768667\n",
       "pool    0.720333\n",
       "dtype: float64"
      ]
     },
     "metadata": {},
     "output_type": "display_data"
    },
    {
     "name": "stdout",
     "output_type": "stream",
     "text": [
      "\n"
     ]
    },
    {
     "data": {
      "text/plain": [
       "eve     0.254443\n",
       "mean    0.001732\n",
       "gcn     0.022234\n",
       "pool    0.007572\n",
       "dtype: float64"
      ]
     },
     "metadata": {},
     "output_type": "display_data"
    },
    {
     "name": "stdout",
     "output_type": "stream",
     "text": [
      "\n",
      "\n"
     ]
    },
    {
     "name": "stderr",
     "output_type": "stream",
     "text": [
      "100%|██████████| 3/3 [02:59<00:00, 59.83s/it]\n",
      "100%|██████████| 3/3 [00:49<00:00, 16.56s/it]\n",
      "100%|██████████| 3/3 [00:46<00:00, 15.61s/it]\n",
      "100%|██████████| 3/3 [01:16<00:00, 25.63s/it]"
     ]
    },
    {
     "name": "stdout",
     "output_type": "stream",
     "text": [
      "==================================================  LAMBDA #1  ==================================================\n",
      "Classification Acc\n"
     ]
    },
    {
     "name": "stderr",
     "output_type": "stream",
     "text": [
      "\n"
     ]
    },
    {
     "data": {
      "text/plain": [
       "eve     0.668542\n",
       "mean    0.878858\n",
       "gcn     0.860534\n",
       "pool    0.881425\n",
       "dtype: float64"
      ]
     },
     "metadata": {},
     "output_type": "display_data"
    },
    {
     "name": "stdout",
     "output_type": "stream",
     "text": [
      "\n"
     ]
    },
    {
     "data": {
      "text/plain": [
       "eve     0.079299\n",
       "mean    0.000052\n",
       "gcn     0.017609\n",
       "pool    0.006584\n",
       "dtype: float64"
      ]
     },
     "metadata": {},
     "output_type": "display_data"
    },
    {
     "name": "stdout",
     "output_type": "stream",
     "text": [
      "----------------------------------------------------------------------------------------------------\n",
      "Link Pred AUC\n"
     ]
    },
    {
     "data": {
      "text/plain": [
       "eve     0.565333\n",
       "mean    0.748333\n",
       "gcn     0.746333\n",
       "pool    0.737667\n",
       "dtype: float64"
      ]
     },
     "metadata": {},
     "output_type": "display_data"
    },
    {
     "name": "stdout",
     "output_type": "stream",
     "text": [
      "\n"
     ]
    },
    {
     "data": {
      "text/plain": [
       "eve     0.138298\n",
       "mean    0.002309\n",
       "gcn     0.027154\n",
       "pool    0.009713\n",
       "dtype: float64"
      ]
     },
     "metadata": {},
     "output_type": "display_data"
    },
    {
     "name": "stdout",
     "output_type": "stream",
     "text": [
      "\n",
      "\n"
     ]
    },
    {
     "name": "stderr",
     "output_type": "stream",
     "text": [
      "100%|██████████| 3/3 [02:58<00:00, 59.62s/it]\n",
      "100%|██████████| 3/3 [00:49<00:00, 16.60s/it]\n",
      "100%|██████████| 3/3 [00:46<00:00, 15.64s/it]\n",
      "100%|██████████| 3/3 [01:16<00:00, 25.54s/it]"
     ]
    },
    {
     "name": "stdout",
     "output_type": "stream",
     "text": [
      "==================================================  LAMBDA #2  ==================================================\n",
      "Classification Acc\n"
     ]
    },
    {
     "name": "stderr",
     "output_type": "stream",
     "text": [
      "\n"
     ]
    },
    {
     "data": {
      "text/plain": [
       "eve     0.551106\n",
       "mean    0.905360\n",
       "gcn     0.897381\n",
       "pool    0.889839\n",
       "dtype: float64"
      ]
     },
     "metadata": {},
     "output_type": "display_data"
    },
    {
     "name": "stdout",
     "output_type": "stream",
     "text": [
      "\n"
     ]
    },
    {
     "data": {
      "text/plain": [
       "eve     0.145987\n",
       "mean    0.002578\n",
       "gcn     0.000186\n",
       "pool    0.010706\n",
       "dtype: float64"
      ]
     },
     "metadata": {},
     "output_type": "display_data"
    },
    {
     "name": "stdout",
     "output_type": "stream",
     "text": [
      "----------------------------------------------------------------------------------------------------\n",
      "Link Pred AUC\n"
     ]
    },
    {
     "data": {
      "text/plain": [
       "eve     0.367000\n",
       "mean    0.781667\n",
       "gcn     0.785333\n",
       "pool    0.718667\n",
       "dtype: float64"
      ]
     },
     "metadata": {},
     "output_type": "display_data"
    },
    {
     "name": "stdout",
     "output_type": "stream",
     "text": [
      "\n"
     ]
    },
    {
     "data": {
      "text/plain": [
       "eve     0.145558\n",
       "mean    0.002082\n",
       "gcn     0.003055\n",
       "pool    0.054077\n",
       "dtype: float64"
      ]
     },
     "metadata": {},
     "output_type": "display_data"
    },
    {
     "name": "stdout",
     "output_type": "stream",
     "text": [
      "\n",
      "\n"
     ]
    },
    {
     "name": "stderr",
     "output_type": "stream",
     "text": [
      "100%|██████████| 3/3 [03:00<00:00, 60.04s/it]\n",
      "100%|██████████| 3/3 [00:49<00:00, 16.63s/it]\n",
      "100%|██████████| 3/3 [00:46<00:00, 15.62s/it]\n",
      "100%|██████████| 3/3 [01:16<00:00, 25.61s/it]"
     ]
    },
    {
     "name": "stdout",
     "output_type": "stream",
     "text": [
      "==================================================  LAMBDA #3  ==================================================\n",
      "Classification Acc\n"
     ]
    },
    {
     "name": "stderr",
     "output_type": "stream",
     "text": [
      "\n"
     ]
    },
    {
     "data": {
      "text/plain": [
       "eve     0.711430\n",
       "mean    0.906350\n",
       "gcn     0.893804\n",
       "pool    0.895538\n",
       "dtype: float64"
      ]
     },
     "metadata": {},
     "output_type": "display_data"
    },
    {
     "name": "stdout",
     "output_type": "stream",
     "text": [
      "\n"
     ]
    },
    {
     "data": {
      "text/plain": [
       "eve     0.185506\n",
       "mean    0.002043\n",
       "gcn     0.000345\n",
       "pool    0.003837\n",
       "dtype: float64"
      ]
     },
     "metadata": {},
     "output_type": "display_data"
    },
    {
     "name": "stdout",
     "output_type": "stream",
     "text": [
      "----------------------------------------------------------------------------------------------------\n",
      "Link Pred AUC\n"
     ]
    },
    {
     "data": {
      "text/plain": [
       "eve     0.557667\n",
       "mean    0.779000\n",
       "gcn     0.767000\n",
       "pool    0.727667\n",
       "dtype: float64"
      ]
     },
     "metadata": {},
     "output_type": "display_data"
    },
    {
     "name": "stdout",
     "output_type": "stream",
     "text": [
      "\n"
     ]
    },
    {
     "data": {
      "text/plain": [
       "eve     0.176398\n",
       "mean    0.002000\n",
       "gcn     0.010817\n",
       "pool    0.008622\n",
       "dtype: float64"
      ]
     },
     "metadata": {},
     "output_type": "display_data"
    },
    {
     "name": "stdout",
     "output_type": "stream",
     "text": [
      "\n",
      "\n"
     ]
    },
    {
     "name": "stderr",
     "output_type": "stream",
     "text": [
      "100%|██████████| 3/3 [02:59<00:00, 59.91s/it]\n",
      "100%|██████████| 3/3 [00:49<00:00, 16.61s/it]\n",
      "100%|██████████| 3/3 [00:46<00:00, 15.63s/it]\n",
      "100%|██████████| 3/3 [01:18<00:00, 26.30s/it]"
     ]
    },
    {
     "name": "stdout",
     "output_type": "stream",
     "text": [
      "==================================================  LAMBDA #4  ==================================================\n",
      "Classification Acc\n"
     ]
    },
    {
     "name": "stderr",
     "output_type": "stream",
     "text": [
      "\n"
     ]
    },
    {
     "data": {
      "text/plain": [
       "eve     0.590559\n",
       "mean    0.888478\n",
       "gcn     0.889243\n",
       "pool    0.885695\n",
       "dtype: float64"
      ]
     },
     "metadata": {},
     "output_type": "display_data"
    },
    {
     "name": "stdout",
     "output_type": "stream",
     "text": [
      "\n"
     ]
    },
    {
     "data": {
      "text/plain": [
       "eve     0.183851\n",
       "mean    0.005129\n",
       "gcn     0.003289\n",
       "pool    0.006747\n",
       "dtype: float64"
      ]
     },
     "metadata": {},
     "output_type": "display_data"
    },
    {
     "name": "stdout",
     "output_type": "stream",
     "text": [
      "----------------------------------------------------------------------------------------------------\n",
      "Link Pred AUC\n"
     ]
    },
    {
     "data": {
      "text/plain": [
       "eve     0.596000\n",
       "mean    0.754667\n",
       "gcn     0.784667\n",
       "pool    0.691667\n",
       "dtype: float64"
      ]
     },
     "metadata": {},
     "output_type": "display_data"
    },
    {
     "name": "stdout",
     "output_type": "stream",
     "text": [
      "\n"
     ]
    },
    {
     "data": {
      "text/plain": [
       "eve     0.169847\n",
       "mean    0.002517\n",
       "gcn     0.008737\n",
       "pool    0.057501\n",
       "dtype: float64"
      ]
     },
     "metadata": {},
     "output_type": "display_data"
    },
    {
     "name": "stdout",
     "output_type": "stream",
     "text": [
      "\n",
      "\n"
     ]
    },
    {
     "name": "stderr",
     "output_type": "stream",
     "text": [
      "100%|██████████| 3/3 [03:00<00:00, 60.17s/it]\n",
      "100%|██████████| 3/3 [00:49<00:00, 16.64s/it]\n",
      "100%|██████████| 3/3 [00:46<00:00, 15.62s/it]\n",
      "100%|██████████| 3/3 [01:17<00:00, 25.70s/it]"
     ]
    },
    {
     "name": "stdout",
     "output_type": "stream",
     "text": [
      "==================================================  LAMBDA #5  ==================================================\n",
      "Classification Acc\n"
     ]
    },
    {
     "name": "stderr",
     "output_type": "stream",
     "text": [
      "\n"
     ]
    },
    {
     "data": {
      "text/plain": [
       "eve     0.736758\n",
       "mean    0.906296\n",
       "gcn     0.897440\n",
       "pool    0.895481\n",
       "dtype: float64"
      ]
     },
     "metadata": {},
     "output_type": "display_data"
    },
    {
     "name": "stdout",
     "output_type": "stream",
     "text": [
      "\n"
     ]
    },
    {
     "data": {
      "text/plain": [
       "eve     0.107226\n",
       "mean    0.002338\n",
       "gcn     0.000282\n",
       "pool    0.001843\n",
       "dtype: float64"
      ]
     },
     "metadata": {},
     "output_type": "display_data"
    },
    {
     "name": "stdout",
     "output_type": "stream",
     "text": [
      "----------------------------------------------------------------------------------------------------\n",
      "Link Pred AUC\n"
     ]
    },
    {
     "data": {
      "text/plain": [
       "eve     0.524000\n",
       "mean    0.781667\n",
       "gcn     0.760667\n",
       "pool    0.720000\n",
       "dtype: float64"
      ]
     },
     "metadata": {},
     "output_type": "display_data"
    },
    {
     "name": "stdout",
     "output_type": "stream",
     "text": [
      "\n"
     ]
    },
    {
     "data": {
      "text/plain": [
       "eve     0.078937\n",
       "mean    0.002082\n",
       "gcn     0.002517\n",
       "pool    0.015621\n",
       "dtype: float64"
      ]
     },
     "metadata": {},
     "output_type": "display_data"
    },
    {
     "name": "stdout",
     "output_type": "stream",
     "text": [
      "\n",
      "\n"
     ]
    },
    {
     "name": "stderr",
     "output_type": "stream",
     "text": [
      "100%|██████████| 3/3 [02:59<00:00, 59.87s/it]\n",
      "100%|██████████| 3/3 [00:50<00:00, 16.68s/it]\n",
      "100%|██████████| 3/3 [00:46<00:00, 15.65s/it]\n",
      "100%|██████████| 3/3 [01:16<00:00, 25.64s/it]"
     ]
    },
    {
     "name": "stdout",
     "output_type": "stream",
     "text": [
      "==================================================  LAMBDA #6  ==================================================\n",
      "Classification Acc\n"
     ]
    },
    {
     "name": "stderr",
     "output_type": "stream",
     "text": [
      "\n"
     ]
    },
    {
     "data": {
      "text/plain": [
       "eve     0.511002\n",
       "mean    0.901835\n",
       "gcn     0.893696\n",
       "pool    0.897864\n",
       "dtype: float64"
      ]
     },
     "metadata": {},
     "output_type": "display_data"
    },
    {
     "name": "stdout",
     "output_type": "stream",
     "text": [
      "\n"
     ]
    },
    {
     "data": {
      "text/plain": [
       "eve     0.130921\n",
       "mean    0.000096\n",
       "gcn     0.000243\n",
       "pool    0.004758\n",
       "dtype: float64"
      ]
     },
     "metadata": {},
     "output_type": "display_data"
    },
    {
     "name": "stdout",
     "output_type": "stream",
     "text": [
      "----------------------------------------------------------------------------------------------------\n",
      "Link Pred AUC\n"
     ]
    },
    {
     "data": {
      "text/plain": [
       "eve     0.288667\n",
       "mean    0.784667\n",
       "gcn     0.771667\n",
       "pool    0.674667\n",
       "dtype: float64"
      ]
     },
     "metadata": {},
     "output_type": "display_data"
    },
    {
     "name": "stdout",
     "output_type": "stream",
     "text": [
      "\n"
     ]
    },
    {
     "data": {
      "text/plain": [
       "eve     0.165700\n",
       "mean    0.002309\n",
       "gcn     0.015044\n",
       "pool    0.026407\n",
       "dtype: float64"
      ]
     },
     "metadata": {},
     "output_type": "display_data"
    },
    {
     "name": "stdout",
     "output_type": "stream",
     "text": [
      "\n",
      "\n"
     ]
    },
    {
     "name": "stderr",
     "output_type": "stream",
     "text": [
      "100%|██████████| 3/3 [02:59<00:00, 59.80s/it]\n",
      "100%|██████████| 3/3 [00:49<00:00, 16.56s/it]\n",
      "100%|██████████| 3/3 [00:46<00:00, 15.59s/it]\n",
      "100%|██████████| 3/3 [01:17<00:00, 25.68s/it]"
     ]
    },
    {
     "name": "stdout",
     "output_type": "stream",
     "text": [
      "==================================================  LAMBDA #7  ==================================================\n",
      "Classification Acc\n"
     ]
    },
    {
     "name": "stderr",
     "output_type": "stream",
     "text": [
      "\n"
     ]
    },
    {
     "data": {
      "text/plain": [
       "eve     0.703585\n",
       "mean    0.904653\n",
       "gcn     0.894745\n",
       "pool    0.894045\n",
       "dtype: float64"
      ]
     },
     "metadata": {},
     "output_type": "display_data"
    },
    {
     "name": "stdout",
     "output_type": "stream",
     "text": [
      "\n"
     ]
    },
    {
     "data": {
      "text/plain": [
       "eve     0.213239\n",
       "mean    0.002631\n",
       "gcn     0.000332\n",
       "pool    0.007680\n",
       "dtype: float64"
      ]
     },
     "metadata": {},
     "output_type": "display_data"
    },
    {
     "name": "stdout",
     "output_type": "stream",
     "text": [
      "----------------------------------------------------------------------------------------------------\n",
      "Link Pred AUC\n"
     ]
    },
    {
     "data": {
      "text/plain": [
       "eve     0.554000\n",
       "mean    0.777667\n",
       "gcn     0.761667\n",
       "pool    0.715333\n",
       "dtype: float64"
      ]
     },
     "metadata": {},
     "output_type": "display_data"
    },
    {
     "name": "stdout",
     "output_type": "stream",
     "text": [
      "\n"
     ]
    },
    {
     "data": {
      "text/plain": [
       "eve     0.313125\n",
       "mean    0.004619\n",
       "gcn     0.011060\n",
       "pool    0.017502\n",
       "dtype: float64"
      ]
     },
     "metadata": {},
     "output_type": "display_data"
    },
    {
     "name": "stdout",
     "output_type": "stream",
     "text": [
      "\n",
      "\n"
     ]
    },
    {
     "name": "stderr",
     "output_type": "stream",
     "text": [
      "100%|██████████| 3/3 [02:57<00:00, 59.23s/it]\n",
      "100%|██████████| 3/3 [00:49<00:00, 16.60s/it]\n",
      "100%|██████████| 3/3 [00:46<00:00, 15.64s/it]\n",
      "100%|██████████| 3/3 [01:18<00:00, 26.15s/it]"
     ]
    },
    {
     "name": "stdout",
     "output_type": "stream",
     "text": [
      "==================================================  LAMBDA #8  ==================================================\n",
      "Classification Acc\n"
     ]
    },
    {
     "name": "stderr",
     "output_type": "stream",
     "text": [
      "\n"
     ]
    },
    {
     "data": {
      "text/plain": [
       "eve     0.490039\n",
       "mean    0.411692\n",
       "gcn     0.435267\n",
       "pool    0.617026\n",
       "dtype: float64"
      ]
     },
     "metadata": {},
     "output_type": "display_data"
    },
    {
     "name": "stdout",
     "output_type": "stream",
     "text": [
      "\n"
     ]
    },
    {
     "data": {
      "text/plain": [
       "eve     0.070107\n",
       "mean    0.002353\n",
       "gcn     0.016826\n",
       "pool    0.003053\n",
       "dtype: float64"
      ]
     },
     "metadata": {},
     "output_type": "display_data"
    },
    {
     "name": "stdout",
     "output_type": "stream",
     "text": [
      "----------------------------------------------------------------------------------------------------\n",
      "Link Pred AUC\n"
     ]
    },
    {
     "data": {
      "text/plain": [
       "eve     0.255667\n",
       "mean    0.388667\n",
       "gcn     0.333333\n",
       "pool    0.333333\n",
       "dtype: float64"
      ]
     },
     "metadata": {},
     "output_type": "display_data"
    },
    {
     "name": "stdout",
     "output_type": "stream",
     "text": [
      "\n"
     ]
    },
    {
     "data": {
      "text/plain": [
       "eve     0.131059\n",
       "mean    0.002887\n",
       "gcn     0.132824\n",
       "pool    0.132824\n",
       "dtype: float64"
      ]
     },
     "metadata": {},
     "output_type": "display_data"
    },
    {
     "name": "stdout",
     "output_type": "stream",
     "text": [
      "\n",
      "\n"
     ]
    }
   ],
   "source": [
    "\n",
    "res_pubmed = []\n",
    "for i, l in enumerate(funcs):\n",
    "    x = results.run_joint_train('PubMed', 3, epochs=1000, lamb=l)\n",
    "    res_pubmed.append(agg_res(x, name=f'Lambda #{i}'))"
   ]
  },
  {
   "cell_type": "code",
   "execution_count": 7,
   "metadata": {},
   "outputs": [
    {
     "name": "stderr",
     "output_type": "stream",
     "text": [
      "100%|██████████| 3/3 [05:30<00:00, 110.17s/it]\n",
      "100%|██████████| 3/3 [00:49<00:00, 16.37s/it]\n",
      "100%|██████████| 3/3 [00:44<00:00, 14.95s/it]\n",
      "100%|██████████| 3/3 [03:33<00:00, 71.01s/it]"
     ]
    },
    {
     "name": "stdout",
     "output_type": "stream",
     "text": [
      "==================================================  LAMBDA #0  ==================================================\n",
      "Classification Acc\n"
     ]
    },
    {
     "name": "stderr",
     "output_type": "stream",
     "text": [
      "\n"
     ]
    },
    {
     "data": {
      "text/plain": [
       "eve     0.531471\n",
       "mean    0.815377\n",
       "gcn     0.872618\n",
       "pool    0.772899\n",
       "dtype: float64"
      ]
     },
     "metadata": {},
     "output_type": "display_data"
    },
    {
     "name": "stdout",
     "output_type": "stream",
     "text": [
      "\n"
     ]
    },
    {
     "data": {
      "text/plain": [
       "eve     0.129804\n",
       "mean    0.008498\n",
       "gcn     0.006984\n",
       "pool    0.008662\n",
       "dtype: float64"
      ]
     },
     "metadata": {},
     "output_type": "display_data"
    },
    {
     "name": "stdout",
     "output_type": "stream",
     "text": [
      "----------------------------------------------------------------------------------------------------\n",
      "Link Pred AUC\n"
     ]
    },
    {
     "data": {
      "text/plain": [
       "eve     0.203667\n",
       "mean    0.601333\n",
       "gcn     0.562333\n",
       "pool    0.429000\n",
       "dtype: float64"
      ]
     },
     "metadata": {},
     "output_type": "display_data"
    },
    {
     "name": "stdout",
     "output_type": "stream",
     "text": [
      "\n"
     ]
    },
    {
     "data": {
      "text/plain": [
       "eve     0.025403\n",
       "mean    0.033486\n",
       "gcn     0.010970\n",
       "pool    0.060506\n",
       "dtype: float64"
      ]
     },
     "metadata": {},
     "output_type": "display_data"
    },
    {
     "name": "stdout",
     "output_type": "stream",
     "text": [
      "\n",
      "\n"
     ]
    },
    {
     "name": "stderr",
     "output_type": "stream",
     "text": [
      "100%|██████████| 3/3 [05:32<00:00, 110.79s/it]\n",
      "100%|██████████| 3/3 [00:49<00:00, 16.56s/it]\n",
      "100%|██████████| 3/3 [00:45<00:00, 15.14s/it]\n",
      "100%|██████████| 3/3 [03:33<00:00, 71.17s/it]"
     ]
    },
    {
     "name": "stdout",
     "output_type": "stream",
     "text": [
      "==================================================  LAMBDA #1  ==================================================\n",
      "Classification Acc\n"
     ]
    },
    {
     "name": "stderr",
     "output_type": "stream",
     "text": [
      "\n"
     ]
    },
    {
     "data": {
      "text/plain": [
       "eve     0.615503\n",
       "mean    0.833509\n",
       "gcn     0.874685\n",
       "pool    0.781270\n",
       "dtype: float64"
      ]
     },
     "metadata": {},
     "output_type": "display_data"
    },
    {
     "name": "stdout",
     "output_type": "stream",
     "text": [
      "\n"
     ]
    },
    {
     "data": {
      "text/plain": [
       "eve     0.057047\n",
       "mean    0.015245\n",
       "gcn     0.012711\n",
       "pool    0.029506\n",
       "dtype: float64"
      ]
     },
     "metadata": {},
     "output_type": "display_data"
    },
    {
     "name": "stdout",
     "output_type": "stream",
     "text": [
      "----------------------------------------------------------------------------------------------------\n",
      "Link Pred AUC\n"
     ]
    },
    {
     "data": {
      "text/plain": [
       "eve     0.241333\n",
       "mean    0.534333\n",
       "gcn     0.591667\n",
       "pool    0.459000\n",
       "dtype: float64"
      ]
     },
     "metadata": {},
     "output_type": "display_data"
    },
    {
     "name": "stdout",
     "output_type": "stream",
     "text": [
      "\n"
     ]
    },
    {
     "data": {
      "text/plain": [
       "eve     0.065310\n",
       "mean    0.015308\n",
       "gcn     0.044814\n",
       "pool    0.037162\n",
       "dtype: float64"
      ]
     },
     "metadata": {},
     "output_type": "display_data"
    },
    {
     "name": "stdout",
     "output_type": "stream",
     "text": [
      "\n",
      "\n"
     ]
    },
    {
     "name": "stderr",
     "output_type": "stream",
     "text": [
      "100%|██████████| 3/3 [05:33<00:00, 111.03s/it]\n",
      "100%|██████████| 3/3 [00:49<00:00, 16.47s/it]\n",
      "100%|██████████| 3/3 [00:45<00:00, 15.20s/it]\n",
      "100%|██████████| 3/3 [03:33<00:00, 71.27s/it]"
     ]
    },
    {
     "name": "stdout",
     "output_type": "stream",
     "text": [
      "==================================================  LAMBDA #2  ==================================================\n",
      "Classification Acc\n"
     ]
    },
    {
     "name": "stderr",
     "output_type": "stream",
     "text": [
      "\n"
     ]
    },
    {
     "data": {
      "text/plain": [
       "eve     0.558438\n",
       "mean    0.825293\n",
       "gcn     0.857457\n",
       "pool    0.792557\n",
       "dtype: float64"
      ]
     },
     "metadata": {},
     "output_type": "display_data"
    },
    {
     "name": "stdout",
     "output_type": "stream",
     "text": [
      "\n"
     ]
    },
    {
     "data": {
      "text/plain": [
       "eve     0.042071\n",
       "mean    0.020338\n",
       "gcn     0.006807\n",
       "pool    0.029489\n",
       "dtype: float64"
      ]
     },
     "metadata": {},
     "output_type": "display_data"
    },
    {
     "name": "stdout",
     "output_type": "stream",
     "text": [
      "----------------------------------------------------------------------------------------------------\n",
      "Link Pred AUC\n"
     ]
    },
    {
     "data": {
      "text/plain": [
       "eve     0.091000\n",
       "mean    0.524333\n",
       "gcn     0.529667\n",
       "pool    0.406000\n",
       "dtype: float64"
      ]
     },
     "metadata": {},
     "output_type": "display_data"
    },
    {
     "name": "stdout",
     "output_type": "stream",
     "text": [
      "\n"
     ]
    },
    {
     "data": {
      "text/plain": [
       "eve     0.000000\n",
       "mean    0.066531\n",
       "gcn     0.055501\n",
       "pool    0.036510\n",
       "dtype: float64"
      ]
     },
     "metadata": {},
     "output_type": "display_data"
    },
    {
     "name": "stdout",
     "output_type": "stream",
     "text": [
      "\n",
      "\n"
     ]
    },
    {
     "name": "stderr",
     "output_type": "stream",
     "text": [
      "100%|██████████| 3/3 [05:30<00:00, 110.28s/it]\n",
      "100%|██████████| 3/3 [00:48<00:00, 16.30s/it]\n",
      "100%|██████████| 3/3 [00:45<00:00, 15.27s/it]\n",
      "100%|██████████| 3/3 [03:33<00:00, 71.11s/it]"
     ]
    },
    {
     "name": "stdout",
     "output_type": "stream",
     "text": [
      "==================================================  LAMBDA #3  ==================================================\n",
      "Classification Acc\n"
     ]
    },
    {
     "name": "stderr",
     "output_type": "stream",
     "text": [
      "\n"
     ]
    },
    {
     "data": {
      "text/plain": [
       "eve     0.472445\n",
       "mean    0.838236\n",
       "gcn     0.875614\n",
       "pool    0.796503\n",
       "dtype: float64"
      ]
     },
     "metadata": {},
     "output_type": "display_data"
    },
    {
     "name": "stdout",
     "output_type": "stream",
     "text": [
      "\n"
     ]
    },
    {
     "data": {
      "text/plain": [
       "eve     0.006408\n",
       "mean    0.004139\n",
       "gcn     0.004953\n",
       "pool    0.006290\n",
       "dtype: float64"
      ]
     },
     "metadata": {},
     "output_type": "display_data"
    },
    {
     "name": "stdout",
     "output_type": "stream",
     "text": [
      "----------------------------------------------------------------------------------------------------\n",
      "Link Pred AUC\n"
     ]
    },
    {
     "data": {
      "text/plain": [
       "eve     0.148333\n",
       "mean    0.562333\n",
       "gcn     0.537000\n",
       "pool    0.423333\n",
       "dtype: float64"
      ]
     },
     "metadata": {},
     "output_type": "display_data"
    },
    {
     "name": "stdout",
     "output_type": "stream",
     "text": [
      "\n"
     ]
    },
    {
     "data": {
      "text/plain": [
       "eve     0.055985\n",
       "mean    0.029263\n",
       "gcn     0.026665\n",
       "pool    0.060929\n",
       "dtype: float64"
      ]
     },
     "metadata": {},
     "output_type": "display_data"
    },
    {
     "name": "stdout",
     "output_type": "stream",
     "text": [
      "\n",
      "\n"
     ]
    },
    {
     "name": "stderr",
     "output_type": "stream",
     "text": [
      "100%|██████████| 3/3 [05:33<00:00, 111.26s/it]\n",
      "100%|██████████| 3/3 [00:48<00:00, 16.30s/it]\n",
      "100%|██████████| 3/3 [00:45<00:00, 15.18s/it]\n",
      "100%|██████████| 3/3 [03:33<00:00, 71.31s/it]"
     ]
    },
    {
     "name": "stdout",
     "output_type": "stream",
     "text": [
      "==================================================  LAMBDA #4  ==================================================\n",
      "Classification Acc\n"
     ]
    },
    {
     "name": "stderr",
     "output_type": "stream",
     "text": [
      "\n"
     ]
    },
    {
     "data": {
      "text/plain": [
       "eve     0.574061\n",
       "mean    0.817383\n",
       "gcn     0.889597\n",
       "pool    0.734292\n",
       "dtype: float64"
      ]
     },
     "metadata": {},
     "output_type": "display_data"
    },
    {
     "name": "stdout",
     "output_type": "stream",
     "text": [
      "\n"
     ]
    },
    {
     "data": {
      "text/plain": [
       "eve     0.047335\n",
       "mean    0.002516\n",
       "gcn     0.003450\n",
       "pool    0.053557\n",
       "dtype: float64"
      ]
     },
     "metadata": {},
     "output_type": "display_data"
    },
    {
     "name": "stdout",
     "output_type": "stream",
     "text": [
      "----------------------------------------------------------------------------------------------------\n",
      "Link Pred AUC\n"
     ]
    },
    {
     "data": {
      "text/plain": [
       "eve     0.212333\n",
       "mean    0.565667\n",
       "gcn     0.612333\n",
       "pool    0.369000\n",
       "dtype: float64"
      ]
     },
     "metadata": {},
     "output_type": "display_data"
    },
    {
     "name": "stdout",
     "output_type": "stream",
     "text": [
      "\n"
     ]
    },
    {
     "data": {
      "text/plain": [
       "eve     0.054271\n",
       "mean    0.027465\n",
       "gcn     0.018009\n",
       "pool    0.054507\n",
       "dtype: float64"
      ]
     },
     "metadata": {},
     "output_type": "display_data"
    },
    {
     "name": "stdout",
     "output_type": "stream",
     "text": [
      "\n",
      "\n"
     ]
    },
    {
     "name": "stderr",
     "output_type": "stream",
     "text": [
      "100%|██████████| 3/3 [05:33<00:00, 111.05s/it]\n",
      "100%|██████████| 3/3 [00:49<00:00, 16.40s/it]\n",
      "100%|██████████| 3/3 [00:46<00:00, 15.40s/it]\n",
      "100%|██████████| 3/3 [03:33<00:00, 71.27s/it]"
     ]
    },
    {
     "name": "stdout",
     "output_type": "stream",
     "text": [
      "==================================================  LAMBDA #5  ==================================================\n",
      "Classification Acc\n"
     ]
    },
    {
     "name": "stderr",
     "output_type": "stream",
     "text": [
      "\n"
     ]
    },
    {
     "data": {
      "text/plain": [
       "eve     0.583193\n",
       "mean    0.830573\n",
       "gcn     0.852033\n",
       "pool    0.790753\n",
       "dtype: float64"
      ]
     },
     "metadata": {},
     "output_type": "display_data"
    },
    {
     "name": "stdout",
     "output_type": "stream",
     "text": [
      "\n"
     ]
    },
    {
     "data": {
      "text/plain": [
       "eve     0.151672\n",
       "mean    0.010877\n",
       "gcn     0.004251\n",
       "pool    0.011757\n",
       "dtype: float64"
      ]
     },
     "metadata": {},
     "output_type": "display_data"
    },
    {
     "name": "stdout",
     "output_type": "stream",
     "text": [
      "----------------------------------------------------------------------------------------------------\n",
      "Link Pred AUC\n"
     ]
    },
    {
     "data": {
      "text/plain": [
       "eve     0.213667\n",
       "mean    0.559667\n",
       "gcn     0.583333\n",
       "pool    0.386000\n",
       "dtype: float64"
      ]
     },
     "metadata": {},
     "output_type": "display_data"
    },
    {
     "name": "stdout",
     "output_type": "stream",
     "text": [
      "\n"
     ]
    },
    {
     "data": {
      "text/plain": [
       "eve     0.145809\n",
       "mean    0.066463\n",
       "gcn     0.018175\n",
       "pool    0.025710\n",
       "dtype: float64"
      ]
     },
     "metadata": {},
     "output_type": "display_data"
    },
    {
     "name": "stdout",
     "output_type": "stream",
     "text": [
      "\n",
      "\n"
     ]
    },
    {
     "name": "stderr",
     "output_type": "stream",
     "text": [
      "100%|██████████| 3/3 [05:29<00:00, 109.97s/it]\n",
      "100%|██████████| 3/3 [00:50<00:00, 16.70s/it]\n",
      "100%|██████████| 3/3 [00:45<00:00, 15.20s/it]\n",
      "100%|██████████| 3/3 [03:33<00:00, 71.20s/it]"
     ]
    },
    {
     "name": "stdout",
     "output_type": "stream",
     "text": [
      "==================================================  LAMBDA #6  ==================================================\n",
      "Classification Acc\n"
     ]
    },
    {
     "name": "stderr",
     "output_type": "stream",
     "text": [
      "\n"
     ]
    },
    {
     "data": {
      "text/plain": [
       "eve     0.503514\n",
       "mean    0.833904\n",
       "gcn     0.842367\n",
       "pool    0.798970\n",
       "dtype: float64"
      ]
     },
     "metadata": {},
     "output_type": "display_data"
    },
    {
     "name": "stdout",
     "output_type": "stream",
     "text": [
      "\n"
     ]
    },
    {
     "data": {
      "text/plain": [
       "eve     0.052707\n",
       "mean    0.005345\n",
       "gcn     0.008208\n",
       "pool    0.028670\n",
       "dtype: float64"
      ]
     },
     "metadata": {},
     "output_type": "display_data"
    },
    {
     "name": "stdout",
     "output_type": "stream",
     "text": [
      "----------------------------------------------------------------------------------------------------\n",
      "Link Pred AUC\n"
     ]
    },
    {
     "data": {
      "text/plain": [
       "eve     0.145000\n",
       "mean    0.559667\n",
       "gcn     0.549667\n",
       "pool    0.450667\n",
       "dtype: float64"
      ]
     },
     "metadata": {},
     "output_type": "display_data"
    },
    {
     "name": "stdout",
     "output_type": "stream",
     "text": [
      "\n"
     ]
    },
    {
     "data": {
      "text/plain": [
       "eve     0.054083\n",
       "mean    0.046058\n",
       "gcn     0.076944\n",
       "pool    0.027755\n",
       "dtype: float64"
      ]
     },
     "metadata": {},
     "output_type": "display_data"
    },
    {
     "name": "stdout",
     "output_type": "stream",
     "text": [
      "\n",
      "\n"
     ]
    },
    {
     "name": "stderr",
     "output_type": "stream",
     "text": [
      "100%|██████████| 3/3 [05:30<00:00, 110.12s/it]\n",
      "100%|██████████| 3/3 [00:49<00:00, 16.50s/it]\n",
      "100%|██████████| 3/3 [00:45<00:00, 15.29s/it]\n",
      "100%|██████████| 3/3 [03:34<00:00, 71.40s/it]"
     ]
    },
    {
     "name": "stdout",
     "output_type": "stream",
     "text": [
      "==================================================  LAMBDA #7  ==================================================\n",
      "Classification Acc\n"
     ]
    },
    {
     "name": "stderr",
     "output_type": "stream",
     "text": [
      "\n"
     ]
    },
    {
     "data": {
      "text/plain": [
       "eve     0.462246\n",
       "mean    0.822634\n",
       "gcn     0.860731\n",
       "pool    0.775889\n",
       "dtype: float64"
      ]
     },
     "metadata": {},
     "output_type": "display_data"
    },
    {
     "name": "stdout",
     "output_type": "stream",
     "text": [
      "\n"
     ]
    },
    {
     "data": {
      "text/plain": [
       "eve     0.034059\n",
       "mean    0.017225\n",
       "gcn     0.011266\n",
       "pool    0.012123\n",
       "dtype: float64"
      ]
     },
     "metadata": {},
     "output_type": "display_data"
    },
    {
     "name": "stdout",
     "output_type": "stream",
     "text": [
      "----------------------------------------------------------------------------------------------------\n",
      "Link Pred AUC\n"
     ]
    },
    {
     "data": {
      "text/plain": [
       "eve     0.081333\n",
       "mean    0.531000\n",
       "gcn     0.582667\n",
       "pool    0.460333\n",
       "dtype: float64"
      ]
     },
     "metadata": {},
     "output_type": "display_data"
    },
    {
     "name": "stdout",
     "output_type": "stream",
     "text": [
      "\n"
     ]
    },
    {
     "data": {
      "text/plain": [
       "eve     0.005774\n",
       "mean    0.063174\n",
       "gcn     0.047057\n",
       "pool    0.052786\n",
       "dtype: float64"
      ]
     },
     "metadata": {},
     "output_type": "display_data"
    },
    {
     "name": "stdout",
     "output_type": "stream",
     "text": [
      "\n",
      "\n"
     ]
    },
    {
     "name": "stderr",
     "output_type": "stream",
     "text": [
      "100%|██████████| 3/3 [05:36<00:00, 112.12s/it]\n",
      "100%|██████████| 3/3 [00:48<00:00, 16.31s/it]\n",
      "100%|██████████| 3/3 [00:46<00:00, 15.38s/it]\n",
      "100%|██████████| 3/3 [03:38<00:00, 72.97s/it]"
     ]
    },
    {
     "name": "stdout",
     "output_type": "stream",
     "text": [
      "==================================================  LAMBDA #8  ==================================================\n",
      "Classification Acc\n"
     ]
    },
    {
     "name": "stderr",
     "output_type": "stream",
     "text": [
      "\n"
     ]
    },
    {
     "data": {
      "text/plain": [
       "eve     0.514639\n",
       "mean    0.345779\n",
       "gcn     0.427796\n",
       "pool    0.547975\n",
       "dtype: float64"
      ]
     },
     "metadata": {},
     "output_type": "display_data"
    },
    {
     "name": "stdout",
     "output_type": "stream",
     "text": [
      "\n"
     ]
    },
    {
     "data": {
      "text/plain": [
       "eve     0.016192\n",
       "mean    0.008714\n",
       "gcn     0.010302\n",
       "pool    0.001127\n",
       "dtype: float64"
      ]
     },
     "metadata": {},
     "output_type": "display_data"
    },
    {
     "name": "stdout",
     "output_type": "stream",
     "text": [
      "----------------------------------------------------------------------------------------------------\n",
      "Link Pred AUC\n"
     ]
    },
    {
     "data": {
      "text/plain": [
       "eve     0.170333\n",
       "mean    0.180667\n",
       "gcn     0.193667\n",
       "pool    0.147000\n",
       "dtype: float64"
      ]
     },
     "metadata": {},
     "output_type": "display_data"
    },
    {
     "name": "stdout",
     "output_type": "stream",
     "text": [
      "\n"
     ]
    },
    {
     "data": {
      "text/plain": [
       "eve     0.011060\n",
       "mean    0.012503\n",
       "gcn     0.032884\n",
       "pool    0.060622\n",
       "dtype: float64"
      ]
     },
     "metadata": {},
     "output_type": "display_data"
    },
    {
     "name": "stdout",
     "output_type": "stream",
     "text": [
      "\n",
      "\n"
     ]
    }
   ],
   "source": [
    "res_citeseer = []\n",
    "for i, l in enumerate(funcs):\n",
    "    x = results.run_joint_train('CiteSeer', 3, epochs=1000, lamb=l)\n",
    "    res_citeseer.append(agg_res(x, name=f'Lambda #{i}'))"
   ]
  },
  {
   "cell_type": "code",
   "execution_count": null,
   "metadata": {},
   "outputs": [],
   "source": []
  }
 ],
 "metadata": {
  "kernelspec": {
   "display_name": "rwn",
   "language": "python",
   "name": "python3"
  },
  "language_info": {
   "codemirror_mode": {
    "name": "ipython",
    "version": 3
   },
   "file_extension": ".py",
   "mimetype": "text/x-python",
   "name": "python",
   "nbconvert_exporter": "python",
   "pygments_lexer": "ipython3",
   "version": "3.10.13"
  }
 },
 "nbformat": 4,
 "nbformat_minor": 2
}
