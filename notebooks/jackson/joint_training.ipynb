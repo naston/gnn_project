{
 "cells": [
  {
   "cell_type": "code",
   "execution_count": 1,
   "metadata": {},
   "outputs": [],
   "source": [
    "%load_ext autoreload\n",
    "%autoreload 2"
   ]
  },
  {
   "cell_type": "code",
   "execution_count": 2,
   "metadata": {},
   "outputs": [
    {
     "name": "stderr",
     "output_type": "stream",
     "text": [
      "d:\\ProgramData\\Anaconda3\\envs\\rwn\\lib\\site-packages\\tqdm\\auto.py:21: TqdmWarning: IProgress not found. Please update jupyter and ipywidgets. See https://ipywidgets.readthedocs.io/en/stable/user_install.html\n",
      "  from .autonotebook import tqdm as notebook_tqdm\n"
     ]
    }
   ],
   "source": [
    "import sys\n",
    "sys.path.insert(0, '../../')\n",
    "import src.results as results\n",
    "import pandas as pd"
   ]
  },
  {
   "cell_type": "code",
   "execution_count": 3,
   "metadata": {},
   "outputs": [],
   "source": [
    "def agg_res(res):\n",
    "    new_res = {'classification':{}, 'link_pred':{}}\n",
    "\n",
    "    for agg, runs in res.items():\n",
    "        new_res[agg] = {}\n",
    "        classification = []\n",
    "        link_pred = []\n",
    "        for r in runs:\n",
    "            classification.append(r[0][2])\n",
    "            link_pred.append(float(r[0][1].numpy()))\n",
    "        new_res['classification'][agg] = classification\n",
    "        new_res['link_pred'][agg] = link_pred\n",
    "\n",
    "\n",
    "    print('Classification Acc')\n",
    "    df = pd.DataFrame(new_res['classification'])\n",
    "    display(df.mean())\n",
    "    print()\n",
    "    display(df.std())\n",
    "\n",
    "    print('='*100)\n",
    "\n",
    "    print('Link Pred AUC')\n",
    "    df = pd.DataFrame(new_res['link_pred'])\n",
    "    display(df.mean())\n",
    "    print()\n",
    "    display(df.std())\n",
    "\n",
    "    return new_res\n"
   ]
  },
  {
   "cell_type": "code",
   "execution_count": 4,
   "metadata": {},
   "outputs": [
    {
     "name": "stderr",
     "output_type": "stream",
     "text": [
      "100%|██████████| 3/3 [4:23:52<00:00, 5277.39s/it]  \n",
      "100%|██████████| 3/3 [13:00<00:00, 260.24s/it]\n",
      "100%|██████████| 3/3 [06:46<00:00, 135.48s/it]\n",
      "100%|██████████| 3/3 [4:01:54<00:00, 4838.12s/it]  "
     ]
    },
    {
     "name": "stdout",
     "output_type": "stream",
     "text": [
      "Classification Acc\n"
     ]
    },
    {
     "name": "stderr",
     "output_type": "stream",
     "text": [
      "\n"
     ]
    },
    {
     "data": {
      "text/plain": [
       "eve     0.585949\n",
       "mean    0.814225\n",
       "gcn     0.896742\n",
       "pool    0.810440\n",
       "dtype: float64"
      ]
     },
     "metadata": {},
     "output_type": "display_data"
    },
    {
     "name": "stdout",
     "output_type": "stream",
     "text": [
      "\n"
     ]
    },
    {
     "data": {
      "text/plain": [
       "eve     0.130415\n",
       "mean    0.007494\n",
       "gcn     0.001611\n",
       "pool    0.006169\n",
       "dtype: float64"
      ]
     },
     "metadata": {},
     "output_type": "display_data"
    },
    {
     "name": "stdout",
     "output_type": "stream",
     "text": [
      "====================================================================================================\n",
      "Link Pred AUC\n"
     ]
    },
    {
     "data": {
      "text/plain": [
       "eve     0.270000\n",
       "mean    0.649333\n",
       "gcn     0.701333\n",
       "pool    0.470333\n",
       "dtype: float64"
      ]
     },
     "metadata": {},
     "output_type": "display_data"
    },
    {
     "name": "stdout",
     "output_type": "stream",
     "text": [
      "\n"
     ]
    },
    {
     "data": {
      "text/plain": [
       "eve     0.260617\n",
       "mean    0.044636\n",
       "gcn     0.032130\n",
       "pool    0.061134\n",
       "dtype: float64"
      ]
     },
     "metadata": {},
     "output_type": "display_data"
    },
    {
     "data": {
      "text/plain": [
       "{'classification': {'eve': [0.45658138855820846,\n",
       "   0.7173864019226882,\n",
       "   0.5838777206262213],\n",
       "  'mean': [0.8227470182610453, 0.8086655735495609, 0.8112612025785585],\n",
       "  'gcn': [0.8958495990656096, 0.8986015588149412, 0.895775925967521],\n",
       "  'pool': [0.8033170863188158, 0.8139502706587902, 0.8140526942341817]},\n",
       " 'link_pred': {'eve': [0.09099999815225601,\n",
       "   0.5690000057220459,\n",
       "   0.15000000596046448],\n",
       "  'mean': [0.6710000038146973, 0.5979999899864197, 0.6790000200271606],\n",
       "  'gcn': [0.7260000109672546, 0.6650000214576721, 0.7129999995231628],\n",
       "  'pool': [0.5289999842643738, 0.4749999940395355, 0.40700000524520874]},\n",
       " 'eve': {},\n",
       " 'mean': {},\n",
       " 'gcn': {},\n",
       " 'pool': {}}"
      ]
     },
     "execution_count": 4,
     "metadata": {},
     "output_type": "execute_result"
    }
   ],
   "source": [
    "res = results.run_joint_train('Cora', 3, epochs=1000)\n",
    "agg_res(res)\n"
   ]
  },
  {
   "cell_type": "code",
   "execution_count": 4,
   "metadata": {},
   "outputs": [
    {
     "name": "stderr",
     "output_type": "stream",
     "text": [
      "Using existing file ind.pubmed.x\n",
      "Downloading https://github.com/kimiyoung/planetoid/raw/master/data/ind.pubmed.tx\n",
      "Downloading https://github.com/kimiyoung/planetoid/raw/master/data/ind.pubmed.allx\n",
      "Downloading https://github.com/kimiyoung/planetoid/raw/master/data/ind.pubmed.y\n",
      "Downloading https://github.com/kimiyoung/planetoid/raw/master/data/ind.pubmed.ty\n",
      "Downloading https://github.com/kimiyoung/planetoid/raw/master/data/ind.pubmed.ally\n",
      "Downloading https://github.com/kimiyoung/planetoid/raw/master/data/ind.pubmed.graph\n",
      "Downloading https://github.com/kimiyoung/planetoid/raw/master/data/ind.pubmed.test.index\n",
      "Processing...\n",
      "Done!\n",
      "100%|██████████| 3/3 [4:48:28<00:00, 5769.60s/it]  \n",
      "100%|██████████| 3/3 [33:26<00:00, 668.95s/it]\n",
      "100%|██████████| 3/3 [18:03<00:00, 361.22s/it]\n",
      "100%|██████████| 3/3 [4:02:23<00:00, 4847.98s/it]  "
     ]
    },
    {
     "name": "stdout",
     "output_type": "stream",
     "text": [
      "Classification Acc\n"
     ]
    },
    {
     "name": "stderr",
     "output_type": "stream",
     "text": [
      "\n"
     ]
    },
    {
     "data": {
      "text/plain": [
       "eve     0.737060\n",
       "mean    0.898413\n",
       "gcn     0.893143\n",
       "pool    0.882820\n",
       "dtype: float64"
      ]
     },
     "metadata": {},
     "output_type": "display_data"
    },
    {
     "name": "stdout",
     "output_type": "stream",
     "text": [
      "\n"
     ]
    },
    {
     "data": {
      "text/plain": [
       "eve     0.053358\n",
       "mean    0.003586\n",
       "gcn     0.000245\n",
       "pool    0.006368\n",
       "dtype: float64"
      ]
     },
     "metadata": {},
     "output_type": "display_data"
    },
    {
     "name": "stdout",
     "output_type": "stream",
     "text": [
      "====================================================================================================\n",
      "Link Pred AUC\n"
     ]
    },
    {
     "data": {
      "text/plain": [
       "eve     0.698000\n",
       "mean    0.782667\n",
       "gcn     0.762333\n",
       "pool    0.706667\n",
       "dtype: float64"
      ]
     },
     "metadata": {},
     "output_type": "display_data"
    },
    {
     "name": "stdout",
     "output_type": "stream",
     "text": [
      "\n"
     ]
    },
    {
     "data": {
      "text/plain": [
       "eve     0.045924\n",
       "mean    0.008386\n",
       "gcn     0.001528\n",
       "pool    0.017954\n",
       "dtype: float64"
      ]
     },
     "metadata": {},
     "output_type": "display_data"
    },
    {
     "data": {
      "text/plain": [
       "{'classification': {'eve': [0.7518711349359434,\n",
       "   0.7814486305393821,\n",
       "   0.6778612228692052],\n",
       "  'mean': [0.8942732714834841, 0.900578519957415, 0.9003866285889299],\n",
       "  'gcn': [0.8932078015645974, 0.8933495405196372, 0.8928729621358122],\n",
       "  'pool': [0.876049974280422, 0.8837204425946351, 0.8886898652135274]},\n",
       " 'link_pred': {'eve': [0.7260000109672546,\n",
       "   0.6449999809265137,\n",
       "   0.7229999899864197],\n",
       "  'mean': [0.7870000004768372, 0.7730000019073486, 0.7879999876022339],\n",
       "  'gcn': [0.7639999985694885, 0.7609999775886536, 0.7620000243186951],\n",
       "  'pool': [0.6930000185966492, 0.7269999980926514, 0.699999988079071]},\n",
       " 'eve': {},\n",
       " 'mean': {},\n",
       " 'gcn': {},\n",
       " 'pool': {}}"
      ]
     },
     "execution_count": 4,
     "metadata": {},
     "output_type": "execute_result"
    }
   ],
   "source": [
    "# Do it with pubmed\n",
    "\n",
    "res = results.run_joint_train('PubMed', 3, epochs=1000)\n",
    "agg_res(res)"
   ]
  },
  {
   "cell_type": "code",
   "execution_count": null,
   "metadata": {},
   "outputs": [],
   "source": [
    "\n"
   ]
  },
  {
   "cell_type": "code",
   "execution_count": null,
   "metadata": {},
   "outputs": [],
   "source": []
  },
  {
   "cell_type": "code",
   "execution_count": 4,
   "metadata": {},
   "outputs": [
    {
     "name": "stderr",
     "output_type": "stream",
     "text": [
      "100%|██████████| 3/3 [35:02<00:00, 700.84s/it]\n",
      "100%|██████████| 3/3 [17:42<00:00, 354.15s/it]"
     ]
    },
    {
     "name": "stdout",
     "output_type": "stream",
     "text": [
      "Classification Acc\n"
     ]
    },
    {
     "name": "stderr",
     "output_type": "stream",
     "text": [
      "\n"
     ]
    },
    {
     "data": {
      "text/plain": [
       "mean    0.825211\n",
       "gcn     0.859321\n",
       "dtype: float64"
      ]
     },
     "metadata": {},
     "output_type": "display_data"
    },
    {
     "name": "stdout",
     "output_type": "stream",
     "text": [
      "\n"
     ]
    },
    {
     "data": {
      "text/plain": [
       "mean    0.013721\n",
       "gcn     0.019146\n",
       "dtype: float64"
      ]
     },
     "metadata": {},
     "output_type": "display_data"
    },
    {
     "name": "stdout",
     "output_type": "stream",
     "text": [
      "====================================================================================================\n",
      "Link Pred AUC\n"
     ]
    },
    {
     "data": {
      "text/plain": [
       "mean    0.550000\n",
       "gcn     0.557333\n",
       "dtype: float64"
      ]
     },
     "metadata": {},
     "output_type": "display_data"
    },
    {
     "name": "stdout",
     "output_type": "stream",
     "text": [
      "\n"
     ]
    },
    {
     "data": {
      "text/plain": [
       "mean    0.048446\n",
       "gcn     0.043662\n",
       "dtype: float64"
      ]
     },
     "metadata": {},
     "output_type": "display_data"
    },
    {
     "data": {
      "text/plain": [
       "{'classification': {'mean': [0.8130249969810408,\n",
       "   0.8225347180292236,\n",
       "   0.8400724550175099],\n",
       "  'gcn': [0.8664859316507669, 0.8376258905929236, 0.8738521917642798]},\n",
       " 'link_pred': {'mean': [0.5920000076293945,\n",
       "   0.5609999895095825,\n",
       "   0.4970000088214874],\n",
       "  'gcn': [0.6069999933242798, 0.5249999761581421, 0.5400000214576721]},\n",
       " 'mean': {},\n",
       " 'gcn': {}}"
      ]
     },
     "execution_count": 4,
     "metadata": {},
     "output_type": "execute_result"
    }
   ],
   "source": [
    "res = results.run_joint_train('CiteSeer', 3, epochs=1000)\n",
    "agg_res(res)"
   ]
  },
  {
   "cell_type": "code",
   "execution_count": 5,
   "metadata": {},
   "outputs": [
    {
     "name": "stderr",
     "output_type": "stream",
     "text": [
      "100%|██████████| 3/3 [39:10:08<00:00, 47003.00s/it]   "
     ]
    },
    {
     "name": "stdout",
     "output_type": "stream",
     "text": [
      "Classification Acc\n"
     ]
    },
    {
     "name": "stderr",
     "output_type": "stream",
     "text": [
      "\n"
     ]
    },
    {
     "data": {
      "text/plain": [
       "eve    0.538279\n",
       "dtype: float64"
      ]
     },
     "metadata": {},
     "output_type": "display_data"
    },
    {
     "name": "stdout",
     "output_type": "stream",
     "text": [
      "\n"
     ]
    },
    {
     "data": {
      "text/plain": [
       "eve    0.043107\n",
       "dtype: float64"
      ]
     },
     "metadata": {},
     "output_type": "display_data"
    },
    {
     "name": "stdout",
     "output_type": "stream",
     "text": [
      "====================================================================================================\n",
      "Link Pred AUC\n"
     ]
    },
    {
     "data": {
      "text/plain": [
       "eve    0.157667\n",
       "dtype: float64"
      ]
     },
     "metadata": {},
     "output_type": "display_data"
    },
    {
     "name": "stdout",
     "output_type": "stream",
     "text": [
      "\n"
     ]
    },
    {
     "data": {
      "text/plain": [
       "eve    0.057735\n",
       "dtype: float64"
      ]
     },
     "metadata": {},
     "output_type": "display_data"
    },
    {
     "data": {
      "text/plain": [
       "{'classification': {'eve': [0.49997282936843374,\n",
       "   0.5849583383649316,\n",
       "   0.529905808477237]},\n",
       " 'link_pred': {'eve': [0.19099999964237213,\n",
       "   0.19099999964237213,\n",
       "   0.09099999815225601]},\n",
       " 'eve': {}}"
      ]
     },
     "execution_count": 5,
     "metadata": {},
     "output_type": "execute_result"
    }
   ],
   "source": [
    "res = results.run_joint_train('CiteSeer', 3, epochs=1000)\n",
    "agg_res(res)"
   ]
  },
  {
   "cell_type": "code",
   "execution_count": 4,
   "metadata": {},
   "outputs": [
    {
     "name": "stderr",
     "output_type": "stream",
     "text": [
      "100%|██████████| 3/3 [38:38:32<00:00, 46370.81s/it]   "
     ]
    },
    {
     "name": "stdout",
     "output_type": "stream",
     "text": [
      "Classification Acc\n"
     ]
    },
    {
     "name": "stderr",
     "output_type": "stream",
     "text": [
      "\n"
     ]
    },
    {
     "data": {
      "text/plain": [
       "pool    0.778197\n",
       "dtype: float64"
      ]
     },
     "metadata": {},
     "output_type": "display_data"
    },
    {
     "name": "stdout",
     "output_type": "stream",
     "text": [
      "\n"
     ]
    },
    {
     "data": {
      "text/plain": [
       "pool    0.006094\n",
       "dtype: float64"
      ]
     },
     "metadata": {},
     "output_type": "display_data"
    },
    {
     "name": "stdout",
     "output_type": "stream",
     "text": [
      "====================================================================================================\n",
      "Link Pred AUC\n"
     ]
    },
    {
     "data": {
      "text/plain": [
       "pool    0.403667\n",
       "dtype: float64"
      ]
     },
     "metadata": {},
     "output_type": "display_data"
    },
    {
     "name": "stdout",
     "output_type": "stream",
     "text": [
      "\n"
     ]
    },
    {
     "data": {
      "text/plain": [
       "pool    0.035501\n",
       "dtype: float64"
      ]
     },
     "metadata": {},
     "output_type": "display_data"
    },
    {
     "data": {
      "text/plain": [
       "{'classification': {'pool': [0.7715879724670933,\n",
       "   0.7835949764521193,\n",
       "   0.7794082840236686]},\n",
       " 'link_pred': {'pool': [0.37400001287460327,\n",
       "   0.39399999380111694,\n",
       "   0.4429999887943268]},\n",
       " 'pool': {}}"
      ]
     },
     "execution_count": 4,
     "metadata": {},
     "output_type": "execute_result"
    }
   ],
   "source": [
    "res = results.run_joint_train('CiteSeer', 3, epochs=1000)\n",
    "agg_res(res)"
   ]
  },
  {
   "cell_type": "code",
   "execution_count": null,
   "metadata": {},
   "outputs": [],
   "source": []
  }
 ],
 "metadata": {
  "kernelspec": {
   "display_name": "rwn",
   "language": "python",
   "name": "python3"
  },
  "language_info": {
   "codemirror_mode": {
    "name": "ipython",
    "version": 3
   },
   "file_extension": ".py",
   "mimetype": "text/x-python",
   "name": "python",
   "nbconvert_exporter": "python",
   "pygments_lexer": "ipython3",
   "version": "3.10.13"
  }
 },
 "nbformat": 4,
 "nbformat_minor": 2
}
