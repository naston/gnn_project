{
 "cells": [
  {
   "cell_type": "code",
   "execution_count": 1,
   "metadata": {},
   "outputs": [],
   "source": [
    "%load_ext autoreload\n",
    "%autoreload 2"
   ]
  },
  {
   "cell_type": "code",
   "execution_count": 2,
   "metadata": {},
   "outputs": [
    {
     "name": "stderr",
     "output_type": "stream",
     "text": [
      "d:\\ProgramData\\Anaconda3\\envs\\rwn\\lib\\site-packages\\tqdm\\auto.py:21: TqdmWarning: IProgress not found. Please update jupyter and ipywidgets. See https://ipywidgets.readthedocs.io/en/stable/user_install.html\n",
      "  from .autonotebook import tqdm as notebook_tqdm\n"
     ]
    }
   ],
   "source": [
    "import sys\n",
    "sys.path.insert(0, '../../')\n",
    "import src.results as results\n",
    "import pandas as pd\n",
    "from math import sqrt"
   ]
  },
  {
   "cell_type": "code",
   "execution_count": 3,
   "metadata": {},
   "outputs": [],
   "source": [
    "def agg_res(res, name=None):\n",
    "    new_res = {'classification':{}, 'link_pred':{}}\n",
    "\n",
    "    for agg, runs in res.items():\n",
    "        new_res[agg] = {}\n",
    "        classification = []\n",
    "        link_pred = []\n",
    "        for r in runs:\n",
    "            classification.append(r[0][2])\n",
    "            link_pred.append(float(r[0][1].cpu().numpy()))\n",
    "        new_res['classification'][agg] = classification\n",
    "        new_res['link_pred'][agg] = link_pred\n",
    "\n",
    "    if name is not None:\n",
    "        print('=' * 50, f' {name.upper()} ', '='*50)\n",
    "    print('Classification Acc')\n",
    "    df = pd.DataFrame(new_res['classification'])\n",
    "    display(df.mean())\n",
    "    print()\n",
    "    display(df.std())\n",
    "\n",
    "    print('-'*100)\n",
    "\n",
    "    print('Link Pred AUC')\n",
    "    df = pd.DataFrame(new_res['link_pred'])\n",
    "    display(df.mean())\n",
    "    print()\n",
    "    display(df.std())\n",
    "    print()\n",
    "    print()\n",
    "\n",
    "    return new_res\n"
   ]
  },
  {
   "cell_type": "code",
   "execution_count": 4,
   "metadata": {},
   "outputs": [],
   "source": [
    "funcs = [\n",
    "    lambda x, y: 0.5,  # 0 \n",
    "    lambda x, y: 0.9,  # 1\n",
    "    lambda x, y: 0.1,  # 2\n",
    "    lambda x, y: 0.25,  # 3\n",
    "    lambda x, y: 0.75,  # 4\n",
    "    lambda x, y: x / y,  # 5\n",
    "\n",
    "    # These next three have no rationale but fuck it who cares\n",
    "    lambda x, y: (x / y) ** 2,\n",
    "    lambda x, y: sqrt(x / y),\n",
    "    lambda x, y: y / x\n",
    "    ]"
   ]
  },
  {
   "cell_type": "code",
   "execution_count": 5,
   "metadata": {},
   "outputs": [
    {
     "name": "stderr",
     "output_type": "stream",
     "text": [
      "100%|██████████| 3/3 [01:57<00:00, 39.24s/it]\n",
      "100%|██████████| 3/3 [00:49<00:00, 16.65s/it]\n",
      "100%|██████████| 3/3 [00:45<00:00, 15.11s/it]\n",
      "100%|██████████| 3/3 [01:01<00:00, 20.66s/it]"
     ]
    },
    {
     "name": "stdout",
     "output_type": "stream",
     "text": [
      "==================================================  LAMBDA #0  ==================================================\n",
      "Classification Acc\n"
     ]
    },
    {
     "name": "stderr",
     "output_type": "stream",
     "text": [
      "\n"
     ]
    },
    {
     "data": {
      "text/plain": [
       "eve     0.693270\n",
       "mean    0.824131\n",
       "gcn     0.889204\n",
       "pool    0.815684\n",
       "dtype: float64"
      ]
     },
     "metadata": {},
     "output_type": "display_data"
    },
    {
     "name": "stdout",
     "output_type": "stream",
     "text": [
      "\n"
     ]
    },
    {
     "data": {
      "text/plain": [
       "eve     0.192849\n",
       "mean    0.002011\n",
       "gcn     0.016488\n",
       "pool    0.007536\n",
       "dtype: float64"
      ]
     },
     "metadata": {},
     "output_type": "display_data"
    },
    {
     "name": "stdout",
     "output_type": "stream",
     "text": [
      "----------------------------------------------------------------------------------------------------\n",
      "Link Pred AUC\n"
     ]
    },
    {
     "data": {
      "text/plain": [
       "eve     0.541000\n",
       "mean    0.687000\n",
       "gcn     0.745667\n",
       "pool    0.546000\n",
       "dtype: float64"
      ]
     },
     "metadata": {},
     "output_type": "display_data"
    },
    {
     "name": "stdout",
     "output_type": "stream",
     "text": [
      "\n"
     ]
    },
    {
     "data": {
      "text/plain": [
       "eve     0.201167\n",
       "mean    0.018248\n",
       "gcn     0.014503\n",
       "pool    0.042790\n",
       "dtype: float64"
      ]
     },
     "metadata": {},
     "output_type": "display_data"
    },
    {
     "name": "stdout",
     "output_type": "stream",
     "text": [
      "\n",
      "\n"
     ]
    },
    {
     "name": "stderr",
     "output_type": "stream",
     "text": [
      "100%|██████████| 3/3 [01:48<00:00, 36.24s/it]\n",
      "100%|██████████| 3/3 [00:46<00:00, 15.43s/it]\n",
      "100%|██████████| 3/3 [00:43<00:00, 14.46s/it]\n",
      "100%|██████████| 3/3 [00:57<00:00, 19.31s/it]"
     ]
    },
    {
     "name": "stdout",
     "output_type": "stream",
     "text": [
      "==================================================  LAMBDA #1  ==================================================\n",
      "Classification Acc\n"
     ]
    },
    {
     "name": "stderr",
     "output_type": "stream",
     "text": [
      "\n"
     ]
    },
    {
     "data": {
      "text/plain": [
       "eve     0.581513\n",
       "mean    0.839083\n",
       "gcn     0.878868\n",
       "pool    0.814413\n",
       "dtype: float64"
      ]
     },
     "metadata": {},
     "output_type": "display_data"
    },
    {
     "name": "stdout",
     "output_type": "stream",
     "text": [
      "\n"
     ]
    },
    {
     "data": {
      "text/plain": [
       "eve     0.156024\n",
       "mean    0.010378\n",
       "gcn     0.011416\n",
       "pool    0.004945\n",
       "dtype: float64"
      ]
     },
     "metadata": {},
     "output_type": "display_data"
    },
    {
     "name": "stdout",
     "output_type": "stream",
     "text": [
      "----------------------------------------------------------------------------------------------------\n",
      "Link Pred AUC\n"
     ]
    },
    {
     "data": {
      "text/plain": [
       "eve     0.235667\n",
       "mean    0.688000\n",
       "gcn     0.744667\n",
       "pool    0.582667\n",
       "dtype: float64"
      ]
     },
     "metadata": {},
     "output_type": "display_data"
    },
    {
     "name": "stdout",
     "output_type": "stream",
     "text": [
      "\n"
     ]
    },
    {
     "data": {
      "text/plain": [
       "eve     0.241918\n",
       "mean    0.022605\n",
       "gcn     0.010017\n",
       "pool    0.023438\n",
       "dtype: float64"
      ]
     },
     "metadata": {},
     "output_type": "display_data"
    },
    {
     "name": "stdout",
     "output_type": "stream",
     "text": [
      "\n",
      "\n"
     ]
    },
    {
     "name": "stderr",
     "output_type": "stream",
     "text": [
      "100%|██████████| 3/3 [01:49<00:00, 36.41s/it]\n",
      "100%|██████████| 3/3 [00:47<00:00, 15.91s/it]\n",
      "100%|██████████| 3/3 [00:44<00:00, 14.71s/it]\n",
      "100%|██████████| 3/3 [00:57<00:00, 19.22s/it]"
     ]
    },
    {
     "name": "stdout",
     "output_type": "stream",
     "text": [
      "==================================================  LAMBDA #2  ==================================================\n",
      "Classification Acc\n"
     ]
    },
    {
     "name": "stderr",
     "output_type": "stream",
     "text": [
      "\n"
     ]
    },
    {
     "data": {
      "text/plain": [
       "eve     0.543675\n",
       "mean    0.807874\n",
       "gcn     0.848827\n",
       "pool    0.817937\n",
       "dtype: float64"
      ]
     },
     "metadata": {},
     "output_type": "display_data"
    },
    {
     "name": "stdout",
     "output_type": "stream",
     "text": [
      "\n"
     ]
    },
    {
     "data": {
      "text/plain": [
       "eve     0.156214\n",
       "mean    0.008260\n",
       "gcn     0.008893\n",
       "pool    0.003621\n",
       "dtype: float64"
      ]
     },
     "metadata": {},
     "output_type": "display_data"
    },
    {
     "name": "stdout",
     "output_type": "stream",
     "text": [
      "----------------------------------------------------------------------------------------------------\n",
      "Link Pred AUC\n"
     ]
    },
    {
     "data": {
      "text/plain": [
       "eve     0.347333\n",
       "mean    0.689333\n",
       "gcn     0.703333\n",
       "pool    0.516333\n",
       "dtype: float64"
      ]
     },
     "metadata": {},
     "output_type": "display_data"
    },
    {
     "name": "stdout",
     "output_type": "stream",
     "text": [
      "\n"
     ]
    },
    {
     "data": {
      "text/plain": [
       "eve     0.062931\n",
       "mean    0.002517\n",
       "gcn     0.019296\n",
       "pool    0.041621\n",
       "dtype: float64"
      ]
     },
     "metadata": {},
     "output_type": "display_data"
    },
    {
     "name": "stdout",
     "output_type": "stream",
     "text": [
      "\n",
      "\n"
     ]
    },
    {
     "name": "stderr",
     "output_type": "stream",
     "text": [
      "100%|██████████| 3/3 [01:46<00:00, 35.45s/it]\n",
      "100%|██████████| 3/3 [00:46<00:00, 15.37s/it]\n",
      "100%|██████████| 3/3 [00:42<00:00, 14.11s/it]\n",
      "100%|██████████| 3/3 [00:56<00:00, 18.85s/it]"
     ]
    },
    {
     "name": "stdout",
     "output_type": "stream",
     "text": [
      "==================================================  LAMBDA #3  ==================================================\n",
      "Classification Acc\n"
     ]
    },
    {
     "name": "stderr",
     "output_type": "stream",
     "text": [
      "\n"
     ]
    },
    {
     "data": {
      "text/plain": [
       "eve     0.538901\n",
       "mean    0.825410\n",
       "gcn     0.875650\n",
       "pool    0.801704\n",
       "dtype: float64"
      ]
     },
     "metadata": {},
     "output_type": "display_data"
    },
    {
     "name": "stdout",
     "output_type": "stream",
     "text": [
      "\n"
     ]
    },
    {
     "data": {
      "text/plain": [
       "eve     0.186266\n",
       "mean    0.006484\n",
       "gcn     0.009937\n",
       "pool    0.008632\n",
       "dtype: float64"
      ]
     },
     "metadata": {},
     "output_type": "display_data"
    },
    {
     "name": "stdout",
     "output_type": "stream",
     "text": [
      "----------------------------------------------------------------------------------------------------\n",
      "Link Pred AUC\n"
     ]
    },
    {
     "data": {
      "text/plain": [
       "eve     0.280000\n",
       "mean    0.654000\n",
       "gcn     0.710333\n",
       "pool    0.508000\n",
       "dtype: float64"
      ]
     },
     "metadata": {},
     "output_type": "display_data"
    },
    {
     "name": "stdout",
     "output_type": "stream",
     "text": [
      "\n"
     ]
    },
    {
     "data": {
      "text/plain": [
       "eve     0.126028\n",
       "mean    0.060696\n",
       "gcn     0.022502\n",
       "pool    0.008660\n",
       "dtype: float64"
      ]
     },
     "metadata": {},
     "output_type": "display_data"
    },
    {
     "name": "stdout",
     "output_type": "stream",
     "text": [
      "\n",
      "\n"
     ]
    },
    {
     "name": "stderr",
     "output_type": "stream",
     "text": [
      "100%|██████████| 3/3 [01:44<00:00, 34.91s/it]\n",
      "100%|██████████| 3/3 [00:45<00:00, 15.23s/it]\n",
      "100%|██████████| 3/3 [00:42<00:00, 14.28s/it]\n",
      "100%|██████████| 3/3 [00:56<00:00, 18.93s/it]"
     ]
    },
    {
     "name": "stdout",
     "output_type": "stream",
     "text": [
      "==================================================  LAMBDA #4  ==================================================\n",
      "Classification Acc\n"
     ]
    },
    {
     "name": "stderr",
     "output_type": "stream",
     "text": [
      "\n"
     ]
    },
    {
     "data": {
      "text/plain": [
       "eve     0.653280\n",
       "mean    0.826052\n",
       "gcn     0.878767\n",
       "pool    0.814096\n",
       "dtype: float64"
      ]
     },
     "metadata": {},
     "output_type": "display_data"
    },
    {
     "name": "stdout",
     "output_type": "stream",
     "text": [
      "\n"
     ]
    },
    {
     "data": {
      "text/plain": [
       "eve     0.174410\n",
       "mean    0.009351\n",
       "gcn     0.005152\n",
       "pool    0.015775\n",
       "dtype: float64"
      ]
     },
     "metadata": {},
     "output_type": "display_data"
    },
    {
     "name": "stdout",
     "output_type": "stream",
     "text": [
      "----------------------------------------------------------------------------------------------------\n",
      "Link Pred AUC\n"
     ]
    },
    {
     "data": {
      "text/plain": [
       "eve     0.374000\n",
       "mean    0.685667\n",
       "gcn     0.742333\n",
       "pool    0.551667\n",
       "dtype: float64"
      ]
     },
     "metadata": {},
     "output_type": "display_data"
    },
    {
     "name": "stdout",
     "output_type": "stream",
     "text": [
      "\n"
     ]
    },
    {
     "data": {
      "text/plain": [
       "eve     0.255971\n",
       "mean    0.054602\n",
       "gcn     0.012423\n",
       "pool    0.019140\n",
       "dtype: float64"
      ]
     },
     "metadata": {},
     "output_type": "display_data"
    },
    {
     "name": "stdout",
     "output_type": "stream",
     "text": [
      "\n",
      "\n"
     ]
    },
    {
     "name": "stderr",
     "output_type": "stream",
     "text": [
      "100%|██████████| 3/3 [01:44<00:00, 34.92s/it]\n",
      "100%|██████████| 3/3 [00:45<00:00, 15.19s/it]\n",
      "100%|██████████| 3/3 [00:42<00:00, 14.15s/it]\n",
      "100%|██████████| 3/3 [00:56<00:00, 18.88s/it]"
     ]
    },
    {
     "name": "stdout",
     "output_type": "stream",
     "text": [
      "==================================================  LAMBDA #5  ==================================================\n",
      "Classification Acc\n"
     ]
    },
    {
     "name": "stderr",
     "output_type": "stream",
     "text": [
      "\n"
     ]
    },
    {
     "data": {
      "text/plain": [
       "eve     0.622631\n",
       "mean    0.815912\n",
       "gcn     0.867191\n",
       "pool    0.748634\n",
       "dtype: float64"
      ]
     },
     "metadata": {},
     "output_type": "display_data"
    },
    {
     "name": "stdout",
     "output_type": "stream",
     "text": [
      "\n"
     ]
    },
    {
     "data": {
      "text/plain": [
       "eve     0.214712\n",
       "mean    0.003868\n",
       "gcn     0.008732\n",
       "pool    0.105190\n",
       "dtype: float64"
      ]
     },
     "metadata": {},
     "output_type": "display_data"
    },
    {
     "name": "stdout",
     "output_type": "stream",
     "text": [
      "----------------------------------------------------------------------------------------------------\n",
      "Link Pred AUC\n"
     ]
    },
    {
     "data": {
      "text/plain": [
       "eve     0.374333\n",
       "mean    0.656333\n",
       "gcn     0.704000\n",
       "pool    0.494333\n",
       "dtype: float64"
      ]
     },
     "metadata": {},
     "output_type": "display_data"
    },
    {
     "name": "stdout",
     "output_type": "stream",
     "text": [
      "\n"
     ]
    },
    {
     "data": {
      "text/plain": [
       "eve     0.280949\n",
       "mean    0.006658\n",
       "gcn     0.014731\n",
       "pool    0.100858\n",
       "dtype: float64"
      ]
     },
     "metadata": {},
     "output_type": "display_data"
    },
    {
     "name": "stdout",
     "output_type": "stream",
     "text": [
      "\n",
      "\n"
     ]
    },
    {
     "name": "stderr",
     "output_type": "stream",
     "text": [
      "100%|██████████| 3/3 [01:44<00:00, 34.89s/it]\n",
      "100%|██████████| 3/3 [00:45<00:00, 15.28s/it]\n",
      "100%|██████████| 3/3 [00:42<00:00, 14.20s/it]\n",
      "100%|██████████| 3/3 [00:56<00:00, 18.80s/it]"
     ]
    },
    {
     "name": "stdout",
     "output_type": "stream",
     "text": [
      "==================================================  LAMBDA #6  ==================================================\n",
      "Classification Acc\n"
     ]
    },
    {
     "name": "stderr",
     "output_type": "stream",
     "text": [
      "\n"
     ]
    },
    {
     "data": {
      "text/plain": [
       "eve     0.499801\n",
       "mean    0.815820\n",
       "gcn     0.842414\n",
       "pool    0.814319\n",
       "dtype: float64"
      ]
     },
     "metadata": {},
     "output_type": "display_data"
    },
    {
     "name": "stdout",
     "output_type": "stream",
     "text": [
      "\n"
     ]
    },
    {
     "data": {
      "text/plain": [
       "eve     0.068093\n",
       "mean    0.007933\n",
       "gcn     0.004439\n",
       "pool    0.011929\n",
       "dtype: float64"
      ]
     },
     "metadata": {},
     "output_type": "display_data"
    },
    {
     "name": "stdout",
     "output_type": "stream",
     "text": [
      "----------------------------------------------------------------------------------------------------\n",
      "Link Pred AUC\n"
     ]
    },
    {
     "data": {
      "text/plain": [
       "eve     0.127667\n",
       "mean    0.645000\n",
       "gcn     0.695333\n",
       "pool    0.515333\n",
       "dtype: float64"
      ]
     },
     "metadata": {},
     "output_type": "display_data"
    },
    {
     "name": "stdout",
     "output_type": "stream",
     "text": [
      "\n"
     ]
    },
    {
     "data": {
      "text/plain": [
       "eve     0.030022\n",
       "mean    0.023516\n",
       "gcn     0.015275\n",
       "pool    0.009074\n",
       "dtype: float64"
      ]
     },
     "metadata": {},
     "output_type": "display_data"
    },
    {
     "name": "stdout",
     "output_type": "stream",
     "text": [
      "\n",
      "\n"
     ]
    },
    {
     "name": "stderr",
     "output_type": "stream",
     "text": [
      "100%|██████████| 3/3 [01:44<00:00, 34.93s/it]\n",
      "100%|██████████| 3/3 [00:45<00:00, 15.16s/it]\n",
      "100%|██████████| 3/3 [00:42<00:00, 14.32s/it]\n",
      "100%|██████████| 3/3 [00:56<00:00, 18.82s/it]"
     ]
    },
    {
     "name": "stdout",
     "output_type": "stream",
     "text": [
      "==================================================  LAMBDA #7  ==================================================\n",
      "Classification Acc\n"
     ]
    },
    {
     "name": "stderr",
     "output_type": "stream",
     "text": [
      "\n"
     ]
    },
    {
     "data": {
      "text/plain": [
       "eve     0.489508\n",
       "mean    0.818079\n",
       "gcn     0.874165\n",
       "pool    0.805804\n",
       "dtype: float64"
      ]
     },
     "metadata": {},
     "output_type": "display_data"
    },
    {
     "name": "stdout",
     "output_type": "stream",
     "text": [
      "\n"
     ]
    },
    {
     "data": {
      "text/plain": [
       "eve     0.154519\n",
       "mean    0.004556\n",
       "gcn     0.003628\n",
       "pool    0.006098\n",
       "dtype: float64"
      ]
     },
     "metadata": {},
     "output_type": "display_data"
    },
    {
     "name": "stdout",
     "output_type": "stream",
     "text": [
      "----------------------------------------------------------------------------------------------------\n",
      "Link Pred AUC\n"
     ]
    },
    {
     "data": {
      "text/plain": [
       "eve     0.139000\n",
       "mean    0.687333\n",
       "gcn     0.737333\n",
       "pool    0.527333\n",
       "dtype: float64"
      ]
     },
     "metadata": {},
     "output_type": "display_data"
    },
    {
     "name": "stdout",
     "output_type": "stream",
     "text": [
      "\n"
     ]
    },
    {
     "data": {
      "text/plain": [
       "eve     0.072629\n",
       "mean    0.032130\n",
       "gcn     0.023692\n",
       "pool    0.056977\n",
       "dtype: float64"
      ]
     },
     "metadata": {},
     "output_type": "display_data"
    },
    {
     "name": "stdout",
     "output_type": "stream",
     "text": [
      "\n",
      "\n"
     ]
    },
    {
     "name": "stderr",
     "output_type": "stream",
     "text": [
      "100%|██████████| 3/3 [01:43<00:00, 34.65s/it]\n",
      "100%|██████████| 3/3 [00:45<00:00, 15.29s/it]\n",
      "100%|██████████| 3/3 [00:42<00:00, 14.17s/it]\n",
      "100%|██████████| 3/3 [00:57<00:00, 19.22s/it]"
     ]
    },
    {
     "name": "stdout",
     "output_type": "stream",
     "text": [
      "==================================================  LAMBDA #8  ==================================================\n",
      "Classification Acc\n"
     ]
    },
    {
     "name": "stderr",
     "output_type": "stream",
     "text": [
      "\n"
     ]
    },
    {
     "data": {
      "text/plain": [
       "eve     0.480556\n",
       "mean    0.458999\n",
       "gcn     0.481751\n",
       "pool    0.538447\n",
       "dtype: float64"
      ]
     },
     "metadata": {},
     "output_type": "display_data"
    },
    {
     "name": "stdout",
     "output_type": "stream",
     "text": [
      "\n"
     ]
    },
    {
     "data": {
      "text/plain": [
       "eve     0.061350\n",
       "mean    0.002349\n",
       "gcn     0.002858\n",
       "pool    0.001548\n",
       "dtype: float64"
      ]
     },
     "metadata": {},
     "output_type": "display_data"
    },
    {
     "name": "stdout",
     "output_type": "stream",
     "text": [
      "----------------------------------------------------------------------------------------------------\n",
      "Link Pred AUC\n"
     ]
    },
    {
     "data": {
      "text/plain": [
       "eve     0.110333\n",
       "mean    0.098333\n",
       "gcn     0.105333\n",
       "pool    0.077000\n",
       "dtype: float64"
      ]
     },
     "metadata": {},
     "output_type": "display_data"
    },
    {
     "name": "stdout",
     "output_type": "stream",
     "text": [
      "\n"
     ]
    },
    {
     "data": {
      "text/plain": [
       "eve     0.033486\n",
       "mean    0.026858\n",
       "gcn     0.042548\n",
       "pool    0.022517\n",
       "dtype: float64"
      ]
     },
     "metadata": {},
     "output_type": "display_data"
    },
    {
     "name": "stdout",
     "output_type": "stream",
     "text": [
      "\n",
      "\n"
     ]
    }
   ],
   "source": [
    "res = []\n",
    "for i, l in enumerate(funcs):\n",
    "    x = results.run_joint_train('Cora', 3, epochs=1000, lamb=l)\n",
    "    res.append(agg_res(x, name=f'Lambda #{i}'))"
   ]
  },
  {
   "cell_type": "code",
   "execution_count": null,
   "metadata": {},
   "outputs": [],
   "source": [
    "\n",
    "res_pubmed = []\n",
    "for i, l in enumerate(funcs):\n",
    "    x = results.run_joint_train('PubMed', 3, epochs=1000, lamb=l)\n",
    "    res_pubmed.append(agg_res(x, name=f'Lambda #{i}'))"
   ]
  },
  {
   "cell_type": "code",
   "execution_count": null,
   "metadata": {},
   "outputs": [],
   "source": [
    "res_citeseer = []\n",
    "for i, l in enumerate(funcs):\n",
    "    x = results.run_joint_train('CiteSeer', 3, epochs=1000, lamb=l)\n",
    "    res_citeseer.append(agg_res(x, name=f'Lambda #{i}'))"
   ]
  },
  {
   "cell_type": "code",
   "execution_count": null,
   "metadata": {},
   "outputs": [],
   "source": []
  }
 ],
 "metadata": {
  "kernelspec": {
   "display_name": "rwn",
   "language": "python",
   "name": "python3"
  },
  "language_info": {
   "codemirror_mode": {
    "name": "ipython",
    "version": 3
   },
   "file_extension": ".py",
   "mimetype": "text/x-python",
   "name": "python",
   "nbconvert_exporter": "python",
   "pygments_lexer": "ipython3",
   "version": "3.10.13"
  }
 },
 "nbformat": 4,
 "nbformat_minor": 2
}
