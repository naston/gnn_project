{
 "cells": [
  {
   "cell_type": "code",
   "execution_count": 1,
   "metadata": {},
   "outputs": [],
   "source": [
    "%load_ext autoreload\n",
    "%autoreload 2"
   ]
  },
  {
   "cell_type": "code",
   "execution_count": 2,
   "metadata": {},
   "outputs": [
    {
     "name": "stderr",
     "output_type": "stream",
     "text": [
      "d:\\ProgramData\\Anaconda3\\envs\\rwn\\lib\\site-packages\\tqdm\\auto.py:21: TqdmWarning: IProgress not found. Please update jupyter and ipywidgets. See https://ipywidgets.readthedocs.io/en/stable/user_install.html\n",
      "  from .autonotebook import tqdm as notebook_tqdm\n"
     ]
    }
   ],
   "source": [
    "import sys\n",
    "sys.path.insert(0, '../../')\n",
    "import src.results as results\n",
    "import pandas as pd\n",
    "from math import sqrt"
   ]
  },
  {
   "cell_type": "code",
   "execution_count": 3,
   "metadata": {},
   "outputs": [],
   "source": [
    "def agg_res(res, name=None):\n",
    "    new_res = {'classification':{}, 'link_pred':{}}\n",
    "\n",
    "    for agg, runs in res.items():\n",
    "        new_res[agg] = {}\n",
    "        classification = []\n",
    "        link_pred = []\n",
    "        for r in runs:\n",
    "            classification.append(r[0][2])\n",
    "            link_pred.append(float(r[0][1].cpu().numpy()))\n",
    "        new_res['classification'][agg] = classification\n",
    "        new_res['link_pred'][agg] = link_pred\n",
    "\n",
    "    if name is not None:\n",
    "        print('=' * 50, f' {name.upper()} ', '='*50)\n",
    "    print('Classification Acc')\n",
    "    df = pd.DataFrame(new_res['classification'])\n",
    "    display(df.mean())\n",
    "    print()\n",
    "    display(df.std())\n",
    "\n",
    "    print('-'*100)\n",
    "\n",
    "    print('Link Pred AUC')\n",
    "    df = pd.DataFrame(new_res['link_pred'])\n",
    "    display(df.mean())\n",
    "    print()\n",
    "    display(df.std())\n",
    "    print()\n",
    "    print()\n",
    "\n",
    "    return new_res\n"
   ]
  },
  {
   "cell_type": "code",
   "execution_count": 4,
   "metadata": {},
   "outputs": [],
   "source": [
    "funcs = [\n",
    "    lambda x, y: 0.5,\n",
    "    lambda x, y: 0.9,\n",
    "    lambda x, y: 0.1,\n",
    "    lambda x, y: 0.25,\n",
    "    lambda x, y: 0.75,\n",
    "    lambda x, y: x / y,\n",
    "\n",
    "    # These next three have no rationale but fuck it who cares\n",
    "    lambda x, y: (x / y) ** 2,\n",
    "    lambda x, y: sqrt(x / y),\n",
    "    lambda x, y: y / x\n",
    "    ]"
   ]
  },
  {
   "cell_type": "code",
   "execution_count": 5,
   "metadata": {},
   "outputs": [
    {
     "name": "stderr",
     "output_type": "stream",
     "text": [
      "100%|██████████| 3/3 [01:54<00:00, 38.28s/it]\n",
      " 67%|██████▋   | 2/3 [00:33<00:16, 16.64s/it]"
     ]
    }
   ],
   "source": [
    "res = []\n",
    "for i, l in enumerate(funcs):\n",
    "    x = results.run_joint_train('Cora', 3, epochs=1000, lamb=l)\n",
    "    res.append(agg_res(x, name=f'Lambda #{i}'))"
   ]
  },
  {
   "cell_type": "code",
   "execution_count": null,
   "metadata": {},
   "outputs": [],
   "source": [
    "\n",
    "res_pubmed = []\n",
    "for i, l in enumerate(funcs):\n",
    "    x = results.run_joint_train('PubMed', 3, epochs=1000, lamb=l)\n",
    "    res_pubmed.append(agg_res(x, name=f'Lambda #{i}'))"
   ]
  },
  {
   "cell_type": "code",
   "execution_count": null,
   "metadata": {},
   "outputs": [],
   "source": [
    "res_citeseer = []\n",
    "for i, l in enumerate(funcs):\n",
    "    x = results.run_joint_train('CiteSeer', 3, epochs=1000, lamb=l)\n",
    "    res_citeseer.append(agg_res(x, name=f'Lambda #{i}'))"
   ]
  },
  {
   "cell_type": "code",
   "execution_count": null,
   "metadata": {},
   "outputs": [],
   "source": []
  }
 ],
 "metadata": {
  "kernelspec": {
   "display_name": "rwn",
   "language": "python",
   "name": "python3"
  },
  "language_info": {
   "codemirror_mode": {
    "name": "ipython",
    "version": 3
   },
   "file_extension": ".py",
   "mimetype": "text/x-python",
   "name": "python",
   "nbconvert_exporter": "python",
   "pygments_lexer": "ipython3",
   "version": "3.10.13"
  }
 },
 "nbformat": 4,
 "nbformat_minor": 2
}
