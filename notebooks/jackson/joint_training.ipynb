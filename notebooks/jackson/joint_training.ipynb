{
 "cells": [
  {
   "cell_type": "code",
   "execution_count": null,
   "metadata": {},
   "outputs": [],
   "source": [
    "import sys\n",
    "sys.path.insert(0, '../../')"
   ]
  },
  {
   "cell_type": "code",
   "execution_count": null,
   "metadata": {},
   "outputs": [],
   "source": [
    "import src.results as results\n",
    "import pandas as pd"
   ]
  },
  {
   "cell_type": "code",
   "execution_count": null,
   "metadata": {},
   "outputs": [],
   "source": [
    "res = results.run_joint_train('Cora', 3)"
   ]
  },
  {
   "cell_type": "code",
   "execution_count": null,
   "metadata": {},
   "outputs": [],
   "source": [
    "new_res = {'classification':{}, 'link_pred':{}}\n",
    "\n",
    "for agg, runs in res.items():\n",
    "    new_res[agg] = {}\n",
    "    classification = []\n",
    "    link_pred = []\n",
    "    for r in runs:\n",
    "        classification.append(r[0][1])\n",
    "        link_pred.append(float(r[0][2].numpy()))\n",
    "    new_res['classification'][agg] = classification\n",
    "    new_res['link_pred'][agg] = link_pred\n",
    "\n",
    "\n",
    "print('Classification Acc')\n",
    "df = pd.DataFrame(new_res['classification'])\n",
    "display(df.mean())\n",
    "print()\n",
    "display(df.std())\n",
    "\n",
    "print('='*100)\n",
    "\n",
    "print('Link Pred AUC')\n",
    "df = pd.DataFrame(new_res['link_pred'])\n",
    "display(df.mean())\n",
    "print()\n",
    "display(df.std())"
   ]
  },
  {
   "cell_type": "code",
   "execution_count": null,
   "metadata": {},
   "outputs": [],
   "source": []
  }
 ],
 "metadata": {
  "kernelspec": {
   "display_name": "rwn",
   "language": "python",
   "name": "python3"
  },
  "language_info": {
   "codemirror_mode": {
    "name": "ipython",
    "version": 3
   },
   "file_extension": ".py",
   "mimetype": "text/x-python",
   "name": "python",
   "nbconvert_exporter": "python",
   "pygments_lexer": "ipython3",
   "version": "3.10.13"
  }
 },
 "nbformat": 4,
 "nbformat_minor": 2
}
