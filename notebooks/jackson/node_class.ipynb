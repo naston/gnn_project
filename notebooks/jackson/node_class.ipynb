{
 "cells": [
  {
   "cell_type": "code",
   "execution_count": 1,
   "metadata": {},
   "outputs": [
    {
     "name": "stderr",
     "output_type": "stream",
     "text": [
      "d:\\ProgramData\\Anaconda3\\envs\\rwn\\lib\\site-packages\\tqdm\\auto.py:21: TqdmWarning: IProgress not found. Please update jupyter and ipywidgets. See https://ipywidgets.readthedocs.io/en/stable/user_install.html\n",
      "  from .autonotebook import tqdm as notebook_tqdm\n"
     ]
    }
   ],
   "source": [
    "import networkx as nx\n",
    "import numpy as np\n",
    "import matplotlib.pyplot as plt\n",
    "from torch_geometric.nn import GCNConv\n",
    "import torch\n",
    "import torch.nn.functional as F\n",
    "from torch_geometric.datasets import Planetoid\n",
    "from torch_geometric.transforms import NormalizeFeatures"
   ]
  },
  {
   "cell_type": "code",
   "execution_count": 19,
   "metadata": {},
   "outputs": [],
   "source": [
    "cora = Planetoid(root='data/Planetoid', name='Cora', transform=NormalizeFeatures())"
   ]
  },
  {
   "cell_type": "code",
   "execution_count": 20,
   "metadata": {},
   "outputs": [
    {
     "name": "stdout",
     "output_type": "stream",
     "text": [
      "Data(x=[2708, 1433], edge_index=[2, 10556], y=[2708], train_mask=[2708], val_mask=[2708], test_mask=[2708])\n"
     ]
    }
   ],
   "source": [
    "print(cora[0])"
   ]
  },
  {
   "cell_type": "code",
   "execution_count": 42,
   "metadata": {},
   "outputs": [],
   "source": [
    "\n",
    "# Basic Graph Convolutional Network\n",
    "class GCN(torch.nn.Module):\n",
    "    def __init__(self, n_features, n_classes, n_channels=32, seed=29034875):\n",
    "        super().__init__()\n",
    "        torch.manual_seed(seed)\n",
    "        self.conv1 = GCNConv(n_features, n_channels)\n",
    "        self.conv2 = GCNConv(n_channels, n_classes)\n",
    "\n",
    "    def forward(self, x, edge_index):\n",
    "        x = self.conv1(x, edge_index)\n",
    "        x = x.relu()\n",
    "        x = F.dropout(x, p=0.5, training=self.training)\n",
    "        x = self.conv2(x, edge_index)\n",
    "        return x\n",
    "\n",
    "\n",
    "def train_epoch(model, optimizer, criterion, dataset):\n",
    "    model.train()\n",
    "    optimizer.zero_grad()\n",
    "    out = model(dataset.x, dataset.edge_index)\n",
    "    loss = criterion(out[dataset.train_mask], dataset.y[dataset.train_mask])\n",
    "    loss.backward()\n",
    "    optimizer.step()\n",
    "    pred = out.argmax(dim=1)\n",
    "    acc = pred[dataset.train_mask] == dataset.y[dataset.train_mask]\n",
    "    acc = acc.sum() / len(acc)\n",
    "    return loss, acc\n",
    "\n",
    "def test(model, dataset):\n",
    "    model.eval()\n",
    "    out = model(dataset.x, dataset.edge_index)\n",
    "    pred = out.argmax(dim=1)\n",
    "    correct = pred[dataset.test_mask] == dataset.y[dataset.test_mask]\n",
    "    acc = correct.sum() / dataset.test_mask.sum()\n",
    "\n",
    "    return acc"
   ]
  },
  {
   "cell_type": "code",
   "execution_count": 43,
   "metadata": {},
   "outputs": [],
   "source": [
    "dataset = cora[0]\n",
    "model = GCN(cora.num_features, cora.num_classes)\n",
    "optimizer = torch.optim.Adam(model.parameters(), lr=0.01, weight_decay=5e-4) # Must be tuned\n",
    "criterion = torch.nn.CrossEntropyLoss()"
   ]
  },
  {
   "cell_type": "code",
   "execution_count": 44,
   "metadata": {},
   "outputs": [
    {
     "name": "stdout",
     "output_type": "stream",
     "text": [
      " Epoch  |  Loss  | Acc\n",
      "-----------------------\n",
      "    0  |  1.9463  |  0.14\n",
      "    1  |  1.9391  |  0.26\n",
      "    2  |  1.9308  |  0.46\n",
      "    3  |  1.9184  |  0.67\n",
      "    4  |  1.9069  |  0.60\n",
      "    5  |  1.8950  |  0.64\n",
      "    6  |  1.8853  |  0.67\n",
      "    7  |  1.8653  |  0.79\n",
      "    8  |  1.8508  |  0.81\n",
      "    9  |  1.8341  |  0.76\n",
      "   10  |  1.8164  |  0.78\n",
      "   11  |  1.7934  |  0.81\n",
      "   12  |  1.7713  |  0.84\n",
      "   13  |  1.7647  |  0.81\n",
      "   14  |  1.7402  |  0.77\n",
      "   15  |  1.7126  |  0.86\n",
      "   16  |  1.6789  |  0.87\n",
      "   17  |  1.6667  |  0.88\n",
      "   18  |  1.6306  |  0.90\n",
      "   19  |  1.6145  |  0.93\n",
      "   20  |  1.5841  |  0.89\n",
      "   21  |  1.5485  |  0.86\n",
      "   22  |  1.5322  |  0.88\n",
      "   23  |  1.5065  |  0.90\n",
      "   24  |  1.4835  |  0.88\n",
      "   25  |  1.4621  |  0.89\n",
      "   26  |  1.4184  |  0.89\n",
      "   27  |  1.3812  |  0.92\n",
      "   28  |  1.3346  |  0.89\n",
      "   29  |  1.3207  |  0.89\n",
      "   30  |  1.2985  |  0.90\n",
      "   31  |  1.2605  |  0.88\n",
      "   32  |  1.2286  |  0.94\n",
      "   33  |  1.2083  |  0.92\n",
      "   34  |  1.1449  |  0.94\n",
      "   35  |  1.1525  |  0.93\n",
      "   36  |  1.1285  |  0.96\n",
      "   37  |  1.0586  |  0.95\n",
      "   38  |  1.0633  |  0.94\n",
      "   39  |  1.0127  |  0.94\n",
      "   40  |  0.9968  |  0.94\n",
      "   41  |  0.9607  |  0.92\n",
      "   42  |  0.9285  |  0.95\n",
      "   43  |  0.9302  |  0.93\n",
      "   44  |  0.8858  |  0.94\n",
      "   45  |  0.8558  |  0.94\n",
      "   46  |  0.8424  |  0.94\n",
      "   47  |  0.8522  |  0.94\n",
      "   48  |  0.7874  |  0.93\n",
      "   49  |  0.7512  |  0.92\n",
      "   50  |  0.7591  |  0.94\n",
      "   51  |  0.7297  |  0.94\n",
      "   52  |  0.7163  |  0.96\n",
      "   53  |  0.7150  |  0.95\n",
      "   54  |  0.6816  |  0.95\n",
      "   55  |  0.6796  |  0.94\n",
      "   56  |  0.6609  |  0.96\n",
      "   57  |  0.6494  |  0.96\n",
      "   58  |  0.6245  |  0.97\n",
      "   59  |  0.6163  |  0.96\n",
      "   60  |  0.6197  |  0.96\n",
      "   61  |  0.6165  |  0.93\n",
      "   62  |  0.5945  |  0.96\n",
      "   63  |  0.5538  |  0.96\n",
      "   64  |  0.5404  |  0.97\n",
      "   65  |  0.5289  |  0.96\n",
      "   66  |  0.5444  |  0.95\n",
      "   67  |  0.5131  |  0.96\n",
      "   68  |  0.5049  |  0.97\n",
      "   69  |  0.5245  |  0.97\n",
      "   70  |  0.4919  |  0.97\n",
      "   71  |  0.4895  |  0.96\n",
      "   72  |  0.4973  |  0.96\n",
      "   73  |  0.4669  |  0.96\n",
      "   74  |  0.4842  |  0.97\n",
      "   75  |  0.4834  |  0.98\n",
      "   76  |  0.4588  |  0.97\n",
      "   77  |  0.4551  |  0.99\n",
      "   78  |  0.4601  |  0.96\n",
      "   79  |  0.4713  |  0.94\n",
      "   80  |  0.4637  |  0.94\n",
      "   81  |  0.4243  |  0.96\n",
      "   82  |  0.4400  |  0.97\n",
      "   83  |  0.3967  |  0.99\n",
      "   84  |  0.4355  |  0.97\n",
      "   85  |  0.4250  |  0.98\n",
      "   86  |  0.3912  |  0.98\n",
      "   87  |  0.3955  |  0.99\n",
      "   88  |  0.3997  |  0.98\n",
      "   89  |  0.3986  |  0.98\n",
      "   90  |  0.4067  |  0.98\n",
      "   91  |  0.3585  |  0.96\n",
      "   92  |  0.3740  |  0.97\n",
      "   93  |  0.3854  |  0.97\n",
      "   94  |  0.3807  |  0.99\n",
      "   95  |  0.3639  |  0.98\n",
      "   96  |  0.3483  |  0.97\n",
      "   97  |  0.3614  |  0.96\n",
      "   98  |  0.3533  |  0.98\n",
      "   99  |  0.3846  |  0.96\n"
     ]
    }
   ],
   "source": [
    "# Train for 100 epochs\n",
    "print(' Epoch  |  Loss  | Acc')\n",
    "print('-----------------------')\n",
    "for e in range(100):\n",
    "    l, acc = train_epoch(model, optimizer, criterion, dataset)\n",
    "    print(f'  {e:3d}  |  {l:-.4f}  |  {acc:0.2f}')\n"
   ]
  },
  {
   "cell_type": "code",
   "execution_count": 45,
   "metadata": {},
   "outputs": [
    {
     "name": "stdout",
     "output_type": "stream",
     "text": [
      "Test Accuracy: 0.81\n"
     ]
    }
   ],
   "source": [
    "# Get test acc\n",
    "acc = test(model, dataset)\n",
    "print(f'Test Accuracy: {acc:.2f}')"
   ]
  },
  {
   "cell_type": "code",
   "execution_count": null,
   "metadata": {},
   "outputs": [],
   "source": []
  }
 ],
 "metadata": {
  "kernelspec": {
   "display_name": "Python 3 (ipykernel)",
   "language": "python",
   "name": "python3"
  },
  "language_info": {
   "codemirror_mode": {
    "name": "ipython",
    "version": 3
   },
   "file_extension": ".py",
   "mimetype": "text/x-python",
   "name": "python",
   "nbconvert_exporter": "python",
   "pygments_lexer": "ipython3",
   "version": "3.11.4"
  }
 },
 "nbformat": 4,
 "nbformat_minor": 4
}
